{
 "cells": [
  {
   "cell_type": "markdown",
   "id": "bda483c4",
   "metadata": {},
   "source": [
    "#### Run the following code to load the unprocessed real-life data in batches and store all of it into an HDF5 file that's easier to load"
   ]
  },
  {
   "cell_type": "code",
   "execution_count": null,
   "id": "65a59a30",
   "metadata": {},
   "outputs": [],
   "source": [
    "#  Import the real target data from the RecogniChess local folder (../chess-dataset/labeled_originals) \n",
    "\n",
    "# Define the shape of the resized images (aspect ratio is 6:4, so we need to maintain it in the formula below)\n",
    "resized_shape = (2048, int(2048 * 4000 / 6000))\n",
    "\n",
    "# Batch loading of images\n",
    "for i, filename in enumerate(os.listdir(path)):\n",
    "    if filename.endswith('.jpg') or filename.endswith('.JPG'):\n",
    "        img_path = os.path.join(path, filename)\n",
    "        img = cv2.imread(img_path)\n",
    "        target_dataset.append(img)\n",
    "        \n",
    "        # If batch size is reached, process the batch and clear the list\n",
    "        if len(target_dataset) == batch_size or i == len(os.listdir(path))-1:\n",
    "            # Process batch\n",
    "            print(f\"Processing batch {i//batch_size+1}\")\n",
    "            # Resize the images\n",
    "            resized_batch = []\n",
    "            for image in tqdm(target_dataset, desc=\"Resizing images\"):\n",
    "                resized_image = cv2.resize(image, resized_shape)\n",
    "                resized_batch.append(resized_image)\n",
    "                \n",
    "            # Append resized images to the full dataset\n",
    "            resized_dataset.extend(resized_batch)\n",
    "            \n",
    "            # Clear the list\n",
    "            target_dataset = []"
   ]
  },
  {
   "cell_type": "code",
   "execution_count": null,
   "id": "dcb3dfa0",
   "metadata": {},
   "outputs": [],
   "source": [
    "# Convert the dataset to a numpy array and save to HDF5 file\n",
    "with h5py.File('resized_dataset.hdf5', 'w') as f:\n",
    "    dset = f.create_dataset(\"target_images\", data=np.array(resized_dataset))"
   ]
  },
  {
   "cell_type": "markdown",
   "id": "60563dac",
   "metadata": {},
   "source": [
    "#### RE-START KERNEL ####"
   ]
  },
  {
   "cell_type": "code",
   "execution_count": null,
   "id": "7b0121bd",
   "metadata": {},
   "outputs": [],
   "source": [
    "# Load the target dataset from the HDF5 file in the RecogniChess local folder\n",
    "with h5py.File('resized_dataset.hdf5', 'r') as f:\n",
    "    resized_dataset = np.array(f['target_images'][:])"
   ]
  },
  {
   "cell_type": "code",
   "execution_count": null,
   "id": "bf5342c4",
   "metadata": {},
   "outputs": [],
   "source": [
    "# Display one image to verify it worked\n",
    "display(Image(data=cv2.imencode('.jpg', resized_dataset[323])[1].tobytes(), format='jpeg'))"
   ]
  }
 ],
 "metadata": {
  "kernelspec": {
   "display_name": "Python 3 (ipykernel)",
   "language": "python",
   "name": "python3"
  },
  "language_info": {
   "codemirror_mode": {
    "name": "ipython",
    "version": 3
   },
   "file_extension": ".py",
   "mimetype": "text/x-python",
   "name": "python",
   "nbconvert_exporter": "python",
   "pygments_lexer": "ipython3",
   "version": "3.10.6"
  }
 },
 "nbformat": 4,
 "nbformat_minor": 5
}
