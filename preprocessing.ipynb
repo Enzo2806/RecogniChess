{
 "cells": [
  {
   "attachments": {},
   "cell_type": "markdown",
   "metadata": {},
   "source": [
    "We will start by importing all required libraries."
   ]
  },
  {
   "cell_type": "code",
   "execution_count": null,
   "metadata": {},
   "outputs": [],
   "source": [
    "import numpy as np\n",
    "import matplotlib.pyplot as plt\n",
    "import os\n",
    "import shutil\n",
    "from PIL import Image\n",
    "\n",
    "from PIL import JpegImagePlugin\n",
    "JpegImagePlugin._getmp = lambda x: None"
   ]
  },
  {
   "attachments": {},
   "cell_type": "markdown",
   "metadata": {},
   "source": [
    "We can now start by importing a single real-life image"
   ]
  },
  {
   "cell_type": "code",
   "execution_count": null,
   "metadata": {},
   "outputs": [],
   "source": [
    "image = Image.open(\n",
    "    \"Real life data/Original/1q1r4-r5k1-P1B1Q1p1-2p5-3bNP2-6P1-PP3P2-R5K1.JPG\")\n",
    "image_arr = np.array(image)\n",
    "plt.imshow(image_arr)"
   ]
  },
  {
   "attachments": {},
   "cell_type": "markdown",
   "metadata": {},
   "source": [
    "We will now proceed to define a function that converts an image's FEN notation into a vector where entry 1 represents a1, entry 2 represents a2, ..., entry 9 represents b1, ..., and entry 64 represents h8 (Column by column). Furthermore, we defined that the following convention applies to piece labels: \n",
    "- Empty: 0\n",
    "- White pawn: 1\n",
    "- White knight: 2\n",
    "- White bishop: 3\n",
    "- White rook: 4\n",
    "- White queen: 5\n",
    "- White king: 6\n",
    "- Black pawn: 7 \n",
    "- Black knight: 8\n",
    "- Black bishop: 9\n",
    "- Black rook: 10\n",
    "- Black queen: 11\n",
    "- Black king: 12\n",
    "\n",
    "The function will basically an FEN notation string to a size 64 vector representing the position."
   ]
  },
  {
   "cell_type": "code",
   "execution_count": null,
   "metadata": {},
   "outputs": [],
   "source": [
    "def fen_to_vector(fen):\n",
    "\n",
    "    # The rows of the board\n",
    "    board_rows_top_to_bottom = []\n",
    "\n",
    "    # Split the fen string into rows\n",
    "    # The rows are separated by either - or _\n",
    "    for row in fen.replace('_', '-').split('-'):\n",
    "        \n",
    "        # The current row being processed\n",
    "        cur_row = []\n",
    "\n",
    "        # Go over the row elements\n",
    "        for c in list(row):\n",
    "            # Empty squares\n",
    "            if c in '12345678':\n",
    "                cur_row.extend([0] * int(c))\n",
    "            # White pawn\n",
    "            elif c == 'P':\n",
    "                cur_row.append(1)\n",
    "            # White knight\n",
    "            elif c == 'N':\n",
    "                cur_row.append(2)\n",
    "            # White bishop\n",
    "            elif c == 'B':\n",
    "                cur_row.append(3)\n",
    "            # White rook\n",
    "            elif c == 'R':\n",
    "                cur_row.append(4)\n",
    "            # White queen\n",
    "            elif c == 'Q':\n",
    "                cur_row.append(5)\n",
    "            # White king\n",
    "            elif c == 'K':\n",
    "                cur_row.append(6)\n",
    "            # Black pawn\n",
    "            elif c == 'p':\n",
    "                cur_row.append(7)\n",
    "            # Black knight\n",
    "            elif c == 'n':\n",
    "                cur_row.append(8)\n",
    "            # Black bishop\n",
    "            elif c == 'b':\n",
    "                cur_row.append(9)\n",
    "            # Black rook\n",
    "            elif c == 'r':\n",
    "                cur_row.append(10)\n",
    "            # Black queen\n",
    "            elif c == 'q':\n",
    "                cur_row.append(11)\n",
    "            # Black king\n",
    "            elif c == 'k':\n",
    "                cur_row.append(12)\n",
    "\n",
    "        # Sanity check: The row has 8 elements\n",
    "        if(len(cur_row) != 8):\n",
    "            print(fen)\n",
    "            print(cur_row)\n",
    "        assert len(cur_row) == 8\n",
    "\n",
    "        # Append the row\n",
    "        board_rows_top_to_bottom.append(cur_row)\n",
    "    \n",
    "    # Convert the board to a numpy array\n",
    "    board = np.array(board_rows_top_to_bottom) \n",
    "\n",
    "    # Transpose the board so that each row of the matrix represents a logical column\n",
    "    board = board.T\n",
    "\n",
    "    # Invert the order of each new row so that it represents the squares from bottom to top as required\n",
    "    board = np.fliplr(board)\n",
    "\n",
    "    # Flatten the rows into a single vector, from top to bottom\n",
    "    vector = board.flatten()\n",
    "\n",
    "    # Return the flattened board\n",
    "    return vector"
   ]
  },
  {
   "attachments": {},
   "cell_type": "markdown",
   "metadata": {},
   "source": [
    "Now that we have a function to convert any FEN label to a vector as required, we can use the library defined at https://github.com/Elucidation/ChessboardDetect to crop the images to the frame of the board. Please note that we will split the training data into squares before-hand to speed up training, while testing will be done with the uncropped images in order to simulate a real-life situation."
   ]
  },
  {
   "cell_type": "code",
   "execution_count": null,
   "metadata": {},
   "outputs": [],
   "source": [
    "%%capture\n",
    "\n",
    "from preprocessing_utils import *\n",
    "\n",
    "# The directory where the pre-processed data will be saved\n",
    "target_dir = \"./Real life data/Pre-processed/\"\n",
    "\n",
    "# The directory where the original unprocessed data is stored\n",
    "original_dir = \"./Real life data/Original/\"\n",
    "\n",
    "# For testing purposes\n",
    "# if os.path.exists(target_dir):\n",
    "#     shutil.rmtree(target_dir)\n",
    "# os.makedirs(target_dir)\n",
    "\n",
    "# Iterate over the real life images\n",
    "for i, filename in enumerate(os.listdir(original_dir)):\n",
    "\n",
    "    # Remove the .JPG extension to get the FEN noation\n",
    "    fen = filename.split('.')[0] \n",
    "\n",
    "    # Convert the FEN notation to a vector\n",
    "    vector = fen_to_vector(fen)\n",
    "\n",
    "    # Extract the squares by warping the image and cropping it\n",
    "    warped_image = warp_image(original_dir + filename)\n",
    "    squares = crop_individual_squares(warped_image)\n",
    "\n",
    "    # Create empty arrays to store information about the images\n",
    "    final_array_examples = np.empty([64, 3, 130, 130])\n",
    "    final_array_labels = np.array([], dtype = np.int32)\n",
    "    final_array_square_names = np.array([], dtype = np.str0)\n",
    "\n",
    "    # Represent the whole position as a single numpy array\n",
    "    for j in range(64):\n",
    "        square_name = j+1 # Since a1 represents 1\n",
    "        square_image = squares[j]\n",
    "        piece_label = vector[j]\n",
    "\n",
    "        # final_array = np.vstack((final_array, [square_name, square_image, piece_label]))\n",
    "\n",
    "        # Create a numpy array with the tarining example name, the image, the label of the image and the square name (one hot encoded))\n",
    "        final_array_examples[j]= square_image.reshape(3, 130, 130) / 255\n",
    "        final_array_labels = np.append(final_array_labels, piece_label)\n",
    "        final_array_square_names = np.append(final_array_square_names, square_name)\n",
    "    \n",
    "    # Save the array\n",
    "    example_name = \"EX_%04d\" % i\n",
    "\n",
    "    # Save the numpy arrays \n",
    "    image_path = target_dir + \"Images/EX_%04d\"%i+\".npy\"\n",
    "    label_path = target_dir + \"Labels/EX_%04d\"%i+\".npy\"\n",
    "    square_name_path = target_dir + \"Square Names/EX_%04d\"%i+\".npy\"\n",
    "    # np.savez_compressed(image_path, final_array_examples, allow_pickle=True)\n",
    "    # np.savez_compressed(label_path, final_array_labels, allow_pickle=True)\n",
    "    # np.savez_compressed(square_name_path, final_array_square_names, allow_pickle=True)\n"
   ]
  },
  {
   "attachments": {},
   "cell_type": "markdown",
   "metadata": {},
   "source": [
    "We can now visualize square 49 from example 9 as follows:"
   ]
  },
  {
   "cell_type": "code",
   "execution_count": null,
   "metadata": {},
   "outputs": [],
   "source": [
    "array_X = np.load(os.getcwd()+\"/Real life data/Pre-processed/Images/EX_0499.npy.npz\", allow_pickle=True)['arr_0']\n",
    "array_Y = np.load(os.getcwd()+\"/Real life data/Pre-processed/Labels/EX_0449.npy\", allow_pickle=True)\n",
    "array_S = np.load(os.getcwd()+\"/Real life data/Pre-processed/Square Names/EX_0009.npy\", allow_pickle=True)\n",
    "\n",
    "# Get the image\n",
    "plt.imshow(array_X[0].reshape([130,130,3]))\n",
    "plt.title(\"Label is: \"+ str(array_Y[0])+\" || Square name is: \" + array_S[0])\n",
    "plt.show()\n"
   ]
  }
 ],
 "metadata": {
  "kernelspec": {
   "display_name": "myenv",
   "language": "python",
   "name": "python3"
  },
  "language_info": {
   "codemirror_mode": {
    "name": "ipython",
    "version": 3
   },
   "file_extension": ".py",
   "mimetype": "text/x-python",
   "name": "python",
   "nbconvert_exporter": "python",
   "pygments_lexer": "ipython3",
   "version": "3.7.8"
  },
  "orig_nbformat": 4,
  "vscode": {
   "interpreter": {
    "hash": "12351d0067390abcf8d006f1c03ec375bbd7d47630800fea160433a5331e9ad3"
   }
  }
 },
 "nbformat": 4,
 "nbformat_minor": 2
}
