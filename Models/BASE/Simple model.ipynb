{
 "cells": [
  {
   "attachments": {},
   "cell_type": "markdown",
   "id": "b950cda7",
   "metadata": {},
   "source": [
    "# Imports and setup"
   ]
  },
  {
   "cell_type": "code",
   "execution_count": 1,
   "id": "144fa7ba",
   "metadata": {},
   "outputs": [],
   "source": [
    "# We can now load the dependencies\n",
    "%matplotlib inline \n",
    "import torch \n",
    "import torch.nn as nn\n",
    "import numpy as np\n",
    "import matplotlib.pyplot as plt \n",
    "import torchvision\n",
    "from tqdm import tqdm\n",
    "import torch.optim as optim\n",
    "import torchmetrics\n",
    "import pandas as pd\n",
    "\n",
    "# If VSCode doesn't pick up this import, see answer here: \n",
    "# https://stackoverflow.com/questions/65252074/import-path-to-own-script-could-not-be-resolved-pylance-reportmissingimports\n",
    "import sys\n",
    "sys.path.append(\"../../Datasets/\")\n",
    "from Custom_Dataset import * "
   ]
  },
  {
   "attachments": {},
   "cell_type": "markdown",
   "id": "6211a13b",
   "metadata": {},
   "source": [
    "We can start by setting a seed for reproducibility"
   ]
  },
  {
   "cell_type": "code",
   "execution_count": 2,
   "id": "356ddda1",
   "metadata": {},
   "outputs": [
    {
     "data": {
      "text/plain": [
       "<torch._C.Generator at 0x21cd11f81d0>"
      ]
     },
     "execution_count": 2,
     "metadata": {},
     "output_type": "execute_result"
    }
   ],
   "source": [
    "torch.manual_seed(0)"
   ]
  },
  {
   "attachments": {},
   "cell_type": "markdown",
   "id": "e8c3d84a",
   "metadata": {},
   "source": [
    "# Pre-processing"
   ]
  },
  {
   "attachments": {},
   "cell_type": "markdown",
   "id": "9121b596",
   "metadata": {},
   "source": [
    "We start by defining a custom dataset which loads the data from disk lazily. This is because we have too many training examples to keep all of them in memory at once. The CustomDataset class is defined in Datasets/Cutsom_Dataset.py"
   ]
  },
  {
   "cell_type": "code",
   "execution_count": 3,
   "id": "6afe02a2",
   "metadata": {},
   "outputs": [],
   "source": [
    "# Extract the generated data\n",
    "train_gen_dataset = CustomDataset(\"Generated\", \"train\", balance = True)\n",
    "val_gen_dataset = CustomDataset(\"Generated\", \"validation\", balance=True)\n",
    "test_gen_dataset = CustomDataset(\"Generated\", \"test\", balance=True)\n",
    "\n",
    "# Extract the real data\n",
    "train_real_dataset = CustomDataset(\"Real Life\", \"train\", balance=True)\n",
    "val_real_dataset = CustomDataset(\"Real Life\", \"validation\", balance=True)\n",
    "test_real_dataset = CustomDataset(\"Real Life\", \"test\", balance=True)"
   ]
  },
  {
   "attachments": {},
   "cell_type": "markdown",
   "id": "b93703ce",
   "metadata": {},
   "source": [
    "# Hyperparameter choices"
   ]
  },
  {
   "attachments": {},
   "cell_type": "markdown",
   "id": "b259e4e1",
   "metadata": {},
   "source": [
    "We create a cell to hold the hyperparameters of the model"
   ]
  },
  {
   "cell_type": "code",
   "execution_count": 4,
   "id": "a6ce00b6",
   "metadata": {},
   "outputs": [],
   "source": [
    "learning_rate = 0.001\n",
    "batch_size_choices = {100, 200} # Each the real and generated data will be split into batches of this size (Since we only train on generated here)\n",
    "num_epochs = 1 # Since we only train on generated data, we can use a small number of epochs because we have around 300000 images plus the augmentation\n",
    "dropout_rate_choices = {0.2, 0.5}\n",
    "gamma_focal_loss_choices = {2, 5} # Choices for the gamma parameter in the focal loss\n",
    "n_validation = 10 # Number of iterations between each validation run\n",
    "n_validation_minibatches = 2 # Number of minibatches to use for validation\n",
    "n_final_validation_minibatches = 20 # Number of minibatches to use for the final validation run"
   ]
  },
  {
   "attachments": {},
   "cell_type": "markdown",
   "id": "1e60fc99",
   "metadata": {},
   "source": [
    "# Model implementation"
   ]
  },
  {
   "attachments": {},
   "cell_type": "markdown",
   "id": "868ef8b6",
   "metadata": {},
   "source": [
    "We can start by loading a pre-trained VGG16 model without the classification layers towards the end (Only the feature extractor)."
   ]
  },
  {
   "cell_type": "code",
   "execution_count": 5,
   "id": "1a976a80",
   "metadata": {},
   "outputs": [],
   "source": [
    "vgg16 = torchvision.models.vgg16(weights='VGG16_Weights.IMAGENET1K_V1')"
   ]
  },
  {
   "attachments": {},
   "cell_type": "markdown",
   "id": "8433f526",
   "metadata": {},
   "source": [
    "We can now visualize its layers:"
   ]
  },
  {
   "cell_type": "code",
   "execution_count": 6,
   "id": "9614fd2a",
   "metadata": {},
   "outputs": [
    {
     "data": {
      "text/plain": [
       "VGG(\n",
       "  (features): Sequential(\n",
       "    (0): Conv2d(3, 64, kernel_size=(3, 3), stride=(1, 1), padding=(1, 1))\n",
       "    (1): ReLU(inplace=True)\n",
       "    (2): Conv2d(64, 64, kernel_size=(3, 3), stride=(1, 1), padding=(1, 1))\n",
       "    (3): ReLU(inplace=True)\n",
       "    (4): MaxPool2d(kernel_size=2, stride=2, padding=0, dilation=1, ceil_mode=False)\n",
       "    (5): Conv2d(64, 128, kernel_size=(3, 3), stride=(1, 1), padding=(1, 1))\n",
       "    (6): ReLU(inplace=True)\n",
       "    (7): Conv2d(128, 128, kernel_size=(3, 3), stride=(1, 1), padding=(1, 1))\n",
       "    (8): ReLU(inplace=True)\n",
       "    (9): MaxPool2d(kernel_size=2, stride=2, padding=0, dilation=1, ceil_mode=False)\n",
       "    (10): Conv2d(128, 256, kernel_size=(3, 3), stride=(1, 1), padding=(1, 1))\n",
       "    (11): ReLU(inplace=True)\n",
       "    (12): Conv2d(256, 256, kernel_size=(3, 3), stride=(1, 1), padding=(1, 1))\n",
       "    (13): ReLU(inplace=True)\n",
       "    (14): Conv2d(256, 256, kernel_size=(3, 3), stride=(1, 1), padding=(1, 1))\n",
       "    (15): ReLU(inplace=True)\n",
       "    (16): MaxPool2d(kernel_size=2, stride=2, padding=0, dilation=1, ceil_mode=False)\n",
       "    (17): Conv2d(256, 512, kernel_size=(3, 3), stride=(1, 1), padding=(1, 1))\n",
       "    (18): ReLU(inplace=True)\n",
       "    (19): Conv2d(512, 512, kernel_size=(3, 3), stride=(1, 1), padding=(1, 1))\n",
       "    (20): ReLU(inplace=True)\n",
       "    (21): Conv2d(512, 512, kernel_size=(3, 3), stride=(1, 1), padding=(1, 1))\n",
       "    (22): ReLU(inplace=True)\n",
       "    (23): MaxPool2d(kernel_size=2, stride=2, padding=0, dilation=1, ceil_mode=False)\n",
       "    (24): Conv2d(512, 512, kernel_size=(3, 3), stride=(1, 1), padding=(1, 1))\n",
       "    (25): ReLU(inplace=True)\n",
       "    (26): Conv2d(512, 512, kernel_size=(3, 3), stride=(1, 1), padding=(1, 1))\n",
       "    (27): ReLU(inplace=True)\n",
       "    (28): Conv2d(512, 512, kernel_size=(3, 3), stride=(1, 1), padding=(1, 1))\n",
       "    (29): ReLU(inplace=True)\n",
       "    (30): MaxPool2d(kernel_size=2, stride=2, padding=0, dilation=1, ceil_mode=False)\n",
       "  )\n",
       "  (avgpool): AdaptiveAvgPool2d(output_size=(7, 7))\n",
       "  (classifier): Sequential(\n",
       "    (0): Linear(in_features=25088, out_features=4096, bias=True)\n",
       "    (1): ReLU(inplace=True)\n",
       "    (2): Dropout(p=0.5, inplace=False)\n",
       "    (3): Linear(in_features=4096, out_features=4096, bias=True)\n",
       "    (4): ReLU(inplace=True)\n",
       "    (5): Dropout(p=0.5, inplace=False)\n",
       "    (6): Linear(in_features=4096, out_features=1000, bias=True)\n",
       "  )\n",
       ")"
      ]
     },
     "execution_count": 6,
     "metadata": {},
     "output_type": "execute_result"
    }
   ],
   "source": [
    "vgg16"
   ]
  },
  {
   "attachments": {},
   "cell_type": "markdown",
   "id": "018e9568",
   "metadata": {},
   "source": [
    "Because we are looking for a pre-trained feature extractor here, we decide to only use the features part and freeze its weights. We can then add a few subsequent layers to fine tune predictions. We can thus define the following model:"
   ]
  },
  {
   "cell_type": "code",
   "execution_count": 7,
   "id": "a051bb05",
   "metadata": {},
   "outputs": [],
   "source": [
    "class BaseModel(nn.Module):\n",
    "\n",
    "    def __init__(self, num_classes=13, dropout_rate=0.5):\n",
    "        \n",
    "        super(BaseModel, self).__init__()\n",
    "        \n",
    "        # Define the layers of the model\n",
    "        self.features = torchvision.models.vgg16(weights='VGG16_Weights.IMAGENET1K_V1').features\n",
    "        self.classifier = nn.Sequential(\n",
    "            nn.Linear(4608, 1024),\n",
    "            nn.ReLU(True),\n",
    "            nn.Dropout(dropout_rate),\n",
    "            nn.Linear(1024, 512),\n",
    "            nn.ReLU(True),\n",
    "            nn.Dropout(dropout_rate),\n",
    "            nn.Linear(512, num_classes)\n",
    "        )\n",
    "\n",
    "        # Set the features to not require gradients\n",
    "        for param in self.features.parameters():\n",
    "            param.requires_grad = False\n",
    "\n",
    "\n",
    "    def forward(self, x):\n",
    "        x = self.features(x)\n",
    "        x = torch.flatten(x, 1)\n",
    "        x = self.classifier(x)\n",
    "        return x\n"
   ]
  },
  {
   "attachments": {},
   "cell_type": "markdown",
   "id": "b7348424",
   "metadata": {},
   "source": [
    "# Training"
   ]
  },
  {
   "attachments": {},
   "cell_type": "markdown",
   "id": "c3c49179",
   "metadata": {},
   "source": [
    "We can start by finding the device to use for training:"
   ]
  },
  {
   "cell_type": "code",
   "execution_count": 8,
   "id": "1237640e",
   "metadata": {},
   "outputs": [
    {
     "name": "stdout",
     "output_type": "stream",
     "text": [
      "Device: cuda\n"
     ]
    }
   ],
   "source": [
    "if torch.cuda.is_available():\n",
    "    DEVICE = torch.device(\"cuda\")\n",
    "elif torch.has_mps:\n",
    "    DEVICE = torch.device(\"mps\")\n",
    "else:\n",
    "    DEVICE = torch.device(\"cpu\")\n",
    "\n",
    "if DEVICE == \"cuda\":\n",
    "    torch.cuda.empty_cache()\n",
    "\n",
    "print(\"Device:\", DEVICE)"
   ]
  },
  {
   "attachments": {},
   "cell_type": "markdown",
   "id": "61cb4352",
   "metadata": {},
   "source": [
    "We can then go ahead and define the loss function we will be using. Because we will opt for a balanced focal loss instead of a regular cross entropy loss which gives more importance to the classes that are harder to classify. We thus implement the focal loss defined by the following formula:\n",
    "$$\n",
    "FL(p_t) = -(1-p_t^{\\gamma})log(p_t)\n",
    "$$\n",
    "\n",
    "where gamma $\\gamma$ is a tunable hyperparameter. We can also further add an alpha term to handle class imbalance, making our loss function a class-balanced focal loss, as shown in https://github.com/AdeelH/pytorch-multi-class-focal-loss. \n",
    "Note: Since we have balanced classes thanks to oversmapling, we will not use the alpha parameter.\n",
    "\n"
   ]
  },
  {
   "attachments": {},
   "cell_type": "markdown",
   "id": "057bb473",
   "metadata": {},
   "source": [
    "Finally, we need an accuracy metric to tune the hyperparameters of the model. We will opt for a balanced accuracy score, which is just regular classification accuracy but adapted to weigh each class by its frequency:"
   ]
  },
  {
   "cell_type": "code",
   "execution_count": 9,
   "id": "c3ba9216",
   "metadata": {},
   "outputs": [],
   "source": [
    "f1_score = torchmetrics.F1Score(task=\"multiclass\", num_classes=13, average=\"weighted\").to(DEVICE)\n",
    "accuracy = torchmetrics.Accuracy(task=\"multiclass\", num_classes=13, average=\"weighted\").to(DEVICE)"
   ]
  },
  {
   "attachments": {},
   "cell_type": "markdown",
   "id": "2ad6b2b4",
   "metadata": {},
   "source": [
    "We can now load a single example from the loader and display its label as well as its class proportion, which should be around 1/13 which is +- 8%."
   ]
  },
  {
   "cell_type": "code",
   "execution_count": 33,
   "id": "82f2ebd3",
   "metadata": {},
   "outputs": [
    {
     "data": {
      "image/png": "[encoded data removed]",
      "text/plain": [
       "<Figure size 432x288 with 1 Axes>"
      ]
     },
     "metadata": {
      "needs_background": "light"
     },
     "output_type": "display_data"
    }
   ],
   "source": [
    "gen_train_loader = get_loader(train_gen_dataset, batch_size=200)\n",
    "\n",
    "for i, (images, labels) in enumerate(gen_train_loader):\n",
    "    class_proportions = [(labels == i).sum() / len(labels) for i in range(13)]\n",
    "    plt.title(\"label: \" + str(labels[0].item()) + \" proportion: \" + str(class_proportions[labels[0].item()].item() * 100) + \"%\")\n",
    "    plt.imshow(images[0].permute(1, 2, 0))\n",
    "    break"
   ]
  },
  {
   "attachments": {},
   "cell_type": "markdown",
   "id": "3fa0629a",
   "metadata": {},
   "source": [
    "We can also define the following function for plotting the metrics collected during training:"
   ]
  },
  {
   "cell_type": "code",
   "execution_count": 11,
   "id": "162e9f9e",
   "metadata": {},
   "outputs": [],
   "source": [
    "def plot_and_save_metrics(gen_training_losses, gen_training_accs, gen_training_f1s, gen_validation_losses, gen_validation_accs, gen_validation_f1s, real_validation_losses, real_validation_accs, real_validation_f1s, gamma, batch_size, dropout_rate):\n",
    "\n",
    "    validation_x_axis = np.arange(0, len(gen_validation_losses) * n_validation, n_validation)\n",
    "\n",
    "    plt.figure(figsize=(30, 30))\n",
    "\n",
    "    plt.subplot(3, 2, 1)\n",
    "    plt.plot(gen_training_losses)\n",
    "    plt.title(\"Training Losses\")\n",
    "    plt.xlabel(\"Iteration\")\n",
    "    plt.ylabel(\"Loss\")\n",
    "\n",
    "    plt.subplot(3, 2, 2)\n",
    "    plt.plot(gen_training_accs)\n",
    "    plt.title(\"Training Accuracies\")\n",
    "    plt.xlabel(\"Iteration\")\n",
    "    plt.ylabel(\"Accuracy\")\n",
    "\n",
    "    plt.subplot(3, 2, 3)\n",
    "    plt.plot(gen_training_f1s)\n",
    "    plt.title(\"Training weighted F1 scores\")\n",
    "    plt.xlabel(\"Iteration\")\n",
    "    plt.ylabel(\"Weighted F1 score\")\n",
    "\n",
    "    plt.subplot(3, 2, 4)\n",
    "    plt.plot(validation_x_axis, gen_validation_losses, label=\"Source domain\")\n",
    "    plt.plot(validation_x_axis, real_validation_losses, label=\"Target domain\")\n",
    "    plt.title(\"Validation Losses\")\n",
    "    plt.xlabel(\"Iteration\")\n",
    "    plt.ylabel(\"Focal loss\")\n",
    "    plt.legend()\n",
    "\n",
    "    plt.subplot(3, 2, 5)\n",
    "    plt.plot(validation_x_axis, gen_validation_accs, label=\"Source domain\")\n",
    "    plt.plot(validation_x_axis, real_validation_accs, label=\"Target domain\")\n",
    "    plt.title(\"Validation Accuracies\")\n",
    "    plt.xlabel(\"Iteration\")\n",
    "    plt.ylabel(\"Accuracy\")\n",
    "    plt.legend()\n",
    "\n",
    "    plt.subplot(3, 2, 6)\n",
    "    plt.plot(validation_x_axis, gen_validation_f1s, label=\"Source domain\")\n",
    "    plt.plot(validation_x_axis, real_validation_f1s, label=\"Target domain\")\n",
    "    plt.title(\"Validation weighted F1 Scores\")\n",
    "    plt.xlabel(\"Iteration\")\n",
    "    plt.ylabel(\"Weighted F1 Score\")\n",
    "    plt.legend()\n",
    "\n",
    "    plt.suptitle(\"Hyperparameters: gamma: \" + str(gamma) + \", batch_size: \" + str(batch_size) + \", dropout_rate: \" + str(dropout_rate), fontsize=24)\n",
    "    \n",
    "    plt.savefig(\"HP tuning results/\" + \"gamma_\" + str(gamma) + \"_batch_\" + str(batch_size) + \"_dropout_\" + str(dropout_rate) + \".png\",  facecolor='white', transparent=False)\n",
    "    plt.close()"
   ]
  },
  {
   "attachments": {},
   "cell_type": "markdown",
   "id": "4e0fb873",
   "metadata": {},
   "source": [
    "We can now proceed to train our model:"
   ]
  },
  {
   "cell_type": "code",
   "execution_count": 12,
   "id": "02e90133",
   "metadata": {},
   "outputs": [
    {
     "ename": "NameError",
     "evalue": "name 'get_gen_loader' is not defined",
     "output_type": "error",
     "traceback": [
      "\u001b[1;31m---------------------------------------------------------------------------\u001b[0m",
      "\u001b[1;31mNameError\u001b[0m                                 Traceback (most recent call last)",
      "\u001b[1;32mc:\\Users\\wassi\\Documents\\GitHub\\RecogniChess\\Models\\BASE\\Simple model.ipynb Cell 29\u001b[0m in \u001b[0;36m<cell line: 8>\u001b[1;34m()\u001b[0m\n\u001b[0;32m     <a href='vscode-notebook-cell:/c%3A/Users/wassi/Documents/GitHub/RecogniChess/Models/BASE/Simple%20model.ipynb#X40sZmlsZQ%3D%3D?line=9'>10</a>\u001b[0m \u001b[39mfor\u001b[39;00m dropout_rate \u001b[39min\u001b[39;00m dropout_rate_choices:\n\u001b[0;32m     <a href='vscode-notebook-cell:/c%3A/Users/wassi/Documents/GitHub/RecogniChess/Models/BASE/Simple%20model.ipynb#X40sZmlsZQ%3D%3D?line=11'>12</a>\u001b[0m     \u001b[39mfor\u001b[39;00m batch_size \u001b[39min\u001b[39;00m batch_size_choices:\n\u001b[0;32m     <a href='vscode-notebook-cell:/c%3A/Users/wassi/Documents/GitHub/RecogniChess/Models/BASE/Simple%20model.ipynb#X40sZmlsZQ%3D%3D?line=12'>13</a>\u001b[0m \n\u001b[0;32m     <a href='vscode-notebook-cell:/c%3A/Users/wassi/Documents/GitHub/RecogniChess/Models/BASE/Simple%20model.ipynb#X40sZmlsZQ%3D%3D?line=13'>14</a>\u001b[0m         \u001b[39m# Define the data loaders accounting for the batch size\u001b[39;00m\n\u001b[1;32m---> <a href='vscode-notebook-cell:/c%3A/Users/wassi/Documents/GitHub/RecogniChess/Models/BASE/Simple%20model.ipynb#X40sZmlsZQ%3D%3D?line=14'>15</a>\u001b[0m         gen_train_loader \u001b[39m=\u001b[39m get_gen_loader(train_gen_dataset, batch_size\u001b[39m=\u001b[39mbatch_size)\n\u001b[0;32m     <a href='vscode-notebook-cell:/c%3A/Users/wassi/Documents/GitHub/RecogniChess/Models/BASE/Simple%20model.ipynb#X40sZmlsZQ%3D%3D?line=15'>16</a>\u001b[0m         gen_val_loader \u001b[39m=\u001b[39m get_gen_loader(val_gen_dataset, batch_size\u001b[39m=\u001b[39mbatch_size)\n\u001b[0;32m     <a href='vscode-notebook-cell:/c%3A/Users/wassi/Documents/GitHub/RecogniChess/Models/BASE/Simple%20model.ipynb#X40sZmlsZQ%3D%3D?line=16'>17</a>\u001b[0m         gen_test_loader \u001b[39m=\u001b[39m get_gen_loader(test_gen_dataset, batch_size\u001b[39m=\u001b[39mbatch_size)\n",
      "\u001b[1;31mNameError\u001b[0m: name 'get_gen_loader' is not defined"
     ]
    }
   ],
   "source": [
    "# To store the best model\n",
    "best_model = None\n",
    "best_acc = -1\n",
    "\n",
    "# Store the validation accuracies\n",
    "hp_final_accs = pd.DataFrame(columns=[\"Gamma\", \"Batch size\", \"Dropout rate\", \"Final validation accuracy\"])\n",
    "\n",
    "for gamma in gamma_focal_loss_choices:\n",
    "\n",
    "    for dropout_rate in dropout_rate_choices:\n",
    "\n",
    "        for batch_size in batch_size_choices:\n",
    "\n",
    "            # Define the data loaders accounting for the batch size\n",
    "            gen_train_loader = get_gen_loader(train_gen_dataset, batch_size=batch_size)\n",
    "            gen_val_loader = get_gen_loader(val_gen_dataset, batch_size=batch_size)\n",
    "            gen_test_loader = get_gen_loader(test_gen_dataset, batch_size=batch_size)\n",
    "            real_train_loader = get_real_loader(train_real_dataset, batch_size=batch_size)\n",
    "            real_val_loader = get_real_loader(val_real_dataset, batch_size=batch_size)\n",
    "            real_test_loader = get_real_loader(test_real_dataset, batch_size=batch_size)\n",
    "\n",
    "            # Define the new loss function (Taking into account gamma)\n",
    "            focal_loss = torch.hub.load(\n",
    "                'adeelh/pytorch-multi-class-focal-loss',\n",
    "                model='FocalLoss',\n",
    "                gamma=gamma, # No use of alpha since we have balanced classes now with the oversampling\n",
    "                reduction='mean',\n",
    "                force_reload=False,\n",
    "                verbose = False\n",
    "            ).to(DEVICE)\n",
    "\n",
    "            # To store the metrics through epochs\n",
    "            gen_training_losses = []\n",
    "            gen_training_accs = []\n",
    "            gen_training_f1s = []\n",
    "            gen_validation_losses = []\n",
    "            gen_validation_accs = []\n",
    "            gen_validation_f1s = []\n",
    "            real_validation_losses = []\n",
    "            real_validation_accs = []\n",
    "            real_validation_f1s = []\n",
    "\n",
    "            # Define the model and the optimizer\n",
    "            basemodel = BaseModel(dropout_rate=dropout_rate).to(DEVICE)\n",
    "            opt = optim.Adam(basemodel.parameters(), lr=learning_rate)\n",
    "            \n",
    "            for epoch in range(num_epochs):\n",
    "                \n",
    "                # Train the model\n",
    "                for iteration, (X_train_gen, y_train_gen) in tqdm(enumerate(gen_train_loader)):\n",
    "                    \n",
    "                    # Set the model to training mode\n",
    "                    basemodel.train()\n",
    "\n",
    "                    # Move the data to the device\n",
    "                    X_train_gen = X_train_gen.to(DEVICE)\n",
    "                    y_train_gen = y_train_gen.to(DEVICE)\n",
    "\n",
    "                    # Forward pass\n",
    "                    y_train_pred_raw_gen = basemodel(X_train_gen)\n",
    "                    y_train_pred_gen = torch.argmax(y_train_pred_raw_gen, dim=1)\n",
    "\n",
    "                    # Compute the loss\n",
    "                    loss_train = focal_loss(y_train_pred_raw_gen, y_train_gen.long())\n",
    "\n",
    "                    # Compute the accuracy\n",
    "                    acc_train = accuracy(y_train_pred_gen, y_train_gen)\n",
    "                    f1_train = f1_score(y_train_pred_gen, y_train_gen)\n",
    "\n",
    "                    # Backward pass\n",
    "                    opt.zero_grad()\n",
    "                    loss_train.backward()\n",
    "                    opt.step()\n",
    "\n",
    "                    # Store the loss & accuracy\n",
    "                    gen_training_losses.append(loss_train.item())\n",
    "                    gen_training_accs.append(acc_train.item())\n",
    "                    gen_training_f1s.append(f1_train.item())\n",
    "                    \n",
    "                    # Check if the model should be validated\n",
    "                    if iteration == 0 or (iteration + 1) % n_validation == 0:\n",
    "                        \n",
    "                        # Set the model to evaluation mode\n",
    "                        basemodel.eval()\n",
    "                        \n",
    "                        # Disable gradient calculation\n",
    "                        with torch.no_grad():\n",
    "\n",
    "                            # 1) Evaluate on the generated validation set\n",
    "                            acc_val_sum = 0\n",
    "                            weighted_f1_val_sum = 0\n",
    "                            loss_val_sum = 0\n",
    "\n",
    "                            # Extract an iterator from the generated data loader\n",
    "                            gen_val_iter = iter(gen_val_loader)\n",
    "\n",
    "                            # Iterate for n_validation_minibatches\n",
    "                            for i in range(n_validation_minibatches):\n",
    "\n",
    "                                # Get the next minibatch\n",
    "                                X_val_gen, y_val_gen = next(gen_val_iter)\n",
    "                                    \n",
    "                                # Move the data to the device\n",
    "                                X_val_gen = X_val_gen.to(DEVICE)\n",
    "                                y_val_gen = y_val_gen.to(DEVICE)\n",
    "\n",
    "                                # Forward pass\n",
    "                                y_val_pred_raw_gen = basemodel(X_val_gen)\n",
    "                                y_val_pred_gen = torch.argmax(y_val_pred_raw_gen, dim=1)\n",
    "\n",
    "                                # Compute the metrics\n",
    "                                acc_val_sum += accuracy(y_val_pred_gen, y_val_gen)\n",
    "                                weighted_f1_val_sum += f1_score(y_val_pred_gen, y_val_gen)\n",
    "                                loss_val_sum += focal_loss(y_val_pred_raw_gen, y_val_gen)\n",
    "\n",
    "                            # Compute the average metrics\n",
    "                            acc_val_gen = acc_val_sum / n_validation_minibatches\n",
    "                            loss_val_gen = loss_val_sum / n_validation_minibatches\n",
    "                            weighted_f1_val_gen = weighted_f1_val_sum / n_validation_minibatches\n",
    "\n",
    "                            # 2) Repeat on the real validation set\n",
    "                            acc_val_sum = 0\n",
    "                            weighted_f1_val_sum = 0\n",
    "                            loss_val_sum = 0\n",
    "\n",
    "                            # Extract an iterator from the generated data loader\n",
    "                            real_val_iter = iter(real_val_loader)\n",
    "\n",
    "                            # Iterate for n_validation_minibatches\n",
    "                            for i in range(n_validation_minibatches):\n",
    "\n",
    "                                # Get the next minibatch\n",
    "                                X_val_real, y_val_real = next(real_val_iter)\n",
    "                                    \n",
    "                                # Move the data to the device\n",
    "                                X_val_real = X_val_real.to(DEVICE)\n",
    "                                y_val_real = y_val_real.to(DEVICE)\n",
    "\n",
    "                                # Forward pass\n",
    "                                y_val_pred_raw_real = basemodel(X_val_real)\n",
    "                                y_val_pred_real = torch.argmax(y_val_pred_raw_real, dim=1)\n",
    "\n",
    "                                # Compute the metrics\n",
    "                                acc_val_sum += accuracy(y_val_pred_real, y_val_real)\n",
    "                                weighted_f1_val_sum += f1_score(y_val_pred_real, y_val_real)\n",
    "                                loss_val_sum += focal_loss(y_val_pred_raw_real, y_val_real)\n",
    "\n",
    "                            # Compute the average metrics\n",
    "                            acc_val_real = acc_val_sum / n_validation_minibatches\n",
    "                            loss_val_real = loss_val_sum / n_validation_minibatches\n",
    "                            weighted_f1_val_real = weighted_f1_val_sum / n_validation_minibatches\n",
    "\n",
    "                            # Store all 6 metrics\n",
    "                            gen_validation_losses.append(loss_val_gen.item())\n",
    "                            gen_validation_accs.append(acc_val_gen.item())\n",
    "                            gen_validation_f1s.append(weighted_f1_val_gen.item())\n",
    "                            real_validation_losses.append(loss_val_real.item())\n",
    "                            real_validation_accs.append(acc_val_real.item())\n",
    "                            real_validation_f1s.append(weighted_f1_val_real.item())\n",
    "\n",
    "                            # Print an update\n",
    "                            print('----------------------------------------------------------------')\n",
    "                            print(f'EPOCH [{epoch + 1}], ITERATION [{iteration+1}]')\n",
    "                            print(f'TRAINING => Loss: {loss_train}, Training accuracy: {acc_train}, Training weighted F1: {f1_train}')\n",
    "                            print(f'GENERATED VALIDATION => Loss: {loss_val_gen}, Validation accuracy: {acc_val_gen}, Validation weighted F1: {weighted_f1_val_gen}')\n",
    "                            print(f'REAL VALIDATION => Loss: {loss_val_real}, Validation accuracy: {acc_val_real}, Validation weighted F1: {weighted_f1_val_real}')\n",
    "                            print('----------------------------------------------------------------')\n",
    "\n",
    "                # Save the model every epoch as a checkpoint \n",
    "                torch.save(basemodel.state_dict(), f'./checkpoints/basemodel_gamma_{gamma}_dropout_{dropout_rate}_batch_{batch_size}_epoch_{epoch+1}.ckpt')\n",
    "\n",
    "\n",
    "            # Evaluate the final real life validation accuracy\n",
    "\n",
    "            # Set the model to evaluation mode\n",
    "            basemodel.eval()\n",
    "            acc_val_sum = 0\n",
    "\n",
    "            # Create an iterator\n",
    "            real_val_iter = iter(real_val_loader)\n",
    "\n",
    "            # Disable gradient calculation\n",
    "            with torch.no_grad():\n",
    "                \n",
    "                for i in range(n_final_validation_minibatches):\n",
    "\n",
    "                    # Get the next minibatch\n",
    "                    minibatch = next(real_val_iter, None)\n",
    "                    if minibatch is None:\n",
    "                        real_val_iter = iter(real_val_loader)\n",
    "                        minibatch = next(real_val_iter, None)\n",
    "                    X_val_real, y_val_real = minibatch\n",
    "\n",
    "                    # Move the data to the device\n",
    "                    X_val_real = X_val_real.to(DEVICE)\n",
    "                    y_val_real = y_val_real.to(DEVICE)\n",
    "\n",
    "                    # Forward pass\n",
    "                    y_val_pred_prob_real = basemodel(X_val_real)\n",
    "                    y_val_pred_real = torch.argmax(y_val_pred_prob_real, dim=1)\n",
    "\n",
    "                    # Compute the metrics\n",
    "                    acc_val_sum += accuracy(y_val_pred_real, y_val_real)\n",
    "\n",
    "            # Compute the average accuracy\n",
    "            final_real_val_acc = acc_val_sum / n_final_validation_minibatches\n",
    "\n",
    "            # Create a row to add to the dataframe\n",
    "            row = [gamma, batch_size, dropout_rate, final_real_val_acc.cpu().item()]\n",
    "\n",
    "            # Store it\n",
    "            hp_final_accs.loc[len(hp_final_accs)] = row\n",
    "\n",
    "            # Compare to the best model\n",
    "            if best_model is None or best_acc < final_real_val_acc:\n",
    "                best_model = basemodel\n",
    "                best_acc = final_real_val_acc\n",
    "                torch.save(basemodel.state_dict(), f'./best_model.ckpt')\n",
    "\n",
    "            # Plot and save the metrics\n",
    "            plot_and_save_metrics(gen_training_losses, gen_training_accs, gen_training_f1s, gen_validation_losses, gen_validation_accs, gen_validation_f1s, real_validation_losses, real_validation_accs, real_validation_f1s, gamma, batch_size, dropout_rate)\n",
    "\n",
    "# Save the dataframe as a table\n",
    "hp_final_accs.to_csv('HP_final_accuracies.csv', index=False)\n"
   ]
  },
  {
   "attachments": {},
   "cell_type": "markdown",
   "id": "64e5fcf3",
   "metadata": {},
   "source": [
    "After this code runs, the best model can be found in the directory of the script."
   ]
  }
 ],
 "metadata": {
  "kernelspec": {
   "display_name": "Python 3 (ipykernel)",
   "language": "python",
   "name": "python3"
  },
  "language_info": {
   "codemirror_mode": {
    "name": "ipython",
    "version": 3
   },
   "file_extension": ".py",
   "mimetype": "text/x-python",
   "name": "python",
   "nbconvert_exporter": "python",
   "pygments_lexer": "ipython3",
   "version": "3.10.2"
  }
 },
 "nbformat": 4,
 "nbformat_minor": 5
}
