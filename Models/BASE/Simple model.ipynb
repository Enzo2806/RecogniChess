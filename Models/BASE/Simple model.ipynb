{
 "cells": [
  {
   "attachments": {},
   "cell_type": "markdown",
   "id": "b950cda7",
   "metadata": {},
   "source": [
    "# Imports and setup"
   ]
  },
  {
   "cell_type": "code",
   "execution_count": 1,
   "id": "144fa7ba",
   "metadata": {},
   "outputs": [],
   "source": [
    "# We can now load the dependencies\n",
    "%matplotlib inline \n",
    "import torch \n",
    "import torch.nn as nn\n",
    "import numpy as np\n",
    "import matplotlib.pyplot as plt \n",
    "import torchvision\n",
    "from tqdm import tqdm\n",
    "from torch.utils.data import Dataset\n",
    "from torch.utils.data import DataLoader\n",
    "import torch.optim as optim\n",
    "import torchmetrics\n",
    "import os\n",
    "import torchvision.transforms as transforms\n",
    "from PIL import Image\n",
    "import pandas as pd\n",
    "import json\n",
    "\n",
    "import sys\n",
    "sys.path.append(\"../../Datasets/\")\n",
    "from Custom_Dataset import *"
   ]
  },
  {
   "attachments": {},
   "cell_type": "markdown",
   "id": "6211a13b",
   "metadata": {},
   "source": [
    "We can start by setting a seed for reproducibility"
   ]
  },
  {
   "cell_type": "code",
   "execution_count": 2,
   "id": "356ddda1",
   "metadata": {},
   "outputs": [
    {
     "data": {
      "text/plain": [
       "<torch._C.Generator at 0x124023630>"
      ]
     },
     "execution_count": 2,
     "metadata": {},
     "output_type": "execute_result"
    }
   ],
   "source": [
    "torch.manual_seed(0)"
   ]
  },
  {
   "attachments": {},
   "cell_type": "markdown",
   "id": "e8c3d84a",
   "metadata": {},
   "source": [
    "# Pre-processing"
   ]
  },
  {
   "attachments": {},
   "cell_type": "markdown",
   "id": "9121b596",
   "metadata": {},
   "source": [
    "We start by defining a custom dataset which loads the data from disk lazily. This is because we have too many training examples to keep all of them in memory at once. The CustomDataset class is defined in Datasets/Cutsom_Dataset.py"
   ]
  },
  {
   "cell_type": "code",
   "execution_count": 3,
   "id": "6afe02a2",
   "metadata": {},
   "outputs": [],
   "source": [
    "# Extract the generated data\n",
    "train_gen_dataset = CustomDataset(\"Generated\", \"train\", full_dataset = False, apply_transform = True)\n",
    "val_gen_dataset = CustomDataset(\"Generated\", \"validation\", full_dataset = False, apply_transform = True)\n",
    "test_gen_dataset = CustomDataset(\"Generated\", \"test\", full_dataset = False, apply_transform = True)\n",
    "\n",
    "# Extract the real data\n",
    "train_real_dataset = CustomDataset(\"Real Life\", \"train\", full_dataset = False, apply_transform = True)\n",
    "val_real_dataset = CustomDataset(\"Real Life\", \"validation\", full_dataset = False, apply_transform = True)\n",
    "test_real_dataset = CustomDataset(\"Real Life\", \"test\", full_dataset = False, apply_transform = True)"
   ]
  },
  {
   "attachments": {},
   "cell_type": "markdown",
   "id": "b93703ce",
   "metadata": {},
   "source": [
    "# Hyperparameter choices"
   ]
  },
  {
   "attachments": {},
   "cell_type": "markdown",
   "id": "b259e4e1",
   "metadata": {},
   "source": [
    "We create a cell to hold the hyperparameters of the model to tune."
   ]
  },
  {
   "cell_type": "code",
   "execution_count": 4,
   "id": "a6ce00b6",
   "metadata": {},
   "outputs": [],
   "source": [
    "batch_size_choices = {100, 200} # Each the real and generated data will be split into batches of this size (Since we only train on generated here)\n",
    "dropout_rate_choices = {0.2, 0.5}\n",
    "gamma_focal_loss_choices = {2, 5} # Choices for the gamma parameter in the focal loss\n",
    "learning_rate = 0.001\n",
    "n_validation = 10 # Number of iterations between each validation run\n",
    "n_validation_minibatches = 2 # Number of minibatches to use for validation\n",
    "n_final_validation_minibatches = 20 # Number of minibatches to use for the final validation run\n",
    "num_epochs = 1 # Since we only train on generated data, we can use a small number of epochs because we have around 300000 images plus the augmentation"
   ]
  },
  {
   "attachments": {},
   "cell_type": "markdown",
   "id": "1e60fc99",
   "metadata": {},
   "source": [
    "# Model implementation"
   ]
  },
  {
   "attachments": {},
   "cell_type": "markdown",
   "id": "868ef8b6",
   "metadata": {},
   "source": [
    "We can start by loading a pre-trained VGG16 model without the classification layers towards the end (Only the feature extractor)."
   ]
  },
  {
   "cell_type": "code",
   "execution_count": 5,
   "id": "1a976a80",
   "metadata": {},
   "outputs": [],
   "source": [
    "vgg16 = torchvision.models.vgg16(weights='VGG16_Weights.IMAGENET1K_V1')"
   ]
  },
  {
   "attachments": {},
   "cell_type": "markdown",
   "id": "8433f526",
   "metadata": {},
   "source": [
    "We can now visualize its layers:"
   ]
  },
  {
   "cell_type": "code",
   "execution_count": 6,
   "id": "9614fd2a",
   "metadata": {},
   "outputs": [
    {
     "data": {
      "text/plain": [
       "VGG(\n",
       "  (features): Sequential(\n",
       "    (0): Conv2d(3, 64, kernel_size=(3, 3), stride=(1, 1), padding=(1, 1))\n",
       "    (1): ReLU(inplace=True)\n",
       "    (2): Conv2d(64, 64, kernel_size=(3, 3), stride=(1, 1), padding=(1, 1))\n",
       "    (3): ReLU(inplace=True)\n",
       "    (4): MaxPool2d(kernel_size=2, stride=2, padding=0, dilation=1, ceil_mode=False)\n",
       "    (5): Conv2d(64, 128, kernel_size=(3, 3), stride=(1, 1), padding=(1, 1))\n",
       "    (6): ReLU(inplace=True)\n",
       "    (7): Conv2d(128, 128, kernel_size=(3, 3), stride=(1, 1), padding=(1, 1))\n",
       "    (8): ReLU(inplace=True)\n",
       "    (9): MaxPool2d(kernel_size=2, stride=2, padding=0, dilation=1, ceil_mode=False)\n",
       "    (10): Conv2d(128, 256, kernel_size=(3, 3), stride=(1, 1), padding=(1, 1))\n",
       "    (11): ReLU(inplace=True)\n",
       "    (12): Conv2d(256, 256, kernel_size=(3, 3), stride=(1, 1), padding=(1, 1))\n",
       "    (13): ReLU(inplace=True)\n",
       "    (14): Conv2d(256, 256, kernel_size=(3, 3), stride=(1, 1), padding=(1, 1))\n",
       "    (15): ReLU(inplace=True)\n",
       "    (16): MaxPool2d(kernel_size=2, stride=2, padding=0, dilation=1, ceil_mode=False)\n",
       "    (17): Conv2d(256, 512, kernel_size=(3, 3), stride=(1, 1), padding=(1, 1))\n",
       "    (18): ReLU(inplace=True)\n",
       "    (19): Conv2d(512, 512, kernel_size=(3, 3), stride=(1, 1), padding=(1, 1))\n",
       "    (20): ReLU(inplace=True)\n",
       "    (21): Conv2d(512, 512, kernel_size=(3, 3), stride=(1, 1), padding=(1, 1))\n",
       "    (22): ReLU(inplace=True)\n",
       "    (23): MaxPool2d(kernel_size=2, stride=2, padding=0, dilation=1, ceil_mode=False)\n",
       "    (24): Conv2d(512, 512, kernel_size=(3, 3), stride=(1, 1), padding=(1, 1))\n",
       "    (25): ReLU(inplace=True)\n",
       "    (26): Conv2d(512, 512, kernel_size=(3, 3), stride=(1, 1), padding=(1, 1))\n",
       "    (27): ReLU(inplace=True)\n",
       "    (28): Conv2d(512, 512, kernel_size=(3, 3), stride=(1, 1), padding=(1, 1))\n",
       "    (29): ReLU(inplace=True)\n",
       "    (30): MaxPool2d(kernel_size=2, stride=2, padding=0, dilation=1, ceil_mode=False)\n",
       "  )\n",
       "  (avgpool): AdaptiveAvgPool2d(output_size=(7, 7))\n",
       "  (classifier): Sequential(\n",
       "    (0): Linear(in_features=25088, out_features=4096, bias=True)\n",
       "    (1): ReLU(inplace=True)\n",
       "    (2): Dropout(p=0.5, inplace=False)\n",
       "    (3): Linear(in_features=4096, out_features=4096, bias=True)\n",
       "    (4): ReLU(inplace=True)\n",
       "    (5): Dropout(p=0.5, inplace=False)\n",
       "    (6): Linear(in_features=4096, out_features=1000, bias=True)\n",
       "  )\n",
       ")"
      ]
     },
     "execution_count": 6,
     "metadata": {},
     "output_type": "execute_result"
    }
   ],
   "source": [
    "vgg16"
   ]
  },
  {
   "attachments": {},
   "cell_type": "markdown",
   "id": "018e9568",
   "metadata": {},
   "source": [
    "Because we are looking for a pre-trained feature extractor here, we decide to only use the features part and freeze its weights. We can then add a few subsequent layers to fine tune predictions. We can thus define the following model:"
   ]
  },
  {
   "cell_type": "code",
   "execution_count": 7,
   "id": "a051bb05",
   "metadata": {},
   "outputs": [],
   "source": [
    "class BaseModel(nn.Module):\n",
    "\n",
    "    def __init__(self, num_classes=13, dropout_rate=0.5):\n",
    "        \n",
    "        super(BaseModel, self).__init__()\n",
    "        \n",
    "        # Define the layers of the model\n",
    "        self.features = torchvision.models.vgg16(weights='VGG16_Weights.IMAGENET1K_V1').features\n",
    "        self.classifier = nn.Sequential(\n",
    "            nn.Linear(4608, 1024),\n",
    "            nn.ReLU(True),\n",
    "            nn.Dropout(dropout_rate),\n",
    "            nn.Linear(1024, 512),\n",
    "            nn.ReLU(True),\n",
    "            nn.Dropout(dropout_rate),\n",
    "            nn.Linear(512, num_classes)\n",
    "        )\n",
    "\n",
    "        # Set the features to not require gradients\n",
    "        for param in self.features.parameters():\n",
    "            param.requires_grad = False\n",
    "\n",
    "\n",
    "    def forward(self, x):\n",
    "        x = self.features(x)\n",
    "        x = torch.flatten(x, 1)\n",
    "        x = self.classifier(x)\n",
    "        return x\n"
   ]
  },
  {
   "attachments": {},
   "cell_type": "markdown",
   "id": "b7348424",
   "metadata": {},
   "source": [
    "# Training"
   ]
  },
  {
   "attachments": {},
   "cell_type": "markdown",
   "id": "c3c49179",
   "metadata": {},
   "source": [
    "We can start by finding the device to use for training:"
   ]
  },
  {
   "cell_type": "code",
   "execution_count": 8,
   "id": "1237640e",
   "metadata": {},
   "outputs": [
    {
     "name": "stdout",
     "output_type": "stream",
     "text": [
      "Device: mps\n"
     ]
    }
   ],
   "source": [
    "if torch.cuda.is_available():\n",
    "    DEVICE = torch.device(\"cuda\")\n",
    "elif torch.has_mps:\n",
    "    DEVICE = torch.device(\"mps\")\n",
    "else:\n",
    "    DEVICE = torch.device(\"cpu\")\n",
    "\n",
    "if DEVICE == \"cuda\":\n",
    "    torch.cuda.empty_cache()\n",
    "\n",
    "print(\"Device:\", DEVICE)"
   ]
  },
  {
   "attachments": {},
   "cell_type": "markdown",
   "id": "61cb4352",
   "metadata": {},
   "source": [
    "We can then go ahead and define the loss function we will be using. Because we will opt for a balanced focal loss instead of a regular cross entropy loss which gives more importance to the classes that are harder to classify. We thus implement the focal loss defined by the following formula:\n",
    "$$\n",
    "FL(p_t) = -(1-p_t^{\\gamma})log(p_t)\n",
    "$$\n",
    "\n",
    "where gamma $\\gamma$ is a tunable hyperparameter. We can also further add an alpha term to handle class imbalance, making our loss function a class-balanced focal loss, as shown in https://github.com/AdeelH/pytorch-multi-class-focal-loss. \n",
    "Note: Since we have balanced classes thanks to oversmapling, we will not use the alpha parameter.\n",
    "\n"
   ]
  },
  {
   "attachments": {},
   "cell_type": "markdown",
   "id": "057bb473",
   "metadata": {},
   "source": [
    "Finally, we need an accuracy metric to tune the hyperparameters of the model. We will opt for a balanced accuracy score, which is just regular classification accuracy but adapted to weigh each class by its frequency:"
   ]
  },
  {
   "cell_type": "code",
   "execution_count": 9,
   "id": "66bd0a9f",
   "metadata": {},
   "outputs": [],
   "source": [
    "# Define the accuracy metrics\n",
    "f1_score = torchmetrics.F1Score(task=\"multiclass\", num_classes=13, average=\"weighted\").to(DEVICE)\n",
    "accuracy = torchmetrics.Accuracy(task=\"multiclass\", num_classes=13, average=\"weighted\").to(DEVICE)"
   ]
  },
  {
   "attachments": {},
   "cell_type": "markdown",
   "id": "2ad6b2b4",
   "metadata": {},
   "source": [
    "We can now load a single example from the loader and display its label as well as its class proportion, which should be around 1/13 which is +- 8%."
   ]
  },
  {
   "cell_type": "code",
   "execution_count": 10,
   "id": "82f2ebd3",
   "metadata": {},
   "outputs": [
    {
     "name": "stderr",
     "output_type": "stream",
     "text": [
      "/Users/enzobenoit-jeannin/Documents/GitHub/RecogniChess/myenv/lib/python3.9/site-packages/torchvision/transforms/functional.py:1603: UserWarning: The default value of the antialias parameter of all the resizing transforms (Resize(), RandomResizedCrop(), etc.) will change from None to True in v0.17, in order to be consistent across the PIL and Tensor backends. To suppress this warning, directly pass antialias=True (recommended, future default), antialias=None (current default, which means False for Tensors and True for PIL), or antialias=False (only works on Tensors - PIL will still use antialiasing). This also applies if you are using the inference transforms from the models weights: update the call to weights.transforms(antialias=True).\n",
      "  warnings.warn(\n"
     ]
    },
    {
     "data": {
      "image/png": "[encoded data removed]",
      "text/plain": [
       "<Figure size 432x288 with 1 Axes>"
      ]
     },
     "metadata": {
      "needs_background": "light"
     },
     "output_type": "display_data"
    }
   ],
   "source": [
    "gen_train_loader = get_real_loader(train_real_dataset, batch_size=200)\n",
    "\n",
    "for i, (images, labels) in enumerate(gen_train_loader):\n",
    "    class_proportions = [(labels == i).sum() / len(labels) for i in range(13)]\n",
    "    plt.title(\"label: \" + str(labels[0].item()) + \" proportion: \" + str(class_proportions[labels[0].item()].item() * 100) + \"%\")\n",
    "    plt.imshow(images[0].permute(1, 2, 0))\n",
    "    break"
   ]
  },
  {
   "attachments": {},
   "cell_type": "markdown",
   "id": "ed6cd714",
   "metadata": {},
   "source": [
    "We can also define the following function for saving the metrics collected during training. We will plot these metrics later in the Results.ipynb file."
   ]
  },
  {
   "cell_type": "code",
   "execution_count": 11,
   "id": "7010d7e7",
   "metadata": {},
   "outputs": [],
   "source": [
    "def save_metrics_to_json(gen_training_losses, gen_training_accs, gen_training_f1s, gen_validation_losses, gen_validation_accs, gen_validation_f1s, real_validation_losses, real_validation_accs, real_validation_f1s, gamma, batch_size, dropout_rate):\n",
    "\n",
    "    metrics = {\n",
    "        \"gen_training_losses\": gen_training_losses,\n",
    "        \"gen_training_accs\": gen_training_accs,\n",
    "        \"gen_training_f1s\": gen_training_f1s,\n",
    "        \"gen_validation_losses\": gen_validation_losses,\n",
    "        \"gen_validation_accs\": gen_validation_accs,\n",
    "        \"gen_validation_f1s\": gen_validation_f1s,\n",
    "        \"real_validation_losses\": real_validation_losses,\n",
    "        \"real_validation_accs\": real_validation_accs,\n",
    "        \"real_validation_f1s\": real_validation_f1s,\n",
    "        \"gamma\": gamma,\n",
    "        \"batch_size\": batch_size,\n",
    "        \"dropout_rate\": dropout_rate\n",
    "    }\n",
    "\n",
    "    with open(\"HP tuning results/\" + \"gamma_\" + str(gamma) + \"_batch_\" + str(batch_size) + \"_dropout_\" + str(dropout_rate) + \".json\", \"w\") as json_file:\n",
    "        json.dump(metrics, json_file)"
   ]
  },
  {
   "attachments": {},
   "cell_type": "markdown",
   "id": "f6672cd8",
   "metadata": {},
   "source": [
    "We can now define a training function we will call for each hyperparameter combination."
   ]
  },
  {
   "cell_type": "code",
   "execution_count": 12,
   "id": "2001a877",
   "metadata": {},
   "outputs": [],
   "source": [
    "def train_BASE(gamma, dropout_rate, batch_size):\n",
    "    # Define the data loaders accounting for the batch size\n",
    "    train_loader = get_gen_loader(train_gen_dataset, batch_size=batch_size)\n",
    "    gen_val_loader = get_gen_loader(val_gen_dataset, batch_size=batch_size)\n",
    "    real_val_loader = get_real_loader(val_real_dataset, batch_size=batch_size)  \n",
    "\n",
    "    # Define the new loss function (Taking into account gamma)\n",
    "    focal_loss = torch.hub.load(\n",
    "        'adeelh/pytorch-multi-class-focal-loss',\n",
    "        model='FocalLoss',\n",
    "        gamma=gamma, # No use of alpha since we have balanced classes now with the oversampling\n",
    "        reduction='mean',\n",
    "        force_reload=False,\n",
    "        verbose = False\n",
    "    ).to(DEVICE)\n",
    "\n",
    "    basemodel = BaseModel(dropout_rate=dropout_rate).to(DEVICE)      \n",
    "    opt = optim.Adam(basemodel.parameters(), lr=learning_rate)\n",
    "\n",
    "    # To store the metrics through epochs\n",
    "    gen_training_losses = []\n",
    "    gen_training_accs = []\n",
    "    gen_training_f1s = []\n",
    "    gen_validation_losses = []\n",
    "    gen_validation_accs = []\n",
    "    gen_validation_f1s = []\n",
    "    real_validation_losses = []\n",
    "    real_validation_accs = []\n",
    "    real_validation_f1s = []\n",
    "\n",
    "    for epoch in range(num_epochs):\n",
    "        \n",
    "        # Train the model\n",
    "        for iteration, (X_train_gen, y_train_gen) in tqdm(enumerate(train_loader)):\n",
    "            \n",
    "            # Set the model to training mode\n",
    "            basemodel.train()\n",
    "\n",
    "            # Move the data to the device\n",
    "            X_train_gen = X_train_gen.to(DEVICE)\n",
    "            y_train_gen = y_train_gen.to(DEVICE)\n",
    "\n",
    "            # Forward pass\n",
    "            y_train_pred_raw_gen = basemodel(X_train_gen)\n",
    "            y_train_pred_gen = torch.argmax(y_train_pred_raw_gen, dim=1)\n",
    "\n",
    "            # Compute the loss\n",
    "            loss_train = focal_loss(y_train_pred_raw_gen, y_train_gen.long())\n",
    "\n",
    "            # Compute the accuracy\n",
    "            acc_train = accuracy(y_train_pred_gen, y_train_gen)\n",
    "            f1_train = f1_score(y_train_pred_gen, y_train_gen)\n",
    "\n",
    "            # Backward pass\n",
    "            opt.zero_grad()\n",
    "            loss_train.backward()\n",
    "            opt.step()\n",
    "\n",
    "            # Store the loss & accuracy\n",
    "            gen_training_losses.append(loss_train.item())\n",
    "            gen_training_accs.append(acc_train.item())\n",
    "            gen_training_f1s.append(f1_train.item())\n",
    "            \n",
    "            # Check if the model should be validated\n",
    "            if iteration == 0 or (iteration + 1) % n_validation == 0:\n",
    "                \n",
    "                # Set the model to evaluation mode\n",
    "                basemodel.eval()\n",
    "                \n",
    "                # Disable gradient calculation\n",
    "                with torch.no_grad():\n",
    "\n",
    "                    # 1) Evaluate on the generated validation set\n",
    "                    acc_val_sum = 0\n",
    "                    weighted_f1_val_sum = 0\n",
    "                    loss_val_sum = 0\n",
    "\n",
    "                    # Extract an iterator from the generated data loader\n",
    "                    gen_val_iter = iter(gen_val_loader)\n",
    "\n",
    "                    # Iterate for n_validation_minibatches\n",
    "                    for i in range(n_validation_minibatches):\n",
    "\n",
    "                        # Get the next minibatch\n",
    "                        X_val_gen, y_val_gen = next(gen_val_iter)\n",
    "                            \n",
    "                        # Move the data to the device\n",
    "                        X_val_gen = X_val_gen.to(DEVICE)\n",
    "                        y_val_gen = y_val_gen.to(DEVICE)\n",
    "\n",
    "                        # Forward pass\n",
    "                        y_val_pred_raw_gen = basemodel(X_val_gen)\n",
    "                        y_val_pred_gen = torch.argmax(y_val_pred_raw_gen, dim=1)\n",
    "\n",
    "                        # Compute the metrics\n",
    "                        acc_val_sum += accuracy(y_val_pred_gen, y_val_gen)\n",
    "                        weighted_f1_val_sum += f1_score(y_val_pred_gen, y_val_gen)\n",
    "                        loss_val_sum += focal_loss(y_val_pred_raw_gen, y_val_gen)\n",
    "\n",
    "                    # Compute the average metrics\n",
    "                    acc_val_gen = acc_val_sum / n_validation_minibatches\n",
    "                    loss_val_gen = loss_val_sum / n_validation_minibatches\n",
    "                    weighted_f1_val_gen = weighted_f1_val_sum / n_validation_minibatches\n",
    "\n",
    "                    # 2) Repeat on the real validation set\n",
    "                    acc_val_sum = 0\n",
    "                    weighted_f1_val_sum = 0\n",
    "                    loss_val_sum = 0\n",
    "\n",
    "                    # Extract an iterator from the generated data loader\n",
    "                    real_val_iter = iter(real_val_loader)\n",
    "\n",
    "                    # Iterate for n_validation_minibatches\n",
    "                    for i in range(n_validation_minibatches):\n",
    "\n",
    "                        # Get the next minibatch\n",
    "                        X_val_real, y_val_real = next(real_val_iter)\n",
    "                            \n",
    "                        # Move the data to the device\n",
    "                        X_val_real = X_val_real.to(DEVICE)\n",
    "                        y_val_real = y_val_real.to(DEVICE)\n",
    "\n",
    "                        # Forward pass\n",
    "                        y_val_pred_raw_real = basemodel(X_val_real)\n",
    "                        y_val_pred_real = torch.argmax(y_val_pred_raw_real, dim=1)\n",
    "\n",
    "                        # Compute the metrics\n",
    "                        acc_val_sum += accuracy(y_val_pred_real, y_val_real)\n",
    "                        weighted_f1_val_sum += f1_score(y_val_pred_real, y_val_real)\n",
    "                        loss_val_sum += focal_loss(y_val_pred_raw_real, y_val_real)\n",
    "\n",
    "                    # Compute the average metrics\n",
    "                    acc_val_real = acc_val_sum / n_validation_minibatches\n",
    "                    loss_val_real = loss_val_sum / n_validation_minibatches\n",
    "                    weighted_f1_val_real = weighted_f1_val_sum / n_validation_minibatches\n",
    "\n",
    "                    # Store all 6 metrics\n",
    "                    gen_validation_losses.append(loss_val_gen.item())\n",
    "                    gen_validation_accs.append(acc_val_gen.item())\n",
    "                    gen_validation_f1s.append(weighted_f1_val_gen.item())\n",
    "                    real_validation_losses.append(loss_val_real.item())\n",
    "                    real_validation_accs.append(acc_val_real.item())\n",
    "                    real_validation_f1s.append(weighted_f1_val_real.item())\n",
    "\n",
    "                    # Print an update\n",
    "                    print('----------------------------------------------------------------')\n",
    "                    print(f'EPOCH [{epoch + 1}], ITERATION [{iteration+1}]')\n",
    "                    print(f'TRAINING => Loss: {loss_train}, Training accuracy: {acc_train}, Training weighted F1: {f1_train}')\n",
    "                    print(f'GENERATED VALIDATION => Loss: {loss_val_gen}, Validation accuracy: {acc_val_gen}, Validation weighted F1: {weighted_f1_val_gen}')\n",
    "                    print(f'REAL VALIDATION => Loss: {loss_val_real}, Validation accuracy: {acc_val_real}, Validation weighted F1: {weighted_f1_val_real}')\n",
    "                    print('----------------------------------------------------------------')\n",
    "\n",
    "        # Save the model every epoch as a checkpoint \n",
    "        torch.save(basemodel.state_dict(), f'./checkpoints/basemodel_gamma_{gamma}_dropout_{dropout_rate}_batch_{batch_size}_epoch_{epoch+1}.ckpt')\n",
    "    \n",
    "    # Plot and save the metrics\n",
    "    save_metrics_to_json(gen_training_losses, gen_training_accs, gen_training_f1s, gen_validation_losses, gen_validation_accs, gen_validation_f1s, real_validation_losses, real_validation_accs, real_validation_f1s, gamma, batch_size, dropout_rate)\n",
    "    \n",
    "    return basemodel"
   ]
  },
  {
   "attachments": {},
   "cell_type": "markdown",
   "id": "19f4a32f",
   "metadata": {},
   "source": [
    "We also define an evaluate function to compare the best models obtained during training for each hyperparameter combination. The comparison is done on the real life validation set."
   ]
  },
  {
   "cell_type": "code",
   "execution_count": 13,
   "id": "bdda58ec",
   "metadata": {},
   "outputs": [],
   "source": [
    "def evaluate(basemodel, batch_size):\n",
    "    # Load the real validation dataset\n",
    "    real_val_loader = get_real_loader(val_real_dataset, batch_size=batch_size)  \n",
    "\n",
    "    # Evaluate the final real life validation accuracy\n",
    "    # Set the model to evaluation mode\n",
    "    basemodel.eval()\n",
    "    acc_val_sum = 0\n",
    "\n",
    "    # Create an iterator\n",
    "    real_val_iter = iter(real_val_loader)\n",
    "\n",
    "    # Disable gradient calculation\n",
    "    with torch.no_grad():\n",
    "        \n",
    "        for i in range(n_final_validation_minibatches):\n",
    "\n",
    "            # Get the next minibatch\n",
    "            minibatch = next(real_val_iter, None)\n",
    "            if minibatch is None:\n",
    "                real_val_iter = iter(real_val_loader)\n",
    "                minibatch = next(real_val_iter, None)\n",
    "            X_val_real, y_val_real = minibatch\n",
    "\n",
    "            # Move the data to the device\n",
    "            X_val_real = X_val_real.to(DEVICE)\n",
    "            y_val_real = y_val_real.to(DEVICE)\n",
    "\n",
    "            # Forward pass\n",
    "            y_val_pred_prob_real = basemodel(X_val_real)\n",
    "            y_val_pred_real = torch.argmax(y_val_pred_prob_real, dim=1)\n",
    "\n",
    "            # Compute the metrics\n",
    "            acc_val_sum += accuracy(y_val_pred_real, y_val_real)\n",
    "\n",
    "    # Compute the average accuracy\n",
    "    final_real_val_acc = acc_val_sum / n_final_validation_minibatches\n",
    "\n",
    "    return final_real_val_acc"
   ]
  },
  {
   "attachments": {},
   "cell_type": "markdown",
   "id": "4e0fb873",
   "metadata": {},
   "source": [
    "We can now proceed to train our model on the generated dataset:"
   ]
  },
  {
   "cell_type": "code",
   "execution_count": 14,
   "id": "3473931b",
   "metadata": {},
   "outputs": [
    {
     "name": "stderr",
     "output_type": "stream",
     "text": [
      "0it [00:00, ?it/s]/Users/enzobenoit-jeannin/Documents/GitHub/RecogniChess/myenv/lib/python3.9/site-packages/torchvision/transforms/functional.py:1603: UserWarning: The default value of the antialias parameter of all the resizing transforms (Resize(), RandomResizedCrop(), etc.) will change from None to True in v0.17, in order to be consistent across the PIL and Tensor backends. To suppress this warning, directly pass antialias=True (recommended, future default), antialias=None (current default, which means False for Tensors and True for PIL), or antialias=False (only works on Tensors - PIL will still use antialiasing). This also applies if you are using the inference transforms from the models weights: update the call to weights.transforms(antialias=True).\n",
      "  warnings.warn(\n",
      "/Users/enzobenoit-jeannin/Documents/GitHub/RecogniChess/myenv/lib/python3.9/site-packages/torchmetrics/functional/classification/stat_scores.py:416: UserWarning: MPS: no support for int64 reduction ops, casting it to int32 (Triggered internally at /Users/runner/work/pytorch/pytorch/pytorch/aten/src/ATen/native/mps/operations/ReduceOps.mm:144.)\n",
      "  fp = confmat.sum(0) - tp\n",
      "1it [00:02,  2.11s/it]"
     ]
    },
    {
     "name": "stdout",
     "output_type": "stream",
     "text": [
      "----------------------------------------------------------------\n",
      "EPOCH [1], ITERATION [1]\n",
      "TRAINING => Loss: 2.1899008750915527, Training accuracy: 0.054999999701976776, Training weighted F1: 0.041236553341150284\n",
      "GENERATED VALIDATION => Loss: 2.0984880924224854, Validation accuracy: 0.06499999761581421, Validation weighted F1: 0.016197193413972855\n",
      "REAL VALIDATION => Loss: 2.110107421875, Validation accuracy: 0.08500000089406967, Validation weighted F1: 0.014728285372257233\n",
      "----------------------------------------------------------------\n"
     ]
    },
    {
     "name": "stderr",
     "output_type": "stream",
     "text": [
      "10it [00:06,  1.28it/s]"
     ]
    },
    {
     "name": "stdout",
     "output_type": "stream",
     "text": [
      "----------------------------------------------------------------\n",
      "EPOCH [1], ITERATION [10]\n",
      "TRAINING => Loss: 0.5360502600669861, Training accuracy: 0.6699999570846558, Training weighted F1: 0.6365073919296265\n",
      "GENERATED VALIDATION => Loss: 0.43930333852767944, Validation accuracy: 0.7350000143051147, Validation weighted F1: 0.706863522529602\n",
      "REAL VALIDATION => Loss: 1.608465552330017, Validation accuracy: 0.36250001192092896, Validation weighted F1: 0.3132643699645996\n",
      "----------------------------------------------------------------\n"
     ]
    },
    {
     "name": "stderr",
     "output_type": "stream",
     "text": [
      "20it [00:11,  1.32it/s]"
     ]
    },
    {
     "name": "stdout",
     "output_type": "stream",
     "text": [
      "----------------------------------------------------------------\n",
      "EPOCH [1], ITERATION [20]\n",
      "TRAINING => Loss: 0.1709904670715332, Training accuracy: 0.8349999785423279, Training weighted F1: 0.8329929113388062\n",
      "GENERATED VALIDATION => Loss: 0.15487352013587952, Validation accuracy: 0.8849999904632568, Validation weighted F1: 0.8832827210426331\n",
      "REAL VALIDATION => Loss: 1.7132662534713745, Validation accuracy: 0.4399999976158142, Validation weighted F1: 0.4068019986152649\n",
      "----------------------------------------------------------------\n"
     ]
    },
    {
     "name": "stderr",
     "output_type": "stream",
     "text": [
      "30it [00:15,  1.32it/s]"
     ]
    },
    {
     "name": "stdout",
     "output_type": "stream",
     "text": [
      "----------------------------------------------------------------\n",
      "EPOCH [1], ITERATION [30]\n",
      "TRAINING => Loss: 0.10488790273666382, Training accuracy: 0.9300000071525574, Training weighted F1: 0.9296492338180542\n",
      "GENERATED VALIDATION => Loss: 0.09942099452018738, Validation accuracy: 0.8924999833106995, Validation weighted F1: 0.8965068459510803\n",
      "REAL VALIDATION => Loss: 1.8526575565338135, Validation accuracy: 0.4050000011920929, Validation weighted F1: 0.36870890855789185\n",
      "----------------------------------------------------------------\n"
     ]
    },
    {
     "name": "stderr",
     "output_type": "stream",
     "text": [
      "40it [00:20,  1.34it/s]"
     ]
    },
    {
     "name": "stdout",
     "output_type": "stream",
     "text": [
      "----------------------------------------------------------------\n",
      "EPOCH [1], ITERATION [40]\n",
      "TRAINING => Loss: 0.07896917313337326, Training accuracy: 0.9499999284744263, Training weighted F1: 0.9506375789642334\n",
      "GENERATED VALIDATION => Loss: 0.06844865530729294, Validation accuracy: 0.9424999952316284, Validation weighted F1: 0.9434134364128113\n",
      "REAL VALIDATION => Loss: 1.986701488494873, Validation accuracy: 0.4124999940395355, Validation weighted F1: 0.383893221616745\n",
      "----------------------------------------------------------------\n"
     ]
    },
    {
     "name": "stderr",
     "output_type": "stream",
     "text": [
      "50it [00:25,  1.35it/s]"
     ]
    },
    {
     "name": "stdout",
     "output_type": "stream",
     "text": [
      "----------------------------------------------------------------\n",
      "EPOCH [1], ITERATION [50]\n",
      "TRAINING => Loss: 0.05525396391749382, Training accuracy: 0.9499999284744263, Training weighted F1: 0.9498564004898071\n",
      "GENERATED VALIDATION => Loss: 0.04695206135511398, Validation accuracy: 0.9600000381469727, Validation weighted F1: 0.9583067893981934\n",
      "REAL VALIDATION => Loss: 1.5583144426345825, Validation accuracy: 0.4675000011920929, Validation weighted F1: 0.4398229122161865\n",
      "----------------------------------------------------------------\n"
     ]
    },
    {
     "name": "stderr",
     "output_type": "stream",
     "text": [
      "60it [00:29,  1.35it/s]"
     ]
    },
    {
     "name": "stdout",
     "output_type": "stream",
     "text": [
      "----------------------------------------------------------------\n",
      "EPOCH [1], ITERATION [60]\n",
      "TRAINING => Loss: 0.021330390125513077, Training accuracy: 0.9799999594688416, Training weighted F1: 0.9800008535385132\n",
      "GENERATED VALIDATION => Loss: 0.04191061109304428, Validation accuracy: 0.9599999189376831, Validation weighted F1: 0.9585237503051758\n",
      "REAL VALIDATION => Loss: 1.9254560470581055, Validation accuracy: 0.4049999713897705, Validation weighted F1: 0.37551239132881165\n",
      "----------------------------------------------------------------\n"
     ]
    },
    {
     "name": "stderr",
     "output_type": "stream",
     "text": [
      "70it [00:34,  1.36it/s]"
     ]
    },
    {
     "name": "stdout",
     "output_type": "stream",
     "text": [
      "----------------------------------------------------------------\n",
      "EPOCH [1], ITERATION [70]\n",
      "TRAINING => Loss: 0.05648677051067352, Training accuracy: 0.9600000381469727, Training weighted F1: 0.9607285261154175\n",
      "GENERATED VALIDATION => Loss: 0.046296313405036926, Validation accuracy: 0.9649999737739563, Validation weighted F1: 0.9645113945007324\n",
      "REAL VALIDATION => Loss: 1.2612378597259521, Validation accuracy: 0.6025000214576721, Validation weighted F1: 0.5884844064712524\n",
      "----------------------------------------------------------------\n"
     ]
    },
    {
     "name": "stderr",
     "output_type": "stream",
     "text": [
      "80it [00:38,  1.36it/s]"
     ]
    },
    {
     "name": "stdout",
     "output_type": "stream",
     "text": [
      "----------------------------------------------------------------\n",
      "EPOCH [1], ITERATION [80]\n",
      "TRAINING => Loss: 0.029735859483480453, Training accuracy: 0.9750000238418579, Training weighted F1: 0.9761263728141785\n",
      "GENERATED VALIDATION => Loss: 0.01566586270928383, Validation accuracy: 0.9825000166893005, Validation weighted F1: 0.9823306798934937\n",
      "REAL VALIDATION => Loss: 1.5413382053375244, Validation accuracy: 0.4625000059604645, Validation weighted F1: 0.4348525404930115\n",
      "----------------------------------------------------------------\n"
     ]
    },
    {
     "name": "stderr",
     "output_type": "stream",
     "text": [
      "90it [00:43,  1.29it/s]"
     ]
    },
    {
     "name": "stdout",
     "output_type": "stream",
     "text": [
      "----------------------------------------------------------------\n",
      "EPOCH [1], ITERATION [90]\n",
      "TRAINING => Loss: 0.021361464634537697, Training accuracy: 0.9850000143051147, Training weighted F1: 0.985157310962677\n",
      "GENERATED VALIDATION => Loss: 0.02139158919453621, Validation accuracy: 0.9825000166893005, Validation weighted F1: 0.9823833703994751\n",
      "REAL VALIDATION => Loss: 1.776571273803711, Validation accuracy: 0.4675000011920929, Validation weighted F1: 0.4276445508003235\n",
      "----------------------------------------------------------------\n"
     ]
    },
    {
     "name": "stderr",
     "output_type": "stream",
     "text": [
      "100it [00:48,  1.30it/s]"
     ]
    },
    {
     "name": "stdout",
     "output_type": "stream",
     "text": [
      "----------------------------------------------------------------\n",
      "EPOCH [1], ITERATION [100]\n",
      "TRAINING => Loss: 0.04692373052239418, Training accuracy: 0.9599999785423279, Training weighted F1: 0.9593687653541565\n",
      "GENERATED VALIDATION => Loss: 0.014796670526266098, Validation accuracy: 0.9900000095367432, Validation weighted F1: 0.9899888634681702\n",
      "REAL VALIDATION => Loss: 1.5749483108520508, Validation accuracy: 0.49000000953674316, Validation weighted F1: 0.4736781716346741\n",
      "----------------------------------------------------------------\n"
     ]
    },
    {
     "name": "stderr",
     "output_type": "stream",
     "text": [
      "110it [00:54,  1.19s/it]"
     ]
    },
    {
     "name": "stdout",
     "output_type": "stream",
     "text": [
      "----------------------------------------------------------------\n",
      "EPOCH [1], ITERATION [110]\n",
      "TRAINING => Loss: 0.011775374412536621, Training accuracy: 0.9949999451637268, Training weighted F1: 0.9949719309806824\n",
      "GENERATED VALIDATION => Loss: 0.011142466217279434, Validation accuracy: 0.9850000143051147, Validation weighted F1: 0.984947919845581\n",
      "REAL VALIDATION => Loss: 2.0482981204986572, Validation accuracy: 0.4274999797344208, Validation weighted F1: 0.3956616520881653\n",
      "----------------------------------------------------------------\n"
     ]
    },
    {
     "name": "stderr",
     "output_type": "stream",
     "text": [
      "120it [00:59,  1.25it/s]"
     ]
    },
    {
     "name": "stdout",
     "output_type": "stream",
     "text": [
      "----------------------------------------------------------------\n",
      "EPOCH [1], ITERATION [120]\n",
      "TRAINING => Loss: 0.021543873474001884, Training accuracy: 0.9800000190734863, Training weighted F1: 0.9799308180809021\n",
      "GENERATED VALIDATION => Loss: 0.014912299811840057, Validation accuracy: 0.9850000143051147, Validation weighted F1: 0.9850055575370789\n",
      "REAL VALIDATION => Loss: 1.99698805809021, Validation accuracy: 0.4375, Validation weighted F1: 0.4140115976333618\n",
      "----------------------------------------------------------------\n"
     ]
    },
    {
     "name": "stderr",
     "output_type": "stream",
     "text": [
      "130it [01:06,  1.21s/it]"
     ]
    },
    {
     "name": "stdout",
     "output_type": "stream",
     "text": [
      "----------------------------------------------------------------\n",
      "EPOCH [1], ITERATION [130]\n",
      "TRAINING => Loss: 0.009308046661317348, Training accuracy: 0.9949999451637268, Training weighted F1: 0.9950475692749023\n",
      "GENERATED VALIDATION => Loss: 0.03414801508188248, Validation accuracy: 0.9650000333786011, Validation weighted F1: 0.9644415378570557\n",
      "REAL VALIDATION => Loss: 1.629201889038086, Validation accuracy: 0.48000001907348633, Validation weighted F1: 0.45530951023101807\n",
      "----------------------------------------------------------------\n"
     ]
    },
    {
     "name": "stderr",
     "output_type": "stream",
     "text": [
      "140it [01:11,  1.22it/s]"
     ]
    },
    {
     "name": "stdout",
     "output_type": "stream",
     "text": [
      "----------------------------------------------------------------\n",
      "EPOCH [1], ITERATION [140]\n",
      "TRAINING => Loss: 0.011468126438558102, Training accuracy: 0.9900000095367432, Training weighted F1: 0.9898914098739624\n",
      "GENERATED VALIDATION => Loss: 0.01038477011024952, Validation accuracy: 0.9900000095367432, Validation weighted F1: 0.9899489879608154\n",
      "REAL VALIDATION => Loss: 1.3344194889068604, Validation accuracy: 0.5499999523162842, Validation weighted F1: 0.5301655530929565\n",
      "----------------------------------------------------------------\n"
     ]
    },
    {
     "name": "stderr",
     "output_type": "stream",
     "text": [
      "150it [01:17,  1.22it/s]"
     ]
    },
    {
     "name": "stdout",
     "output_type": "stream",
     "text": [
      "----------------------------------------------------------------\n",
      "EPOCH [1], ITERATION [150]\n",
      "TRAINING => Loss: 0.009197917766869068, Training accuracy: 0.9900000095367432, Training weighted F1: 0.9900050759315491\n",
      "GENERATED VALIDATION => Loss: 0.010224800556898117, Validation accuracy: 0.9950000047683716, Validation weighted F1: 0.9949407577514648\n",
      "REAL VALIDATION => Loss: 2.2089955806732178, Validation accuracy: 0.4624999761581421, Validation weighted F1: 0.43800029158592224\n",
      "----------------------------------------------------------------\n"
     ]
    },
    {
     "name": "stderr",
     "output_type": "stream",
     "text": [
      "160it [01:22,  1.27it/s]"
     ]
    },
    {
     "name": "stdout",
     "output_type": "stream",
     "text": [
      "----------------------------------------------------------------\n",
      "EPOCH [1], ITERATION [160]\n",
      "TRAINING => Loss: 0.023142047226428986, Training accuracy: 0.9750000238418579, Training weighted F1: 0.9752100706100464\n",
      "GENERATED VALIDATION => Loss: 0.01203172653913498, Validation accuracy: 0.9824999570846558, Validation weighted F1: 0.9825659990310669\n",
      "REAL VALIDATION => Loss: 1.4495079517364502, Validation accuracy: 0.5224999785423279, Validation weighted F1: 0.507648229598999\n",
      "----------------------------------------------------------------\n"
     ]
    },
    {
     "name": "stderr",
     "output_type": "stream",
     "text": [
      "170it [01:28,  1.15s/it]"
     ]
    },
    {
     "name": "stdout",
     "output_type": "stream",
     "text": [
      "----------------------------------------------------------------\n",
      "EPOCH [1], ITERATION [170]\n",
      "TRAINING => Loss: 0.009667186066508293, Training accuracy: 0.9950000047683716, Training weighted F1: 0.995010495185852\n",
      "GENERATED VALIDATION => Loss: 0.007714510895311832, Validation accuracy: 0.9925000071525574, Validation weighted F1: 0.9924091100692749\n",
      "REAL VALIDATION => Loss: 1.626800537109375, Validation accuracy: 0.5049999952316284, Validation weighted F1: 0.4846189022064209\n",
      "----------------------------------------------------------------\n"
     ]
    },
    {
     "name": "stderr",
     "output_type": "stream",
     "text": [
      "180it [01:33,  1.26it/s]"
     ]
    },
    {
     "name": "stdout",
     "output_type": "stream",
     "text": [
      "----------------------------------------------------------------\n",
      "EPOCH [1], ITERATION [180]\n",
      "TRAINING => Loss: 0.011704590171575546, Training accuracy: 0.9900000095367432, Training weighted F1: 0.9900133609771729\n",
      "GENERATED VALIDATION => Loss: 0.008985523134469986, Validation accuracy: 0.9874999523162842, Validation weighted F1: 0.9874380826950073\n",
      "REAL VALIDATION => Loss: 1.8165184259414673, Validation accuracy: 0.4649999737739563, Validation weighted F1: 0.43519628047943115\n",
      "----------------------------------------------------------------\n"
     ]
    },
    {
     "name": "stderr",
     "output_type": "stream",
     "text": [
      "190it [01:38,  1.26it/s]"
     ]
    },
    {
     "name": "stdout",
     "output_type": "stream",
     "text": [
      "----------------------------------------------------------------\n",
      "EPOCH [1], ITERATION [190]\n",
      "TRAINING => Loss: 0.014528267085552216, Training accuracy: 0.98499995470047, Training weighted F1: 0.9848378896713257\n",
      "GENERATED VALIDATION => Loss: 0.02535005658864975, Validation accuracy: 0.9824999570846558, Validation weighted F1: 0.9822431802749634\n",
      "REAL VALIDATION => Loss: 1.8158729076385498, Validation accuracy: 0.47499996423721313, Validation weighted F1: 0.447731077671051\n",
      "----------------------------------------------------------------\n"
     ]
    },
    {
     "name": "stderr",
     "output_type": "stream",
     "text": [
      "200it [01:42,  1.33it/s]"
     ]
    },
    {
     "name": "stdout",
     "output_type": "stream",
     "text": [
      "----------------------------------------------------------------\n",
      "EPOCH [1], ITERATION [200]\n",
      "TRAINING => Loss: 0.024728288874030113, Training accuracy: 0.9750000238418579, Training weighted F1: 0.9747565984725952\n",
      "GENERATED VALIDATION => Loss: 0.010082578286528587, Validation accuracy: 0.9824999570846558, Validation weighted F1: 0.9826058149337769\n",
      "REAL VALIDATION => Loss: 1.8325235843658447, Validation accuracy: 0.4950000047683716, Validation weighted F1: 0.4854343831539154\n",
      "----------------------------------------------------------------\n"
     ]
    },
    {
     "name": "stderr",
     "output_type": "stream",
     "text": [
      "210it [01:47,  1.33it/s]"
     ]
    },
    {
     "name": "stdout",
     "output_type": "stream",
     "text": [
      "----------------------------------------------------------------\n",
      "EPOCH [1], ITERATION [210]\n",
      "TRAINING => Loss: 0.04981847479939461, Training accuracy: 0.9550000429153442, Training weighted F1: 0.9523846507072449\n",
      "GENERATED VALIDATION => Loss: 0.010676774196326733, Validation accuracy: 0.9925000071525574, Validation weighted F1: 0.9924070239067078\n",
      "REAL VALIDATION => Loss: 1.7522668838500977, Validation accuracy: 0.4724999964237213, Validation weighted F1: 0.4506166875362396\n",
      "----------------------------------------------------------------\n"
     ]
    },
    {
     "name": "stderr",
     "output_type": "stream",
     "text": [
      "220it [01:52,  1.34it/s]"
     ]
    },
    {
     "name": "stdout",
     "output_type": "stream",
     "text": [
      "----------------------------------------------------------------\n",
      "EPOCH [1], ITERATION [220]\n",
      "TRAINING => Loss: 0.024264497682452202, Training accuracy: 0.9700000286102295, Training weighted F1: 0.9699790477752686\n",
      "GENERATED VALIDATION => Loss: 0.020876433700323105, Validation accuracy: 0.9774999618530273, Validation weighted F1: 0.9776193499565125\n",
      "REAL VALIDATION => Loss: 1.3897006511688232, Validation accuracy: 0.5449999570846558, Validation weighted F1: 0.5209404826164246\n",
      "----------------------------------------------------------------\n"
     ]
    },
    {
     "name": "stderr",
     "output_type": "stream",
     "text": [
      "230it [01:56,  1.35it/s]"
     ]
    },
    {
     "name": "stdout",
     "output_type": "stream",
     "text": [
      "----------------------------------------------------------------\n",
      "EPOCH [1], ITERATION [230]\n",
      "TRAINING => Loss: 0.025072088465094566, Training accuracy: 0.9750000238418579, Training weighted F1: 0.9750357866287231\n",
      "GENERATED VALIDATION => Loss: 0.016870392486453056, Validation accuracy: 0.9850000143051147, Validation weighted F1: 0.9849858283996582\n",
      "REAL VALIDATION => Loss: 1.4558298587799072, Validation accuracy: 0.4950000047683716, Validation weighted F1: 0.48547470569610596\n",
      "----------------------------------------------------------------\n"
     ]
    },
    {
     "name": "stderr",
     "output_type": "stream",
     "text": [
      "240it [02:01,  1.34it/s]"
     ]
    },
    {
     "name": "stdout",
     "output_type": "stream",
     "text": [
      "----------------------------------------------------------------\n",
      "EPOCH [1], ITERATION [240]\n",
      "TRAINING => Loss: 0.008978812955319881, Training accuracy: 0.9850000143051147, Training weighted F1: 0.9848217964172363\n",
      "GENERATED VALIDATION => Loss: 0.010128708556294441, Validation accuracy: 0.9925000071525574, Validation weighted F1: 0.9925692081451416\n",
      "REAL VALIDATION => Loss: 2.0649304389953613, Validation accuracy: 0.48499998450279236, Validation weighted F1: 0.45622944831848145\n",
      "----------------------------------------------------------------\n"
     ]
    },
    {
     "name": "stderr",
     "output_type": "stream",
     "text": [
      "250it [02:05,  1.35it/s]"
     ]
    },
    {
     "name": "stdout",
     "output_type": "stream",
     "text": [
      "----------------------------------------------------------------\n",
      "EPOCH [1], ITERATION [250]\n",
      "TRAINING => Loss: 0.0051862155087292194, Training accuracy: 0.9850000143051147, Training weighted F1: 0.9850555062294006\n",
      "GENERATED VALIDATION => Loss: 0.014522150158882141, Validation accuracy: 0.9800000190734863, Validation weighted F1: 0.9795759916305542\n",
      "REAL VALIDATION => Loss: 1.9323186874389648, Validation accuracy: 0.4599999785423279, Validation weighted F1: 0.42874860763549805\n",
      "----------------------------------------------------------------\n"
     ]
    },
    {
     "name": "stderr",
     "output_type": "stream",
     "text": [
      "260it [02:10,  1.35it/s]"
     ]
    },
    {
     "name": "stdout",
     "output_type": "stream",
     "text": [
      "----------------------------------------------------------------\n",
      "EPOCH [1], ITERATION [260]\n",
      "TRAINING => Loss: 0.009915621019899845, Training accuracy: 0.9800000190734863, Training weighted F1: 0.980175793170929\n",
      "GENERATED VALIDATION => Loss: 0.00999896228313446, Validation accuracy: 0.9850000143051147, Validation weighted F1: 0.9851122498512268\n",
      "REAL VALIDATION => Loss: 1.492382287979126, Validation accuracy: 0.5625, Validation weighted F1: 0.5421817302703857\n",
      "----------------------------------------------------------------\n"
     ]
    },
    {
     "name": "stderr",
     "output_type": "stream",
     "text": [
      "270it [02:15,  1.30it/s]"
     ]
    },
    {
     "name": "stdout",
     "output_type": "stream",
     "text": [
      "----------------------------------------------------------------\n",
      "EPOCH [1], ITERATION [270]\n",
      "TRAINING => Loss: 0.009119616821408272, Training accuracy: 0.9950000047683716, Training weighted F1: 0.9949890375137329\n",
      "GENERATED VALIDATION => Loss: 0.010535571724176407, Validation accuracy: 0.9900000095367432, Validation weighted F1: 0.9900205731391907\n",
      "REAL VALIDATION => Loss: 1.6315093040466309, Validation accuracy: 0.4925000071525574, Validation weighted F1: 0.4787655770778656\n",
      "----------------------------------------------------------------\n"
     ]
    },
    {
     "name": "stderr",
     "output_type": "stream",
     "text": [
      "280it [02:19,  1.32it/s]"
     ]
    },
    {
     "name": "stdout",
     "output_type": "stream",
     "text": [
      "----------------------------------------------------------------\n",
      "EPOCH [1], ITERATION [280]\n",
      "TRAINING => Loss: 0.010984616354107857, Training accuracy: 0.9850000143051147, Training weighted F1: 0.9849549531936646\n",
      "GENERATED VALIDATION => Loss: 0.006003981921821833, Validation accuracy: 0.9950000047683716, Validation weighted F1: 0.9949963688850403\n",
      "REAL VALIDATION => Loss: 2.590543270111084, Validation accuracy: 0.42500001192092896, Validation weighted F1: 0.4020833969116211\n",
      "----------------------------------------------------------------\n"
     ]
    },
    {
     "name": "stderr",
     "output_type": "stream",
     "text": [
      "290it [02:24,  1.34it/s]"
     ]
    },
    {
     "name": "stdout",
     "output_type": "stream",
     "text": [
      "----------------------------------------------------------------\n",
      "EPOCH [1], ITERATION [290]\n",
      "TRAINING => Loss: 0.003551766276359558, Training accuracy: 1.0, Training weighted F1: 1.0\n",
      "GENERATED VALIDATION => Loss: 0.011150253936648369, Validation accuracy: 0.9900000095367432, Validation weighted F1: 0.9900655746459961\n",
      "REAL VALIDATION => Loss: 1.7009556293487549, Validation accuracy: 0.5249999761581421, Validation weighted F1: 0.5205469131469727\n",
      "----------------------------------------------------------------\n"
     ]
    },
    {
     "name": "stderr",
     "output_type": "stream",
     "text": [
      "300it [02:29,  1.32it/s]"
     ]
    },
    {
     "name": "stdout",
     "output_type": "stream",
     "text": [
      "----------------------------------------------------------------\n",
      "EPOCH [1], ITERATION [300]\n",
      "TRAINING => Loss: 0.014784296043217182, Training accuracy: 0.9900000095367432, Training weighted F1: 0.9900083541870117\n",
      "GENERATED VALIDATION => Loss: 0.005459616892039776, Validation accuracy: 0.9950000047683716, Validation weighted F1: 0.9950079321861267\n",
      "REAL VALIDATION => Loss: 2.3035402297973633, Validation accuracy: 0.41999998688697815, Validation weighted F1: 0.40403860807418823\n",
      "----------------------------------------------------------------\n"
     ]
    },
    {
     "name": "stderr",
     "output_type": "stream",
     "text": [
      "310it [02:34,  1.32it/s]"
     ]
    },
    {
     "name": "stdout",
     "output_type": "stream",
     "text": [
      "----------------------------------------------------------------\n",
      "EPOCH [1], ITERATION [310]\n",
      "TRAINING => Loss: 0.043003201484680176, Training accuracy: 0.9899999499320984, Training weighted F1: 0.9899725317955017\n",
      "GENERATED VALIDATION => Loss: 0.018675530329346657, Validation accuracy: 0.9800000190734863, Validation weighted F1: 0.9799083471298218\n",
      "REAL VALIDATION => Loss: 1.903709888458252, Validation accuracy: 0.5174999833106995, Validation weighted F1: 0.5046221613883972\n",
      "----------------------------------------------------------------\n"
     ]
    },
    {
     "name": "stderr",
     "output_type": "stream",
     "text": [
      "320it [02:38,  1.36it/s]"
     ]
    },
    {
     "name": "stdout",
     "output_type": "stream",
     "text": [
      "----------------------------------------------------------------\n",
      "EPOCH [1], ITERATION [320]\n",
      "TRAINING => Loss: 0.02077733539044857, Training accuracy: 0.98499995470047, Training weighted F1: 0.9850550293922424\n",
      "GENERATED VALIDATION => Loss: 0.011570884846150875, Validation accuracy: 0.9850000143051147, Validation weighted F1: 0.9850127100944519\n",
      "REAL VALIDATION => Loss: 1.6499238014221191, Validation accuracy: 0.5199999809265137, Validation weighted F1: 0.5074835419654846\n",
      "----------------------------------------------------------------\n"
     ]
    },
    {
     "name": "stderr",
     "output_type": "stream",
     "text": [
      "330it [02:43,  1.34it/s]"
     ]
    },
    {
     "name": "stdout",
     "output_type": "stream",
     "text": [
      "----------------------------------------------------------------\n",
      "EPOCH [1], ITERATION [330]\n",
      "TRAINING => Loss: 0.01892632432281971, Training accuracy: 0.9800000190734863, Training weighted F1: 0.980177104473114\n",
      "GENERATED VALIDATION => Loss: 0.014409024268388748, Validation accuracy: 0.9800000190734863, Validation weighted F1: 0.9802244901657104\n",
      "REAL VALIDATION => Loss: 1.978588342666626, Validation accuracy: 0.4974999725818634, Validation weighted F1: 0.470436155796051\n",
      "----------------------------------------------------------------\n"
     ]
    },
    {
     "name": "stderr",
     "output_type": "stream",
     "text": [
      "340it [02:47,  1.34it/s]"
     ]
    },
    {
     "name": "stdout",
     "output_type": "stream",
     "text": [
      "----------------------------------------------------------------\n",
      "EPOCH [1], ITERATION [340]\n",
      "TRAINING => Loss: 0.006972531322389841, Training accuracy: 0.9900000095367432, Training weighted F1: 0.989953875541687\n",
      "GENERATED VALIDATION => Loss: 0.009795165620744228, Validation accuracy: 0.987500011920929, Validation weighted F1: 0.9874544739723206\n",
      "REAL VALIDATION => Loss: 1.923259973526001, Validation accuracy: 0.5, Validation weighted F1: 0.4837009906768799\n",
      "----------------------------------------------------------------\n"
     ]
    },
    {
     "name": "stderr",
     "output_type": "stream",
     "text": [
      "350it [02:52,  1.34it/s]"
     ]
    },
    {
     "name": "stdout",
     "output_type": "stream",
     "text": [
      "----------------------------------------------------------------\n",
      "EPOCH [1], ITERATION [350]\n",
      "TRAINING => Loss: 0.022684862837195396, Training accuracy: 0.9799999594688416, Training weighted F1: 0.9797672033309937\n",
      "GENERATED VALIDATION => Loss: 0.008705406449735165, Validation accuracy: 0.9950000047683716, Validation weighted F1: 0.9949986934661865\n",
      "REAL VALIDATION => Loss: 2.153970718383789, Validation accuracy: 0.47749999165534973, Validation weighted F1: 0.4693410098552704\n",
      "----------------------------------------------------------------\n"
     ]
    },
    {
     "name": "stderr",
     "output_type": "stream",
     "text": [
      "360it [02:57,  1.34it/s]"
     ]
    },
    {
     "name": "stdout",
     "output_type": "stream",
     "text": [
      "----------------------------------------------------------------\n",
      "EPOCH [1], ITERATION [360]\n",
      "TRAINING => Loss: 0.006094318348914385, Training accuracy: 0.9950000047683716, Training weighted F1: 0.9950168132781982\n",
      "GENERATED VALIDATION => Loss: 0.013538655824959278, Validation accuracy: 0.9900000095367432, Validation weighted F1: 0.98996901512146\n",
      "REAL VALIDATION => Loss: 1.887814998626709, Validation accuracy: 0.5199999809265137, Validation weighted F1: 0.49460676312446594\n",
      "----------------------------------------------------------------\n"
     ]
    },
    {
     "name": "stderr",
     "output_type": "stream",
     "text": [
      "370it [03:01,  1.31it/s]"
     ]
    },
    {
     "name": "stdout",
     "output_type": "stream",
     "text": [
      "----------------------------------------------------------------\n",
      "EPOCH [1], ITERATION [370]\n",
      "TRAINING => Loss: 0.010157518088817596, Training accuracy: 0.9900000095367432, Training weighted F1: 0.9898701906204224\n",
      "GENERATED VALIDATION => Loss: 0.009066014550626278, Validation accuracy: 0.9900000095367432, Validation weighted F1: 0.9898885488510132\n",
      "REAL VALIDATION => Loss: 1.991599202156067, Validation accuracy: 0.5, Validation weighted F1: 0.4677339792251587\n",
      "----------------------------------------------------------------\n"
     ]
    },
    {
     "name": "stderr",
     "output_type": "stream",
     "text": [
      "380it [03:06,  1.32it/s]"
     ]
    },
    {
     "name": "stdout",
     "output_type": "stream",
     "text": [
      "----------------------------------------------------------------\n",
      "EPOCH [1], ITERATION [380]\n",
      "TRAINING => Loss: 0.0241444893181324, Training accuracy: 0.9699999690055847, Training weighted F1: 0.9697490930557251\n",
      "GENERATED VALIDATION => Loss: 0.020933091640472412, Validation accuracy: 0.9800000190734863, Validation weighted F1: 0.9797720313072205\n",
      "REAL VALIDATION => Loss: 1.999969482421875, Validation accuracy: 0.47999998927116394, Validation weighted F1: 0.4391721487045288\n",
      "----------------------------------------------------------------\n"
     ]
    },
    {
     "name": "stderr",
     "output_type": "stream",
     "text": [
      "390it [03:11,  1.36it/s]"
     ]
    },
    {
     "name": "stdout",
     "output_type": "stream",
     "text": [
      "----------------------------------------------------------------\n",
      "EPOCH [1], ITERATION [390]\n",
      "TRAINING => Loss: 0.02277938276529312, Training accuracy: 0.9749999642372131, Training weighted F1: 0.9749841094017029\n",
      "GENERATED VALIDATION => Loss: 0.028650645166635513, Validation accuracy: 0.9800000190734863, Validation weighted F1: 0.9796450138092041\n",
      "REAL VALIDATION => Loss: 1.3496217727661133, Validation accuracy: 0.5399999618530273, Validation weighted F1: 0.5305619239807129\n",
      "----------------------------------------------------------------\n"
     ]
    },
    {
     "name": "stderr",
     "output_type": "stream",
     "text": [
      "400it [03:15,  1.37it/s]"
     ]
    },
    {
     "name": "stdout",
     "output_type": "stream",
     "text": [
      "----------------------------------------------------------------\n",
      "EPOCH [1], ITERATION [400]\n",
      "TRAINING => Loss: 0.014407942071557045, Training accuracy: 0.9799999594688416, Training weighted F1: 0.9797443151473999\n",
      "GENERATED VALIDATION => Loss: 0.014979878440499306, Validation accuracy: 0.9750000238418579, Validation weighted F1: 0.9747453927993774\n",
      "REAL VALIDATION => Loss: 2.011136054992676, Validation accuracy: 0.4950000047683716, Validation weighted F1: 0.48553037643432617\n",
      "----------------------------------------------------------------\n"
     ]
    },
    {
     "name": "stderr",
     "output_type": "stream",
     "text": [
      "410it [03:20,  1.33it/s]"
     ]
    },
    {
     "name": "stdout",
     "output_type": "stream",
     "text": [
      "----------------------------------------------------------------\n",
      "EPOCH [1], ITERATION [410]\n",
      "TRAINING => Loss: 0.005029667634516954, Training accuracy: 0.9949999451637268, Training weighted F1: 0.994962751865387\n",
      "GENERATED VALIDATION => Loss: 0.00355514045804739, Validation accuracy: 0.9950000047683716, Validation weighted F1: 0.9950356483459473\n",
      "REAL VALIDATION => Loss: 1.7505450248718262, Validation accuracy: 0.5049999952316284, Validation weighted F1: 0.493060439825058\n",
      "----------------------------------------------------------------\n"
     ]
    },
    {
     "name": "stderr",
     "output_type": "stream",
     "text": [
      "420it [03:24,  1.34it/s]"
     ]
    },
    {
     "name": "stdout",
     "output_type": "stream",
     "text": [
      "----------------------------------------------------------------\n",
      "EPOCH [1], ITERATION [420]\n",
      "TRAINING => Loss: 0.006052596028894186, Training accuracy: 0.9899999499320984, Training weighted F1: 0.9900280237197876\n",
      "GENERATED VALIDATION => Loss: 0.006013080477714539, Validation accuracy: 0.9900000095367432, Validation weighted F1: 0.9901089668273926\n",
      "REAL VALIDATION => Loss: 1.7380311489105225, Validation accuracy: 0.5399999618530273, Validation weighted F1: 0.5360074639320374\n",
      "----------------------------------------------------------------\n"
     ]
    },
    {
     "name": "stderr",
     "output_type": "stream",
     "text": [
      "430it [03:29,  1.33it/s]"
     ]
    },
    {
     "name": "stdout",
     "output_type": "stream",
     "text": [
      "----------------------------------------------------------------\n",
      "EPOCH [1], ITERATION [430]\n",
      "TRAINING => Loss: 0.0013458126923069358, Training accuracy: 1.0, Training weighted F1: 1.0\n",
      "GENERATED VALIDATION => Loss: 0.003978713881224394, Validation accuracy: 0.9975000023841858, Validation weighted F1: 0.997487485408783\n",
      "REAL VALIDATION => Loss: 1.8434500694274902, Validation accuracy: 0.5199999809265137, Validation weighted F1: 0.5081089735031128\n",
      "----------------------------------------------------------------\n"
     ]
    },
    {
     "name": "stderr",
     "output_type": "stream",
     "text": [
      "440it [03:34,  1.32it/s]"
     ]
    },
    {
     "name": "stdout",
     "output_type": "stream",
     "text": [
      "----------------------------------------------------------------\n",
      "EPOCH [1], ITERATION [440]\n",
      "TRAINING => Loss: 0.008421733044087887, Training accuracy: 0.9900000095367432, Training weighted F1: 0.9899481534957886\n",
      "GENERATED VALIDATION => Loss: 0.017410319298505783, Validation accuracy: 0.9750000238418579, Validation weighted F1: 0.9750045537948608\n",
      "REAL VALIDATION => Loss: 1.9456069469451904, Validation accuracy: 0.5099999904632568, Validation weighted F1: 0.5065701007843018\n",
      "----------------------------------------------------------------\n"
     ]
    },
    {
     "name": "stderr",
     "output_type": "stream",
     "text": [
      "446it [03:36,  2.06it/s]\n",
      "1it [00:02,  2.78s/it]"
     ]
    },
    {
     "name": "stdout",
     "output_type": "stream",
     "text": [
      "----------------------------------------------------------------\n",
      "EPOCH [1], ITERATION [1]\n",
      "TRAINING => Loss: 2.1904420852661133, Training accuracy: 0.07999999821186066, Training weighted F1: 0.035912852734327316\n",
      "GENERATED VALIDATION => Loss: 2.094585657119751, Validation accuracy: 0.07999999821186066, Validation weighted F1: 0.013281852938234806\n",
      "REAL VALIDATION => Loss: 2.1522295475006104, Validation accuracy: 0.07000000029802322, Validation weighted F1: 0.01062937080860138\n",
      "----------------------------------------------------------------\n"
     ]
    },
    {
     "name": "stderr",
     "output_type": "stream",
     "text": [
      "10it [00:05,  2.11it/s]"
     ]
    },
    {
     "name": "stdout",
     "output_type": "stream",
     "text": [
      "----------------------------------------------------------------\n",
      "EPOCH [1], ITERATION [10]\n",
      "TRAINING => Loss: 0.7375088334083557, Training accuracy: 0.5499999523162842, Training weighted F1: 0.5223757028579712\n",
      "GENERATED VALIDATION => Loss: 0.590420126914978, Validation accuracy: 0.6599999666213989, Validation weighted F1: 0.65167635679245\n",
      "REAL VALIDATION => Loss: 1.6165797710418701, Validation accuracy: 0.3799999952316284, Validation weighted F1: 0.29869040846824646\n",
      "----------------------------------------------------------------\n"
     ]
    },
    {
     "name": "stderr",
     "output_type": "stream",
     "text": [
      "21it [00:08,  2.60it/s]"
     ]
    },
    {
     "name": "stdout",
     "output_type": "stream",
     "text": [
      "----------------------------------------------------------------\n",
      "EPOCH [1], ITERATION [20]\n",
      "TRAINING => Loss: 0.3195107877254486, Training accuracy: 0.800000011920929, Training weighted F1: 0.799127995967865\n",
      "GENERATED VALIDATION => Loss: 0.3476412892341614, Validation accuracy: 0.7899999618530273, Validation weighted F1: 0.7745524644851685\n",
      "REAL VALIDATION => Loss: 1.945131778717041, Validation accuracy: 0.3649999797344208, Validation weighted F1: 0.32036149501800537\n",
      "----------------------------------------------------------------\n"
     ]
    },
    {
     "name": "stderr",
     "output_type": "stream",
     "text": [
      "31it [00:11,  2.68it/s]"
     ]
    },
    {
     "name": "stdout",
     "output_type": "stream",
     "text": [
      "----------------------------------------------------------------\n",
      "EPOCH [1], ITERATION [30]\n",
      "TRAINING => Loss: 0.23300513625144958, Training accuracy: 0.8100000023841858, Training weighted F1: 0.8077243566513062\n",
      "GENERATED VALIDATION => Loss: 0.13410139083862305, Validation accuracy: 0.9049999713897705, Validation weighted F1: 0.8912581205368042\n",
      "REAL VALIDATION => Loss: 2.3244805335998535, Validation accuracy: 0.3500000238418579, Validation weighted F1: 0.31095075607299805\n",
      "----------------------------------------------------------------\n"
     ]
    },
    {
     "name": "stderr",
     "output_type": "stream",
     "text": [
      "41it [00:13,  2.73it/s]"
     ]
    },
    {
     "name": "stdout",
     "output_type": "stream",
     "text": [
      "----------------------------------------------------------------\n",
      "EPOCH [1], ITERATION [40]\n",
      "TRAINING => Loss: 0.10884613543748856, Training accuracy: 0.9099999666213989, Training weighted F1: 0.9094493389129639\n",
      "GENERATED VALIDATION => Loss: 0.11879096180200577, Validation accuracy: 0.9050000309944153, Validation weighted F1: 0.9033816456794739\n",
      "REAL VALIDATION => Loss: 1.6073020696640015, Validation accuracy: 0.4399999976158142, Validation weighted F1: 0.4114720821380615\n",
      "----------------------------------------------------------------\n"
     ]
    },
    {
     "name": "stderr",
     "output_type": "stream",
     "text": [
      "51it [00:16,  2.71it/s]"
     ]
    },
    {
     "name": "stdout",
     "output_type": "stream",
     "text": [
      "----------------------------------------------------------------\n",
      "EPOCH [1], ITERATION [50]\n",
      "TRAINING => Loss: 0.15111733973026276, Training accuracy: 0.8899999856948853, Training weighted F1: 0.8934692740440369\n",
      "GENERATED VALIDATION => Loss: 0.08574333786964417, Validation accuracy: 0.9399999380111694, Validation weighted F1: 0.9379251599311829\n",
      "REAL VALIDATION => Loss: 1.9107913970947266, Validation accuracy: 0.39499998092651367, Validation weighted F1: 0.34288105368614197\n",
      "----------------------------------------------------------------\n"
     ]
    },
    {
     "name": "stderr",
     "output_type": "stream",
     "text": [
      "61it [00:19,  2.68it/s]"
     ]
    },
    {
     "name": "stdout",
     "output_type": "stream",
     "text": [
      "----------------------------------------------------------------\n",
      "EPOCH [1], ITERATION [60]\n",
      "TRAINING => Loss: 0.06537767499685287, Training accuracy: 0.9600000381469727, Training weighted F1: 0.9590572118759155\n",
      "GENERATED VALIDATION => Loss: 0.04342970624566078, Validation accuracy: 0.9550000429153442, Validation weighted F1: 0.9544074535369873\n",
      "REAL VALIDATION => Loss: 1.7197291851043701, Validation accuracy: 0.4650000035762787, Validation weighted F1: 0.4348967671394348\n",
      "----------------------------------------------------------------\n"
     ]
    },
    {
     "name": "stderr",
     "output_type": "stream",
     "text": [
      "70it [00:22,  2.20it/s]"
     ]
    },
    {
     "name": "stdout",
     "output_type": "stream",
     "text": [
      "----------------------------------------------------------------\n",
      "EPOCH [1], ITERATION [70]\n",
      "TRAINING => Loss: 0.06089238077402115, Training accuracy: 0.9199999570846558, Training weighted F1: 0.9241448640823364\n",
      "GENERATED VALIDATION => Loss: 0.03226679563522339, Validation accuracy: 0.9650000333786011, Validation weighted F1: 0.9651797413825989\n",
      "REAL VALIDATION => Loss: 1.647665023803711, Validation accuracy: 0.42000001668930054, Validation weighted F1: 0.40000754594802856\n",
      "----------------------------------------------------------------\n"
     ]
    },
    {
     "name": "stderr",
     "output_type": "stream",
     "text": [
      "78it [00:23,  3.28it/s]\n"
     ]
    },
    {
     "ename": "KeyboardInterrupt",
     "evalue": "",
     "output_type": "error",
     "traceback": [
      "\u001b[0;31m---------------------------------------------------------------------------\u001b[0m",
      "\u001b[0;31mKeyboardInterrupt\u001b[0m                         Traceback (most recent call last)",
      "\u001b[1;32m/Users/enzobenoit-jeannin/Documents/GitHub/RecogniChess/Models/BASE/Simple model.ipynb Cell 33\u001b[0m in \u001b[0;36m<cell line: 8>\u001b[0;34m()\u001b[0m\n\u001b[1;32m     <a href='vscode-notebook-cell:/Users/enzobenoit-jeannin/Documents/GitHub/RecogniChess/Models/BASE/Simple%20model.ipynb#X44sZmlsZQ%3D%3D?line=9'>10</a>\u001b[0m \u001b[39mfor\u001b[39;00m dropout_rate \u001b[39min\u001b[39;00m dropout_rate_choices:\n\u001b[1;32m     <a href='vscode-notebook-cell:/Users/enzobenoit-jeannin/Documents/GitHub/RecogniChess/Models/BASE/Simple%20model.ipynb#X44sZmlsZQ%3D%3D?line=11'>12</a>\u001b[0m     \u001b[39mfor\u001b[39;00m batch_size \u001b[39min\u001b[39;00m batch_size_choices:\n\u001b[1;32m     <a href='vscode-notebook-cell:/Users/enzobenoit-jeannin/Documents/GitHub/RecogniChess/Models/BASE/Simple%20model.ipynb#X44sZmlsZQ%3D%3D?line=12'>13</a>\u001b[0m         \n\u001b[1;32m     <a href='vscode-notebook-cell:/Users/enzobenoit-jeannin/Documents/GitHub/RecogniChess/Models/BASE/Simple%20model.ipynb#X44sZmlsZQ%3D%3D?line=13'>14</a>\u001b[0m         \u001b[39m# Train the model\u001b[39;00m\n\u001b[0;32m---> <a href='vscode-notebook-cell:/Users/enzobenoit-jeannin/Documents/GitHub/RecogniChess/Models/BASE/Simple%20model.ipynb#X44sZmlsZQ%3D%3D?line=14'>15</a>\u001b[0m         basemodel \u001b[39m=\u001b[39m train_BASE(gamma, dropout_rate, batch_size)\n\u001b[1;32m     <a href='vscode-notebook-cell:/Users/enzobenoit-jeannin/Documents/GitHub/RecogniChess/Models/BASE/Simple%20model.ipynb#X44sZmlsZQ%3D%3D?line=16'>17</a>\u001b[0m         \u001b[39m# Evaluate the model on the real validation set \u001b[39;00m\n\u001b[1;32m     <a href='vscode-notebook-cell:/Users/enzobenoit-jeannin/Documents/GitHub/RecogniChess/Models/BASE/Simple%20model.ipynb#X44sZmlsZQ%3D%3D?line=17'>18</a>\u001b[0m         final_real_val_acc \u001b[39m=\u001b[39m evaluate(basemodel, batch_size)  \n",
      "\u001b[1;32m/Users/enzobenoit-jeannin/Documents/GitHub/RecogniChess/Models/BASE/Simple model.ipynb Cell 33\u001b[0m in \u001b[0;36mtrain_BASE\u001b[0;34m(gamma, dropout_rate, batch_size)\u001b[0m\n\u001b[1;32m     <a href='vscode-notebook-cell:/Users/enzobenoit-jeannin/Documents/GitHub/RecogniChess/Models/BASE/Simple%20model.ipynb#X44sZmlsZQ%3D%3D?line=28'>29</a>\u001b[0m real_validation_f1s \u001b[39m=\u001b[39m []\n\u001b[1;32m     <a href='vscode-notebook-cell:/Users/enzobenoit-jeannin/Documents/GitHub/RecogniChess/Models/BASE/Simple%20model.ipynb#X44sZmlsZQ%3D%3D?line=30'>31</a>\u001b[0m \u001b[39mfor\u001b[39;00m epoch \u001b[39min\u001b[39;00m \u001b[39mrange\u001b[39m(num_epochs):\n\u001b[1;32m     <a href='vscode-notebook-cell:/Users/enzobenoit-jeannin/Documents/GitHub/RecogniChess/Models/BASE/Simple%20model.ipynb#X44sZmlsZQ%3D%3D?line=31'>32</a>\u001b[0m     \n\u001b[1;32m     <a href='vscode-notebook-cell:/Users/enzobenoit-jeannin/Documents/GitHub/RecogniChess/Models/BASE/Simple%20model.ipynb#X44sZmlsZQ%3D%3D?line=32'>33</a>\u001b[0m     \u001b[39m# Train the model\u001b[39;00m\n\u001b[0;32m---> <a href='vscode-notebook-cell:/Users/enzobenoit-jeannin/Documents/GitHub/RecogniChess/Models/BASE/Simple%20model.ipynb#X44sZmlsZQ%3D%3D?line=33'>34</a>\u001b[0m     \u001b[39mfor\u001b[39;00m iteration, (X_train_gen, y_train_gen) \u001b[39min\u001b[39;00m tqdm(\u001b[39menumerate\u001b[39m(train_loader)):\n\u001b[1;32m     <a href='vscode-notebook-cell:/Users/enzobenoit-jeannin/Documents/GitHub/RecogniChess/Models/BASE/Simple%20model.ipynb#X44sZmlsZQ%3D%3D?line=34'>35</a>\u001b[0m         \n\u001b[1;32m     <a href='vscode-notebook-cell:/Users/enzobenoit-jeannin/Documents/GitHub/RecogniChess/Models/BASE/Simple%20model.ipynb#X44sZmlsZQ%3D%3D?line=35'>36</a>\u001b[0m         \u001b[39m# Set the model to training mode\u001b[39;00m\n\u001b[1;32m     <a href='vscode-notebook-cell:/Users/enzobenoit-jeannin/Documents/GitHub/RecogniChess/Models/BASE/Simple%20model.ipynb#X44sZmlsZQ%3D%3D?line=36'>37</a>\u001b[0m         basemodel\u001b[39m.\u001b[39mtrain()\n\u001b[1;32m     <a href='vscode-notebook-cell:/Users/enzobenoit-jeannin/Documents/GitHub/RecogniChess/Models/BASE/Simple%20model.ipynb#X44sZmlsZQ%3D%3D?line=38'>39</a>\u001b[0m         \u001b[39m# Move the data to the device\u001b[39;00m\n",
      "File \u001b[0;32m~/Documents/GitHub/RecogniChess/myenv/lib/python3.9/site-packages/tqdm/std.py:1178\u001b[0m, in \u001b[0;36mtqdm.__iter__\u001b[0;34m(self)\u001b[0m\n\u001b[1;32m   1175\u001b[0m time \u001b[39m=\u001b[39m \u001b[39mself\u001b[39m\u001b[39m.\u001b[39m_time\n\u001b[1;32m   1177\u001b[0m \u001b[39mtry\u001b[39;00m:\n\u001b[0;32m-> 1178\u001b[0m     \u001b[39mfor\u001b[39;00m obj \u001b[39min\u001b[39;00m iterable:\n\u001b[1;32m   1179\u001b[0m         \u001b[39myield\u001b[39;00m obj\n\u001b[1;32m   1180\u001b[0m         \u001b[39m# Update and possibly print the progressbar.\u001b[39;00m\n\u001b[1;32m   1181\u001b[0m         \u001b[39m# Note: does not call self.update(1) for speed optimisation.\u001b[39;00m\n",
      "File \u001b[0;32m~/Documents/GitHub/RecogniChess/myenv/lib/python3.9/site-packages/torch/utils/data/dataloader.py:633\u001b[0m, in \u001b[0;36m_BaseDataLoaderIter.__next__\u001b[0;34m(self)\u001b[0m\n\u001b[1;32m    630\u001b[0m \u001b[39mif\u001b[39;00m \u001b[39mself\u001b[39m\u001b[39m.\u001b[39m_sampler_iter \u001b[39mis\u001b[39;00m \u001b[39mNone\u001b[39;00m:\n\u001b[1;32m    631\u001b[0m     \u001b[39m# TODO(https://github.com/pytorch/pytorch/issues/76750)\u001b[39;00m\n\u001b[1;32m    632\u001b[0m     \u001b[39mself\u001b[39m\u001b[39m.\u001b[39m_reset()  \u001b[39m# type: ignore[call-arg]\u001b[39;00m\n\u001b[0;32m--> 633\u001b[0m data \u001b[39m=\u001b[39m \u001b[39mself\u001b[39;49m\u001b[39m.\u001b[39;49m_next_data()\n\u001b[1;32m    634\u001b[0m \u001b[39mself\u001b[39m\u001b[39m.\u001b[39m_num_yielded \u001b[39m+\u001b[39m\u001b[39m=\u001b[39m \u001b[39m1\u001b[39m\n\u001b[1;32m    635\u001b[0m \u001b[39mif\u001b[39;00m \u001b[39mself\u001b[39m\u001b[39m.\u001b[39m_dataset_kind \u001b[39m==\u001b[39m _DatasetKind\u001b[39m.\u001b[39mIterable \u001b[39mand\u001b[39;00m \\\n\u001b[1;32m    636\u001b[0m         \u001b[39mself\u001b[39m\u001b[39m.\u001b[39m_IterableDataset_len_called \u001b[39mis\u001b[39;00m \u001b[39mnot\u001b[39;00m \u001b[39mNone\u001b[39;00m \u001b[39mand\u001b[39;00m \\\n\u001b[1;32m    637\u001b[0m         \u001b[39mself\u001b[39m\u001b[39m.\u001b[39m_num_yielded \u001b[39m>\u001b[39m \u001b[39mself\u001b[39m\u001b[39m.\u001b[39m_IterableDataset_len_called:\n",
      "File \u001b[0;32m~/Documents/GitHub/RecogniChess/myenv/lib/python3.9/site-packages/torch/utils/data/dataloader.py:677\u001b[0m, in \u001b[0;36m_SingleProcessDataLoaderIter._next_data\u001b[0;34m(self)\u001b[0m\n\u001b[1;32m    675\u001b[0m \u001b[39mdef\u001b[39;00m \u001b[39m_next_data\u001b[39m(\u001b[39mself\u001b[39m):\n\u001b[1;32m    676\u001b[0m     index \u001b[39m=\u001b[39m \u001b[39mself\u001b[39m\u001b[39m.\u001b[39m_next_index()  \u001b[39m# may raise StopIteration\u001b[39;00m\n\u001b[0;32m--> 677\u001b[0m     data \u001b[39m=\u001b[39m \u001b[39mself\u001b[39;49m\u001b[39m.\u001b[39;49m_dataset_fetcher\u001b[39m.\u001b[39;49mfetch(index)  \u001b[39m# may raise StopIteration\u001b[39;00m\n\u001b[1;32m    678\u001b[0m     \u001b[39mif\u001b[39;00m \u001b[39mself\u001b[39m\u001b[39m.\u001b[39m_pin_memory:\n\u001b[1;32m    679\u001b[0m         data \u001b[39m=\u001b[39m _utils\u001b[39m.\u001b[39mpin_memory\u001b[39m.\u001b[39mpin_memory(data, \u001b[39mself\u001b[39m\u001b[39m.\u001b[39m_pin_memory_device)\n",
      "File \u001b[0;32m~/Documents/GitHub/RecogniChess/myenv/lib/python3.9/site-packages/torch/utils/data/_utils/fetch.py:51\u001b[0m, in \u001b[0;36m_MapDatasetFetcher.fetch\u001b[0;34m(self, possibly_batched_index)\u001b[0m\n\u001b[1;32m     49\u001b[0m         data \u001b[39m=\u001b[39m \u001b[39mself\u001b[39m\u001b[39m.\u001b[39mdataset\u001b[39m.\u001b[39m__getitems__(possibly_batched_index)\n\u001b[1;32m     50\u001b[0m     \u001b[39melse\u001b[39;00m:\n\u001b[0;32m---> 51\u001b[0m         data \u001b[39m=\u001b[39m [\u001b[39mself\u001b[39m\u001b[39m.\u001b[39mdataset[idx] \u001b[39mfor\u001b[39;00m idx \u001b[39min\u001b[39;00m possibly_batched_index]\n\u001b[1;32m     52\u001b[0m \u001b[39melse\u001b[39;00m:\n\u001b[1;32m     53\u001b[0m     data \u001b[39m=\u001b[39m \u001b[39mself\u001b[39m\u001b[39m.\u001b[39mdataset[possibly_batched_index]\n",
      "File \u001b[0;32m~/Documents/GitHub/RecogniChess/myenv/lib/python3.9/site-packages/torch/utils/data/_utils/fetch.py:51\u001b[0m, in \u001b[0;36m<listcomp>\u001b[0;34m(.0)\u001b[0m\n\u001b[1;32m     49\u001b[0m         data \u001b[39m=\u001b[39m \u001b[39mself\u001b[39m\u001b[39m.\u001b[39mdataset\u001b[39m.\u001b[39m__getitems__(possibly_batched_index)\n\u001b[1;32m     50\u001b[0m     \u001b[39melse\u001b[39;00m:\n\u001b[0;32m---> 51\u001b[0m         data \u001b[39m=\u001b[39m [\u001b[39mself\u001b[39;49m\u001b[39m.\u001b[39;49mdataset[idx] \u001b[39mfor\u001b[39;00m idx \u001b[39min\u001b[39;00m possibly_batched_index]\n\u001b[1;32m     52\u001b[0m \u001b[39melse\u001b[39;00m:\n\u001b[1;32m     53\u001b[0m     data \u001b[39m=\u001b[39m \u001b[39mself\u001b[39m\u001b[39m.\u001b[39mdataset[possibly_batched_index]\n",
      "File \u001b[0;32m~/Documents/GitHub/RecogniChess/Models/BASE/../../Datasets/Custom_Dataset.py:96\u001b[0m, in \u001b[0;36mCustomDataset.__getitem__\u001b[0;34m(self, idx)\u001b[0m\n\u001b[1;32m     93\u001b[0m \u001b[39mdef\u001b[39;00m \u001b[39m__getitem__\u001b[39m(\u001b[39mself\u001b[39m, idx):\n\u001b[1;32m     94\u001b[0m     img_path \u001b[39m=\u001b[39m os\u001b[39m.\u001b[39mpath\u001b[39m.\u001b[39mjoin(\u001b[39mself\u001b[39m\u001b[39m.\u001b[39mroot_path, \u001b[39mself\u001b[39m\u001b[39m.\u001b[39mimages[idx])\n\u001b[0;32m---> 96\u001b[0m     image \u001b[39m=\u001b[39m Image\u001b[39m.\u001b[39;49mopen(img_path)\n\u001b[1;32m     97\u001b[0m     image \u001b[39m=\u001b[39m \u001b[39mself\u001b[39m\u001b[39m.\u001b[39mtransform(image)\n\u001b[1;32m     99\u001b[0m     \u001b[39m# Convert the label to int instead of float\u001b[39;00m\n",
      "File \u001b[0;32m~/Documents/GitHub/RecogniChess/myenv/lib/python3.9/site-packages/PIL/Image.py:3000\u001b[0m, in \u001b[0;36mopen\u001b[0;34m(fp, mode, formats)\u001b[0m\n\u001b[1;32m   2997\u001b[0m     \u001b[39mif\u001b[39;00m init():\n\u001b[1;32m   2998\u001b[0m         im \u001b[39m=\u001b[39m _open_core(fp, filename, prefix, formats)\n\u001b[0;32m-> 3000\u001b[0m \u001b[39mif\u001b[39;00m im:\n\u001b[1;32m   3001\u001b[0m     im\u001b[39m.\u001b[39m_exclusive_fp \u001b[39m=\u001b[39m exclusive_fp\n\u001b[1;32m   3002\u001b[0m     \u001b[39mreturn\u001b[39;00m im\n",
      "\u001b[0;31mKeyboardInterrupt\u001b[0m: "
     ]
    }
   ],
   "source": [
    "# To store the best model\n",
    "best_model = None\n",
    "best_acc = -1\n",
    "\n",
    "# Store the validation accuracies\n",
    "hp_final_accs = pd.DataFrame(columns=[\"Gamma\", \"Dropout Rate\", \"Batch Size\", \"Final validation accuracy\"])\n",
    "\n",
    "for gamma in gamma_focal_loss_choices:\n",
    "\n",
    "    for dropout_rate in dropout_rate_choices:\n",
    "\n",
    "        for batch_size in batch_size_choices:\n",
    "            \n",
    "            # Train the model\n",
    "            basemodel = train_BASE(gamma, dropout_rate, batch_size)\n",
    "\n",
    "            # Evaluate the model on the real validation set \n",
    "            final_real_val_acc = evaluate(basemodel, batch_size)  \n",
    "\n",
    "            # Create a row to add to the dataframe\n",
    "            row = [gamma, batch_size, dropout_rate, final_real_val_acc.cpu().item()]\n",
    "            \n",
    "            # Store it\n",
    "            hp_final_accs.loc[len(hp_final_accs)] = row\n",
    "\n",
    "            # Compare to the best model\n",
    "            if best_model is None or best_acc < final_real_val_acc:\n",
    "                best_model = basemodel\n",
    "                best_acc = final_real_val_acc\n",
    "                torch.save(basemodel.state_dict(), f'./best_model.ckpt')\n",
    "\n",
    "# Save the dataframe as a table\n",
    "hp_final_accs.to_csv('HP_final_accuracies.csv', index=False)    "
   ]
  },
  {
   "attachments": {},
   "cell_type": "markdown",
   "id": "64e5fcf3",
   "metadata": {},
   "source": [
    "After this code runs, the best model can be found in the directory of the script."
   ]
  }
 ],
 "metadata": {
  "kernelspec": {
   "display_name": "Python 3 (ipykernel)",
   "language": "python",
   "name": "python3"
  },
  "language_info": {
   "codemirror_mode": {
    "name": "ipython",
    "version": 3
   },
   "file_extension": ".py",
   "mimetype": "text/x-python",
   "name": "python",
   "nbconvert_exporter": "python",
   "pygments_lexer": "ipython3",
   "version": "3.9.6"
  }
 },
 "nbformat": 4,
 "nbformat_minor": 5
}
