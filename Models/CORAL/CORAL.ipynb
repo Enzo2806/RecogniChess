{
 "cells": [
  {
   "attachments": {},
   "cell_type": "markdown",
   "id": "b950cda7",
   "metadata": {},
   "source": [
    "# Imports and overview\n",
    "\n",
    "This notebook implements the CORAL model from https://arxiv.org/pdf/1511.05547.pdf. It is inspired from https://github.com/SSARCandy/DeepCORAL."
   ]
  },
  {
   "cell_type": "code",
   "execution_count": 1,
   "id": "144fa7ba",
   "metadata": {},
   "outputs": [],
   "source": [
    "# We can now load the dependencies\n",
    "%matplotlib inline \n",
    "import torch \n",
    "import torch.nn as nn\n",
    "import numpy as np\n",
    "import matplotlib.pyplot as plt \n",
    "import torchvision\n",
    "from tqdm import tqdm\n",
    "from torch.utils.data import Dataset\n",
    "from torch.utils.data import DataLoader\n",
    "import torch.optim as optim\n",
    "import torchmetrics\n",
    "import os\n",
    "import torchvision.transforms as transforms\n",
    "from PIL import Image\n",
    "import pandas as pd\n",
    "from IPython.display import clear_output\n",
    "\n",
    "import sys\n",
    "sys.path.append(\"../../Datasets/\")\n",
    "from Custom_Dataset import *\n",
    "\n",
    "# Clear the cache of CUDA\n",
    "torch.cuda.empty_cache()"
   ]
  },
  {
   "attachments": {},
   "cell_type": "markdown",
   "id": "6211a13b",
   "metadata": {},
   "source": [
    "We can start by setting a seed for reproducibility"
   ]
  },
  {
   "cell_type": "code",
   "execution_count": 2,
   "id": "356ddda1",
   "metadata": {},
   "outputs": [
    {
     "data": {
      "text/plain": [
       "<torch._C.Generator at 0x116f36630>"
      ]
     },
     "execution_count": 2,
     "metadata": {},
     "output_type": "execute_result"
    }
   ],
   "source": [
    "torch.manual_seed(0)"
   ]
  },
  {
   "attachments": {},
   "cell_type": "markdown",
   "id": "f6fe08f8",
   "metadata": {},
   "source": [
    "For reference, here is the architecture of the model we will implement:\n",
    "\n",
    "<img src=\"CORAL_architecture.png\" align=\"center\"/>"
   ]
  },
  {
   "attachments": {},
   "cell_type": "markdown",
   "id": "e8c3d84a",
   "metadata": {},
   "source": [
    "# Pre-processing"
   ]
  },
  {
   "attachments": {},
   "cell_type": "markdown",
   "id": "9121b596",
   "metadata": {},
   "source": [
    "We start by defining a custom dataset which loads the data from disk lazily. This is because we have too many training examples to keep all of them in memory at once. The CustomDataset class is defined in Datasets/Cutsom_Dataset.py"
   ]
  },
  {
   "cell_type": "code",
   "execution_count": 3,
   "id": "6afe02a2",
   "metadata": {},
   "outputs": [],
   "source": [
    "# Extract the generated data\n",
    "train_gen_dataset = CustomDataset(\"Generated\", \"train\", full_dataset = False, apply_transform = True)\n",
    "val_gen_dataset = CustomDataset(\"Generated\", \"validation\", full_dataset = False, apply_transform = True)\n",
    "test_gen_dataset = CustomDataset(\"Generated\", \"test\", full_dataset = False, apply_transform = True)\n",
    "\n",
    "# Extract the real data\n",
    "train_real_dataset = CustomDataset(\"Real Life\", \"train\", full_dataset = False, apply_transform = True)\n",
    "val_real_dataset = CustomDataset(\"Real Life\", \"validation\", full_dataset = False, apply_transform = True)\n",
    "test_real_dataset = CustomDataset(\"Real Life\", \"test\", full_dataset = False, apply_transform = True)"
   ]
  },
  {
   "attachments": {},
   "cell_type": "markdown",
   "id": "b93703ce",
   "metadata": {},
   "source": [
    "# Hyperparameter choices"
   ]
  },
  {
   "attachments": {},
   "cell_type": "markdown",
   "id": "b259e4e1",
   "metadata": {},
   "source": [
    "We create a cell to hold the hyperparameters of the model"
   ]
  },
  {
   "cell_type": "code",
   "execution_count": 4,
   "id": "a6ce00b6",
   "metadata": {},
   "outputs": [],
   "source": [
    "learning_rate_choices = [0.001, 0.01]\n",
    "batch_size = 200 # Each the real and generated data will be split into batches of this size (Since we only train on generated here)\n",
    "num_epochs = 20 # Number of epochs to train for\n",
    "gamma_focal_loss = 2 # Choices for the gamma parameter in the focal loss\n",
    "n_validation = 10 # Number of iterations between each validation run\n",
    "n_validation_minibatches = 2 # Number of minibatches to use for validation\n",
    "n_final_validation_minibatches = 20 # Number of minibatches to use for the final validation run\n",
    "lambda_max_coral_choices = [0.01, 0.1, 1, 10, 100] # Weight of the coral loss"
   ]
  },
  {
   "attachments": {},
   "cell_type": "markdown",
   "id": "1e60fc99",
   "metadata": {},
   "source": [
    "# Model implementation"
   ]
  },
  {
   "attachments": {},
   "cell_type": "markdown",
   "id": "868ef8b6",
   "metadata": {},
   "source": [
    "We can start by loading a pre-trained VGG16 model without the classification layers towards the end (Only the feature extractor)."
   ]
  },
  {
   "cell_type": "code",
   "execution_count": 5,
   "id": "1a976a80",
   "metadata": {},
   "outputs": [],
   "source": [
    "vgg16 = torchvision.models.vgg16(weights='VGG16_Weights.IMAGENET1K_V1')"
   ]
  },
  {
   "attachments": {},
   "cell_type": "markdown",
   "id": "8433f526",
   "metadata": {},
   "source": [
    "We can now visualize its layers:"
   ]
  },
  {
   "cell_type": "code",
   "execution_count": 6,
   "id": "9614fd2a",
   "metadata": {},
   "outputs": [
    {
     "data": {
      "text/plain": [
       "VGG(\n",
       "  (features): Sequential(\n",
       "    (0): Conv2d(3, 64, kernel_size=(3, 3), stride=(1, 1), padding=(1, 1))\n",
       "    (1): ReLU(inplace=True)\n",
       "    (2): Conv2d(64, 64, kernel_size=(3, 3), stride=(1, 1), padding=(1, 1))\n",
       "    (3): ReLU(inplace=True)\n",
       "    (4): MaxPool2d(kernel_size=2, stride=2, padding=0, dilation=1, ceil_mode=False)\n",
       "    (5): Conv2d(64, 128, kernel_size=(3, 3), stride=(1, 1), padding=(1, 1))\n",
       "    (6): ReLU(inplace=True)\n",
       "    (7): Conv2d(128, 128, kernel_size=(3, 3), stride=(1, 1), padding=(1, 1))\n",
       "    (8): ReLU(inplace=True)\n",
       "    (9): MaxPool2d(kernel_size=2, stride=2, padding=0, dilation=1, ceil_mode=False)\n",
       "    (10): Conv2d(128, 256, kernel_size=(3, 3), stride=(1, 1), padding=(1, 1))\n",
       "    (11): ReLU(inplace=True)\n",
       "    (12): Conv2d(256, 256, kernel_size=(3, 3), stride=(1, 1), padding=(1, 1))\n",
       "    (13): ReLU(inplace=True)\n",
       "    (14): Conv2d(256, 256, kernel_size=(3, 3), stride=(1, 1), padding=(1, 1))\n",
       "    (15): ReLU(inplace=True)\n",
       "    (16): MaxPool2d(kernel_size=2, stride=2, padding=0, dilation=1, ceil_mode=False)\n",
       "    (17): Conv2d(256, 512, kernel_size=(3, 3), stride=(1, 1), padding=(1, 1))\n",
       "    (18): ReLU(inplace=True)\n",
       "    (19): Conv2d(512, 512, kernel_size=(3, 3), stride=(1, 1), padding=(1, 1))\n",
       "    (20): ReLU(inplace=True)\n",
       "    (21): Conv2d(512, 512, kernel_size=(3, 3), stride=(1, 1), padding=(1, 1))\n",
       "    (22): ReLU(inplace=True)\n",
       "    (23): MaxPool2d(kernel_size=2, stride=2, padding=0, dilation=1, ceil_mode=False)\n",
       "    (24): Conv2d(512, 512, kernel_size=(3, 3), stride=(1, 1), padding=(1, 1))\n",
       "    (25): ReLU(inplace=True)\n",
       "    (26): Conv2d(512, 512, kernel_size=(3, 3), stride=(1, 1), padding=(1, 1))\n",
       "    (27): ReLU(inplace=True)\n",
       "    (28): Conv2d(512, 512, kernel_size=(3, 3), stride=(1, 1), padding=(1, 1))\n",
       "    (29): ReLU(inplace=True)\n",
       "    (30): MaxPool2d(kernel_size=2, stride=2, padding=0, dilation=1, ceil_mode=False)\n",
       "  )\n",
       "  (avgpool): AdaptiveAvgPool2d(output_size=(7, 7))\n",
       "  (classifier): Sequential(\n",
       "    (0): Linear(in_features=25088, out_features=4096, bias=True)\n",
       "    (1): ReLU(inplace=True)\n",
       "    (2): Dropout(p=0.5, inplace=False)\n",
       "    (3): Linear(in_features=4096, out_features=4096, bias=True)\n",
       "    (4): ReLU(inplace=True)\n",
       "    (5): Dropout(p=0.5, inplace=False)\n",
       "    (6): Linear(in_features=4096, out_features=1000, bias=True)\n",
       "  )\n",
       ")"
      ]
     },
     "execution_count": 6,
     "metadata": {},
     "output_type": "execute_result"
    }
   ],
   "source": [
    "vgg16"
   ]
  },
  {
   "attachments": {},
   "cell_type": "markdown",
   "id": "018e9568",
   "metadata": {},
   "source": [
    "Because we are looking for a pre-trained feature extractor here, we decide to only use the features part and freeze its weights. We can then add a few subsequent layers to fine tune predictions. We can thus define the following model:"
   ]
  },
  {
   "cell_type": "code",
   "execution_count": 7,
   "id": "a051bb05",
   "metadata": {},
   "outputs": [],
   "source": [
    "class CoralModel(nn.Module):\n",
    "\n",
    "    def __init__(self, num_classes=13):\n",
    "        \n",
    "        super(CoralModel, self).__init__()\n",
    "        \n",
    "        # Define the layers of the model\n",
    "        self.features = torchvision.models.vgg16(weights='VGG16_Weights.IMAGENET1K_V1').features\n",
    "        self.classifier = nn.Sequential(\n",
    "            nn.Linear(4608, 1024),\n",
    "            nn.ReLU(True),\n",
    "            nn.Linear(1024, 512),\n",
    "            nn.ReLU(True),\n",
    "            nn.Linear(512, num_classes)\n",
    "        )\n",
    "\n",
    "        # Freeze all the weights in modules 0 up-to and including 25\n",
    "        for param in self.features[:25].parameters():\n",
    "            param.requires_grad = False\n",
    "\n",
    "\n",
    "    def forward(self, x):\n",
    "        h = self.features(x)\n",
    "        h = torch.flatten(h, 1)\n",
    "        output = self.classifier(h)\n",
    "        return h, output\n"
   ]
  },
  {
   "attachments": {},
   "cell_type": "markdown",
   "id": "b7348424",
   "metadata": {},
   "source": [
    "# Training"
   ]
  },
  {
   "attachments": {},
   "cell_type": "markdown",
   "id": "c3c49179",
   "metadata": {},
   "source": [
    "We can start by finding the device to use for training:"
   ]
  },
  {
   "cell_type": "code",
   "execution_count": 8,
   "id": "1237640e",
   "metadata": {},
   "outputs": [
    {
     "name": "stdout",
     "output_type": "stream",
     "text": [
      "Device: mps\n"
     ]
    }
   ],
   "source": [
    "if torch.cuda.is_available():\n",
    "    DEVICE = torch.device(\"cuda\")\n",
    "elif torch.has_mps:\n",
    "    DEVICE = torch.device(\"mps\")\n",
    "else:\n",
    "    DEVICE = torch.device(\"cpu\")\n",
    "\n",
    "if DEVICE == \"cuda\":\n",
    "    torch.cuda.empty_cache()\n",
    "\n",
    "print(\"Device:\", DEVICE)"
   ]
  },
  {
   "attachments": {},
   "cell_type": "markdown",
   "id": "61cb4352",
   "metadata": {},
   "source": [
    "We can then go ahead and define the loss function we will be using. \n",
    "\n",
    "According to the specified model architecture, the CORAL model utilizes two loss functions. The first one is the classification loss, for whihc we will opt for a balanced focal loss rather than the regular cross-entropy loss. The aim is to assign greater importance to the classes that are more challenging to classify. The focal loss can be defined using the following formula:\n",
    "\n",
    "$$\n",
    "FL(p_t) = -(1-p_t^{\\gamma})log(p_t)\n",
    "$$\n",
    "\n",
    "where gamma $\\gamma$ is a tunable hyperparameter. We can also further add an alpha term to handle class imbalance, making our loss function a class-balanced focal loss, as shown in https://github.com/AdeelH/pytorch-multi-class-focal-loss. \n",
    "Note: Since we have balanced classes thanks to oversmapling, we will not use the alpha parameter.\n"
   ]
  },
  {
   "attachments": {},
   "cell_type": "markdown",
   "id": "304c6a68",
   "metadata": {},
   "source": [
    "The second loss is the Coral loss. Coral loss is a type of distance metric used to align two sets of feature representations. It stands for \"correlation alignment\".\n",
    "\n",
    "The Coral loss aims to minimize the domain shift between two distributions by aligning the second-order statistics of their features. It computes the covariance matrix of the source and target features and then minimizes the Frobenius norm between the difference of the two covariance matrices. This way, the correlation between the features is preserved and domain shift is reduced.\n",
    "\n",
    "The Coral loss can be formulated as:\n",
    "\n",
    "$$\n",
    "L_{coral}(X_s, X_t) = \\lVert C_s - C_t \\rVert_{F}^2\n",
    "$$\n",
    "\n",
    "where $X_s$ and $X_t$ are the source and target feature representations respectively, and $C_s$ and $C_t$ are the covariance matrices of the source and target features.\n",
    "\n",
    "In addition to the loss function, a helper function can be defined to compute the covariance matrix:\n",
    "\n",
    "$$\n",
    "C(X) = \\frac{1}{n-1}(X-\\bar{X})^T(X-\\bar{X})\n",
    "$$\n",
    "\n",
    "where $X$ is a matrix of feature representations and $\\bar{X}$ is the mean of each feature. The following code is taken from the mentionned github repository: https://github.com/SSARCandy/DeepCORAL."
   ]
  },
  {
   "cell_type": "code",
   "execution_count": 9,
   "id": "734c90ce",
   "metadata": {},
   "outputs": [],
   "source": [
    "def CORAL_loss(source, target):\n",
    "\n",
    "\t# Number of features in the hidden representation\n",
    "\td = source.data.shape[1]\n",
    "\n",
    "    # source covariance\n",
    "\txm = torch.mean(source, 0, keepdim=True) - source\n",
    "\txc = xm.t() @ xm\n",
    "\n",
    "    # target covariance\n",
    "\txmt = torch.mean(target, 0, keepdim=True) - target\n",
    "\txct = xmt.t() @ xmt\n",
    "\n",
    "    # frobenius norm between source and target\n",
    "\tloss = torch.mean(torch.mul((xc - xct), (xc - xct)))\n",
    "\tloss = loss/(4*d*d)\n",
    "\n",
    "\treturn loss"
   ]
  },
  {
   "attachments": {},
   "cell_type": "markdown",
   "id": "f4ecaecd",
   "metadata": {},
   "source": [
    "The total loss used in the backward step of our model is therefore represented by the following equation:\n",
    "\n",
    "$$\n",
    "TotalLoss = ClassificationLoss + \\lambda DomainLoss\n",
    "$$\n",
    "$$\n",
    "TotalLoss = FC + \\lambda L_{coral}(X_s, X_t)\n",
    "$$"
   ]
  },
  {
   "attachments": {},
   "cell_type": "markdown",
   "id": "e28a4adc",
   "metadata": {},
   "source": [
    "We also adjust the hyperparameter $\\lambda$, which determines the weight of the coral loss term in the total loss function.\" In other words, $\\lambda$ controls the contribution of the coral loss to the overall loss value, with larger values of $\\lambda$ giving the coral loss term more weight in the optimization process."
   ]
  },
  {
   "attachments": {},
   "cell_type": "markdown",
   "id": "057bb473",
   "metadata": {},
   "source": [
    "Finally, we need an accuracy metric to tune the hyperparameters of the model. We will opt for a balanced accuracy score, which is just regular classification accuracy but adapted to weigh each class by its frequency:"
   ]
  },
  {
   "cell_type": "code",
   "execution_count": 10,
   "id": "c3ba9216",
   "metadata": {},
   "outputs": [],
   "source": [
    "f1_score = torchmetrics.F1Score(task=\"multiclass\", num_classes=13, average=\"weighted\").to(DEVICE)\n",
    "accuracy = torchmetrics.Accuracy(task=\"multiclass\", num_classes=13, average=\"weighted\").to(DEVICE)"
   ]
  },
  {
   "attachments": {},
   "cell_type": "markdown",
   "id": "2ad6b2b4",
   "metadata": {},
   "source": [
    "We can now load a single example from the loader and display its label as well as its class proportion, which should be around 1/13 which is +- 8%."
   ]
  },
  {
   "cell_type": "code",
   "execution_count": 11,
   "id": "82f2ebd3",
   "metadata": {},
   "outputs": [
    {
     "name": "stderr",
     "output_type": "stream",
     "text": [
      "/Users/enzobenoit-jeannin/Documents/GitHub/RecogniChess/myenv/lib/python3.9/site-packages/torchvision/transforms/functional.py:1603: UserWarning: The default value of the antialias parameter of all the resizing transforms (Resize(), RandomResizedCrop(), etc.) will change from None to True in v0.17, in order to be consistent across the PIL and Tensor backends. To suppress this warning, directly pass antialias=True (recommended, future default), antialias=None (current default, which means False for Tensors and True for PIL), or antialias=False (only works on Tensors - PIL will still use antialiasing). This also applies if you are using the inference transforms from the models weights: update the call to weights.transforms(antialias=True).\n",
      "  warnings.warn(\n"
     ]
    },
    {
     "data": {
      "image/png": "[encoded data removed]",
      "text/plain": [
       "<Figure size 432x288 with 1 Axes>"
      ]
     },
     "metadata": {
      "needs_background": "light"
     },
     "output_type": "display_data"
    }
   ],
   "source": [
    "gen_train_loader = get_gen_loader(train_gen_dataset, batch_size=200)\n",
    "\n",
    "for i, (images, labels) in enumerate(gen_train_loader):\n",
    "    class_proportions = [(labels == i).sum() / len(labels) for i in range(13)]\n",
    "    plt.title(\"label: \" + str(labels[0].item()) + \" proportion: \" + str(class_proportions[labels[0].item()].item() * 100) + \"%\")\n",
    "    plt.imshow(images[0].permute(1, 2, 0))\n",
    "    break"
   ]
  },
  {
   "attachments": {},
   "cell_type": "markdown",
   "id": "3fa0629a",
   "metadata": {},
   "source": [
    "We can also define the following function for plotting the metrics collected during training:"
   ]
  },
  {
   "cell_type": "code",
   "execution_count": 12,
   "id": "162e9f9e",
   "metadata": {},
   "outputs": [],
   "source": [
    "def plot_and_save_metrics(training_total_losses, training_coral_losses, gen_training_classification_losses, gen_training_accs, \\\n",
    "                           gen_training_f1s, gen_validation_accs, gen_validation_f1s, real_validation_accs, \\\n",
    "                              real_validation_f1s, validation_total_losses, validation_CORAL_losses, \\\n",
    "                                gen_validation_classification_losses, real_validation_classification_losses, \\\n",
    "                                  learning_rate, lambda_coral_max):\n",
    "    \n",
    "    validation_x_axis = np.arange(0, len(gen_validation_accs) * n_validation, n_validation)\n",
    "\n",
    "    # Plot the training metrics\n",
    "    plt.figure(figsize=(40, 40))\n",
    "\n",
    "    plt.subplot(4, 2, 1)\n",
    "    plt.plot(training_total_losses, label=\"Total loss\")\n",
    "    plt.plot(gen_training_classification_losses, label=\"Source domain classification loss\")\n",
    "    plt.title(\"Training total and classification losses\")\n",
    "    plt.xlabel(\"Iteration\")\n",
    "    plt.ylabel(\"Loss\")\n",
    "    plt.legend()\n",
    "\n",
    "    plt.subplot(4, 2, 2)\n",
    "    plt.plot(gen_training_accs)\n",
    "    plt.title(\"Training source domain accuracy\")\n",
    "    plt.xlabel(\"Iteration\")\n",
    "    plt.ylabel(\"Accuracy\")\n",
    "\n",
    "    plt.subplot(4, 2, 3)\n",
    "    plt.plot(gen_training_f1s)\n",
    "    plt.title(\"Training source domain weighted F1 score\")\n",
    "    plt.xlabel(\"Iteration\")\n",
    "    plt.ylabel(\"F1 score\")\n",
    "\n",
    "    # Plot the validation metrics\n",
    "    plt.subplot(4, 2, 4)\n",
    "    plt.plot(validation_x_axis, gen_validation_accs, label=\"Source domain\")\n",
    "    plt.plot(validation_x_axis, real_validation_accs, label=\"Target domain\")\n",
    "    plt.title(\"Validation accuracies\")\n",
    "    plt.xlabel(\"Iteration\")\n",
    "    plt.ylabel(\"Accuracy\")\n",
    "    plt.legend()\n",
    "\n",
    "    plt.subplot(4, 2, 5)\n",
    "    plt.plot(validation_x_axis, gen_validation_f1s, label=\"Source domain\")\n",
    "    plt.plot(validation_x_axis, real_validation_f1s, label=\"Target domain\")\n",
    "    plt.title(\"Validation weighted F1 scores\")\n",
    "    plt.xlabel(\"Iteration\")\n",
    "    plt.ylabel(\"F1 score\")\n",
    "    plt.legend()\n",
    "\n",
    "    plt.subplot(4, 2, 6)\n",
    "    plt.plot(validation_x_axis, validation_total_losses, label=\"Total loss\")\n",
    "    plt.plot(validation_x_axis, gen_validation_classification_losses, label=\"Source domain classification loss\")\n",
    "    plt.title(\"Validation total and source domain classification losses\")\n",
    "    plt.xlabel(\"Iteration\")\n",
    "    plt.ylabel(\"Loss\")\n",
    "    plt.legend()\n",
    "\n",
    "    plt.subplot(4, 2, 7)\n",
    "    plt.plot(validation_x_axis, real_validation_classification_losses, label=\"Target domain classification loss\")\n",
    "    plt.plot(validation_x_axis, gen_validation_classification_losses, label=\"Source domain classification loss\")\n",
    "    plt.title(\"Validation source and target domain classification losses\")\n",
    "    plt.xlabel(\"Iteration\")\n",
    "    plt.ylabel(\"Loss\")\n",
    "    plt.legend()\n",
    "\n",
    "    plt.subplot(4, 2, 8)\n",
    "    plt.plot(training_coral_losses, label=\"Training\")\n",
    "    plt.plot(validation_x_axis, validation_CORAL_losses, label=\"Validation\")\n",
    "    plt.title(\"Training and validation CORAL losses\")\n",
    "    plt.xlabel(\"Iteration\")\n",
    "    plt.ylabel(\"Loss\")\n",
    "    plt.legend()\n",
    "    \n",
    "    plt.suptitle(\"Hyperparameters - learning rate: \" + str(learning_rate) + \", lambda coral max: \" + str(lambda_coral_max))\n",
    "\n",
    "    plt.savefig(\"HP tuning results/\" + \"lr_\" + str(learning_rate) + \"_lambdacoralmax_\" + str(lambda_coral_max) + \".png\",  facecolor='white', transparent=False)\n",
    "    plt.close()"
   ]
  },
  {
   "attachments": {},
   "cell_type": "markdown",
   "id": "5432880d",
   "metadata": {},
   "source": [
    "We can now define a training function we will call for each hyperparameter combination."
   ]
  },
  {
   "cell_type": "code",
   "execution_count": 13,
   "id": "635111f7",
   "metadata": {},
   "outputs": [],
   "source": [
    "def train_CORAL(learning_rate, lambda_coral_max):\n",
    "    # Define the data loaders accounting for the batch size\n",
    "    gen_train_loader = get_gen_loader(train_gen_dataset, batch_size=batch_size // 2)\n",
    "    gen_val_loader = get_gen_loader(val_gen_dataset, batch_size=batch_size // 2)\n",
    "    \n",
    "    real_train_loader = get_real_loader(train_real_dataset, batch_size=batch_size // 2)\n",
    "    real_val_loader = get_real_loader(val_real_dataset, batch_size=batch_size // 2)\n",
    "\n",
    "    # Define the new loss function (Taking into account gamma)\n",
    "    focal_loss = torch.hub.load(\n",
    "        'adeelh/pytorch-multi-class-focal-loss',\n",
    "        model='FocalLoss',\n",
    "        gamma=gamma_focal_loss, # No use of alpha since we have balanced classes now with the oversampling\n",
    "        reduction='mean',\n",
    "        force_reload=False,\n",
    "        verbose = False\n",
    "    ).to(DEVICE)\n",
    "\n",
    "    # To store the metrics through epochs\n",
    "    training_total_losses = []\n",
    "    training_CORAL_losses = []\n",
    "    gen_training_classification_losses = []\n",
    "    gen_training_accs = []\n",
    "    gen_training_f1s = []\n",
    "    gen_validation_accs = []\n",
    "    gen_validation_f1s = []\n",
    "    real_validation_accs = []\n",
    "    real_validation_f1s = []\n",
    "    validation_total_losses = []\n",
    "    validation_CORAL_losses = []\n",
    "    gen_validation_classification_losses = []\n",
    "    real_validation_classification_losses = []\n",
    "\n",
    "    # Define the model and the optimizer\n",
    "    coralmodel = CoralModel().to(DEVICE)\n",
    "    opt = optim.Adam(coralmodel.parameters(), lr=learning_rate)\n",
    "    \n",
    "    for epoch in range(num_epochs):\n",
    "        \n",
    "        # Train the model\n",
    "        for iteration, ((X_train_gen, y_train_gen), (X_train_real, _)) in tqdm(enumerate(zip(gen_train_loader, real_train_loader))):\n",
    "            \n",
    "            # Set the model to training mode\n",
    "            coralmodel.train()\n",
    "\n",
    "            # Linear progress of the training (from 0 to 1)\n",
    "            p = (epoch / num_epochs + iteration / len(real_train_loader) / num_epochs)\n",
    "            lambda_coral = lambda_coral_max * p\n",
    "\n",
    "            # Move the data to the device\n",
    "            X_train_gen = X_train_gen.to(DEVICE)\n",
    "            y_train_gen = y_train_gen.to(DEVICE)\n",
    "            X_train_real = X_train_real.to(DEVICE)\n",
    "\n",
    "            # Forward pass for source data (Generated data)\n",
    "            hidden_rep_gen, y_train_pred_raw_gen = coralmodel(X_train_gen)\n",
    "            y_train_pred_gen = torch.argmax(y_train_pred_raw_gen, dim=1)\n",
    "\n",
    "            # Forward pass for target data (Real data)\n",
    "            hidden_rep_real, y_train_pred_raw_real = coralmodel(X_train_real)\n",
    "\n",
    "            # Compute the classification loss (Focal loss)\n",
    "            gen_classification_loss_train = focal_loss(y_train_pred_raw_gen, y_train_gen.long())\n",
    "\n",
    "            # Compute the domain loss (CORAL loss)\n",
    "            coral_loss_train = (CORAL_loss(hidden_rep_gen, hidden_rep_real) + CORAL_loss(y_train_pred_raw_gen, y_train_pred_raw_real))\n",
    "\n",
    "            # Get the total loss\n",
    "            total_train_loss = gen_classification_loss_train + lambda_coral * coral_loss_train\n",
    "\n",
    "            # Compute the accuracy\n",
    "            gen_acc_train = accuracy(y_train_pred_gen, y_train_gen)\n",
    "            gen_f1_train = f1_score(y_train_pred_gen, y_train_gen)\n",
    "\n",
    "            # Backward pass\n",
    "            opt.zero_grad()\n",
    "            total_train_loss.backward()\n",
    "            opt.step()\n",
    "\n",
    "            # Store the training metrics\n",
    "            training_total_losses.append(total_train_loss.item())\n",
    "            training_CORAL_losses.append(coral_loss_train.item())\n",
    "            gen_training_classification_losses.append(gen_classification_loss_train.item())\n",
    "            gen_training_accs.append(gen_acc_train.item())\n",
    "            gen_training_f1s.append(gen_f1_train.item())\n",
    "            \n",
    "            # Check if the model should be validated\n",
    "            if iteration == 0 or (iteration + 1) % n_validation == 0:\n",
    "                \n",
    "                # Set the model to evaluation mode\n",
    "                coralmodel.eval()\n",
    "                \n",
    "                # Disable gradient calculation\n",
    "                with torch.no_grad():\n",
    "\n",
    "                    # Initialize variables\n",
    "                    gen_acc_val_sum = 0\n",
    "                    real_acc_val_sum = 0\n",
    "                    gen_weighted_f1_val_sum = 0\n",
    "                    real_weighted_f1_val_sum = 0\n",
    "                    gen_classification_loss_val_sum = 0\n",
    "                    real_classification_loss_val_sum = 0\n",
    "                    total_loss_val_sum = 0\n",
    "                    coral_loss_val_sum = 0\n",
    "\n",
    "                    # Extract an iterator from the data loaders\n",
    "                    gen_val_iter = iter(gen_val_loader)\n",
    "                    real_val_iter = iter(real_val_loader)\n",
    "\n",
    "                    # Iterate for n_validation_minibatches\n",
    "                    for i in range(n_validation_minibatches):\n",
    "\n",
    "                        # Get the next minibatches\n",
    "                        minibatch = next(gen_val_iter, None)\n",
    "                        if minibatch is None:\n",
    "                            gen_val_iter = iter(gen_val_loader)\n",
    "                            minibatch = next(gen_val_iter)\n",
    "                        X_val_gen, y_val_gen = minibatch\n",
    "\n",
    "                        minibatch = next(real_val_iter, None)\n",
    "                        if minibatch is None:\n",
    "                            real_val_iter = iter(real_val_loader)\n",
    "                            minibatch = next(real_val_iter)\n",
    "                        X_val_real, y_val_real = minibatch\n",
    "                            \n",
    "                        # Move the data to the device\n",
    "                        X_val_gen = X_val_gen.to(DEVICE)\n",
    "                        y_val_gen = y_val_gen.to(DEVICE)\n",
    "                        X_val_real = X_val_real.to(DEVICE)\n",
    "                        y_val_real = y_val_real.to(DEVICE)\n",
    "\n",
    "                        # Forward pass for source data (Generated data)\n",
    "                        hidden_rep_gen, y_val_pred_raw_gen = coralmodel(X_val_gen)\n",
    "                        y_val_pred_gen = torch.argmax(y_val_pred_raw_gen, dim=1)\n",
    "\n",
    "                        # Forward pass for target data (Real data)\n",
    "                        hidden_rep_real, y_val_pred_raw_real = coralmodel(X_val_real)\n",
    "                        y_val_pred_real = torch.argmax(y_val_pred_raw_real, dim=1)\n",
    "\n",
    "                        # Compute the metrics\n",
    "                        gen_classification_loss_val_sum += focal_loss(y_val_pred_raw_gen, y_val_gen.long())\n",
    "                        real_classification_loss_val_sum += focal_loss(y_val_pred_raw_real, y_val_real.long())\n",
    "                        coral_loss_val_sum += (CORAL_loss(hidden_rep_gen, hidden_rep_real) + CORAL_loss(y_val_pred_raw_gen, y_val_pred_raw_real))\n",
    "                        total_loss_val_sum += gen_classification_loss_val_sum + lambda_coral * coral_loss_val_sum # Only accounts for the generated classification loss as during training\n",
    "                        gen_acc_val_sum += accuracy(y_val_pred_gen, y_val_gen)\n",
    "                        real_acc_val_sum += accuracy(y_val_pred_real, y_val_real)\n",
    "                        gen_weighted_f1_val_sum += f1_score(y_val_pred_gen, y_val_gen)\n",
    "                        real_weighted_f1_val_sum += f1_score(y_val_pred_real, y_val_real)\n",
    "\n",
    "                    # Compute the average metrics\n",
    "                    gen_classification_loss_val = gen_classification_loss_val_sum / n_validation_minibatches\n",
    "                    real_classification_loss_val = real_classification_loss_val_sum / n_validation_minibatches\n",
    "                    coral_loss_val = coral_loss_val_sum / n_validation_minibatches\n",
    "                    total_loss_val = total_loss_val_sum / n_validation_minibatches\n",
    "                    gen_acc_val = gen_acc_val_sum / n_validation_minibatches\n",
    "                    real_acc_val = real_acc_val_sum / n_validation_minibatches\n",
    "                    gen_weighted_f1_val = gen_weighted_f1_val_sum / n_validation_minibatches\n",
    "                    real_weighted_f1_val = real_weighted_f1_val_sum / n_validation_minibatches\n",
    "\n",
    "                    # Store all metrics\n",
    "                    gen_validation_classification_losses.append(gen_classification_loss_val.item())\n",
    "                    real_validation_classification_losses.append(real_classification_loss_val.item())\n",
    "                    validation_CORAL_losses.append(coral_loss_val.item())\n",
    "                    validation_total_losses.append(total_loss_val.item())\n",
    "                    gen_validation_accs.append(gen_acc_val.item())\n",
    "                    real_validation_accs.append(real_acc_val.item())\n",
    "                    gen_validation_f1s.append(gen_weighted_f1_val.item())\n",
    "                    real_validation_f1s.append(real_weighted_f1_val.item())\n",
    "\n",
    "                    # Print an update\n",
    "                    clear_output(wait=True) # Only show the last print statement\n",
    "                    print('----------------------------------------------------------------')\n",
    "                    print(f'EPOCH [{epoch + 1}], ITERATION [{iteration+1}]')\n",
    "                    print(f'TRAINING => Total Loss: {total_train_loss}, CORAL Loss: {coral_loss_train}, Classification Loss (Gen): {gen_classification_loss_train}, Accuracy (Gen): {gen_acc_train}, Weighted F1 (Gen): {gen_f1_train}')\n",
    "                    print(f'GENERATED VALIDATION => Classification Loss: {gen_classification_loss_val}, Validation accuracy: {gen_acc_val}, Validation weighted F1: {gen_weighted_f1_val}')\n",
    "                    print(f'REAL VALIDATION => Classification Loss: {real_classification_loss_val}, Validation accuracy: {real_acc_val}, Validation weighted F1: {real_weighted_f1_val}')\n",
    "                    print(f'SHARED VALIDATION => Total Loss: {total_loss_val}, CORAL Loss: {coral_loss_val}')\n",
    "                    print('----------------------------------------------------------------')\n",
    "\n",
    "        # Save the model every epoch as a checkpoint \n",
    "        torch.save(coralmodel.state_dict(), f'./checkpoints/coralmodel_lr_{learning_rate}_lambdacoralmax_{lambda_coral_max}.ckpt')\n",
    "    \n",
    "    # Plot and save the metrics\n",
    "    plot_and_save_metrics(training_total_losses, training_CORAL_losses, \\\n",
    "                            gen_training_classification_losses, gen_training_accs, \\\n",
    "                            gen_training_f1s, gen_validation_accs, gen_validation_f1s, \\\n",
    "                                real_validation_accs, real_validation_f1s, validation_total_losses, \\\n",
    "                                    validation_CORAL_losses, gen_validation_classification_losses, \\\n",
    "                                        real_validation_classification_losses, learning_rate, lambda_coral_max)\n",
    "    return coralmodel"
   ]
  },
  {
   "attachments": {},
   "cell_type": "markdown",
   "id": "0f9f6956",
   "metadata": {},
   "source": [
    "We also define an evaluate function to compare the best models obtained during training for each hyperparameter combination. The comparison is done on the real life validation set."
   ]
  },
  {
   "cell_type": "code",
   "execution_count": 14,
   "id": "4fa062cf",
   "metadata": {},
   "outputs": [],
   "source": [
    "def evaluate(coralmodel, learning_rate, lambda_coral_max, hp_final_accs, best_model, best_acc):\n",
    "    # Load the \n",
    "    real_val_loader = get_real_loader(val_real_dataset, batch_size=batch_size // 2)\n",
    "\n",
    "    # Evaluate the final real life validation accuracy\n",
    "    # Set the model to evaluation mode\n",
    "    coralmodel.eval()\n",
    "    acc_val_sum = 0\n",
    "\n",
    "    # Create an iterator\n",
    "    real_val_iter = iter(real_val_loader)\n",
    "\n",
    "    # Disable gradient calculation\n",
    "    with torch.no_grad():\n",
    "        \n",
    "        for i in range(n_final_validation_minibatches):\n",
    "\n",
    "            # Get the next minibatch\n",
    "            minibatch = next(real_val_iter, None)\n",
    "            if minibatch is None:\n",
    "                real_val_iter = iter(real_val_loader)\n",
    "                minibatch = next(real_val_iter, None)\n",
    "            X_val_real, y_val_real = minibatch\n",
    "\n",
    "            # Move the data to the device\n",
    "            X_val_real = X_val_real.to(DEVICE)\n",
    "            y_val_real = y_val_real.to(DEVICE)\n",
    "\n",
    "            # Forward pass\n",
    "            _, y_val_pred_prob_real = coralmodel(X_val_real)\n",
    "            y_val_pred_real = torch.argmax(y_val_pred_prob_real, dim=1)\n",
    "\n",
    "            # Compute the metrics\n",
    "            acc_val_sum += accuracy(y_val_pred_real, y_val_real)\n",
    "\n",
    "    # Compute the average accuracy\n",
    "    final_real_val_acc = acc_val_sum / n_final_validation_minibatches\n",
    "\n",
    "    # Create a row to add to the dataframe\n",
    "    row = [learning_rate, lambda_coral_max, final_real_val_acc.cpu().item()]\n",
    "\n",
    "    # Store it\n",
    "    hp_final_accs.loc[len(hp_final_accs)] = row\n",
    "\n",
    "    # Compare to the best model\n",
    "    if best_model is None or best_acc < final_real_val_acc:\n",
    "        best_model = coralmodel\n",
    "        best_acc = final_real_val_acc\n",
    "        torch.save(coralmodel.state_dict(), f'./best_model.ckpt')\n",
    "\n",
    "    # Save the dataframe as a table\n",
    "    hp_final_accs.to_csv('HP_final_accuracies.csv', index=False)"
   ]
  },
  {
   "attachments": {},
   "cell_type": "markdown",
   "id": "4e0fb873",
   "metadata": {},
   "source": [
    "We can now proceed to train and evaluate our model:"
   ]
  },
  {
   "cell_type": "code",
   "execution_count": 15,
   "id": "db313a7d",
   "metadata": {},
   "outputs": [
    {
     "name": "stderr",
     "output_type": "stream",
     "text": [
      "\r20it [00:13,  1.42it/s]"
     ]
    },
    {
     "name": "stdout",
     "output_type": "stream",
     "text": [
      "----------------------------------------------------------------\n",
      "EPOCH [1], ITERATION [20]\n",
      "TRAINING => Total Loss: 1.0499529838562012, CORAL Loss: 0.963991641998291, Classification Loss (Gen): 0.8878659605979919, Accuracy (Gen): 0.5800000429153442, Weighted F1 (Gen): 0.5067642331123352\n",
      "GENERATED VALIDATION => Classification Loss: 0.8605127334594727, Validation accuracy: 0.6299999952316284, Validation weighted F1: 0.5707396864891052\n",
      "REAL VALIDATION => Classification Loss: 1.3314276933670044, Validation accuracy: 0.3799999952316284, Validation weighted F1: 0.3233497142791748\n",
      "SHARED VALIDATION => Total Loss: 1.348116397857666, CORAL Loss: 0.2351503223180771\n",
      "----------------------------------------------------------------\n"
     ]
    },
    {
     "name": "stderr",
     "output_type": "stream",
     "text": [
      "21it [00:14,  1.48it/s]\n"
     ]
    },
    {
     "ename": "KeyboardInterrupt",
     "evalue": "",
     "output_type": "error",
     "traceback": [
      "\u001b[0;31m---------------------------------------------------------------------------\u001b[0m",
      "\u001b[0;31mKeyboardInterrupt\u001b[0m                         Traceback (most recent call last)",
      "\u001b[1;32m/Users/enzobenoit-jeannin/Documents/GitHub/RecogniChess/Models/CORAL/CORAL.ipynb Cell 38\u001b[0m in \u001b[0;36m<cell line: 5>\u001b[0;34m()\u001b[0m\n\u001b[1;32m     <a href='vscode-notebook-cell:/Users/enzobenoit-jeannin/Documents/GitHub/RecogniChess/Models/CORAL/CORAL.ipynb#X55sZmlsZQ%3D%3D?line=9'>10</a>\u001b[0m hp_final_accs \u001b[39m=\u001b[39m pd\u001b[39m.\u001b[39mDataFrame(columns\u001b[39m=\u001b[39m[\u001b[39m\"\u001b[39m\u001b[39mLearning rate\u001b[39m\u001b[39m\"\u001b[39m, \u001b[39m\"\u001b[39m\u001b[39mLambda max coral\u001b[39m\u001b[39m\"\u001b[39m, \u001b[39m\"\u001b[39m\u001b[39mFinal validation accuracy\u001b[39m\u001b[39m\"\u001b[39m])    \n\u001b[1;32m     <a href='vscode-notebook-cell:/Users/enzobenoit-jeannin/Documents/GitHub/RecogniChess/Models/CORAL/CORAL.ipynb#X55sZmlsZQ%3D%3D?line=11'>12</a>\u001b[0m \u001b[39m# Train the model\u001b[39;00m\n\u001b[0;32m---> <a href='vscode-notebook-cell:/Users/enzobenoit-jeannin/Documents/GitHub/RecogniChess/Models/CORAL/CORAL.ipynb#X55sZmlsZQ%3D%3D?line=12'>13</a>\u001b[0m coralmodel \u001b[39m=\u001b[39m train_CORAL(learning_rate, lambda_coral_max)\n\u001b[1;32m     <a href='vscode-notebook-cell:/Users/enzobenoit-jeannin/Documents/GitHub/RecogniChess/Models/CORAL/CORAL.ipynb#X55sZmlsZQ%3D%3D?line=14'>15</a>\u001b[0m \u001b[39m# Evaluate the model on the real validation set \u001b[39;00m\n\u001b[1;32m     <a href='vscode-notebook-cell:/Users/enzobenoit-jeannin/Documents/GitHub/RecogniChess/Models/CORAL/CORAL.ipynb#X55sZmlsZQ%3D%3D?line=15'>16</a>\u001b[0m evaluate(coralmodel, learning_rate, lambda_coral_max, hp_final_accs, best_model, best_acc)\n",
      "\u001b[1;32m/Users/enzobenoit-jeannin/Documents/GitHub/RecogniChess/Models/CORAL/CORAL.ipynb Cell 38\u001b[0m in \u001b[0;36mtrain_CORAL\u001b[0;34m(learning_rate, lambda_coral_max)\u001b[0m\n\u001b[1;32m     <a href='vscode-notebook-cell:/Users/enzobenoit-jeannin/Documents/GitHub/RecogniChess/Models/CORAL/CORAL.ipynb#X55sZmlsZQ%3D%3D?line=35'>36</a>\u001b[0m opt \u001b[39m=\u001b[39m optim\u001b[39m.\u001b[39mAdam(coralmodel\u001b[39m.\u001b[39mparameters(), lr\u001b[39m=\u001b[39mlearning_rate)\n\u001b[1;32m     <a href='vscode-notebook-cell:/Users/enzobenoit-jeannin/Documents/GitHub/RecogniChess/Models/CORAL/CORAL.ipynb#X55sZmlsZQ%3D%3D?line=37'>38</a>\u001b[0m \u001b[39mfor\u001b[39;00m epoch \u001b[39min\u001b[39;00m \u001b[39mrange\u001b[39m(num_epochs):\n\u001b[1;32m     <a href='vscode-notebook-cell:/Users/enzobenoit-jeannin/Documents/GitHub/RecogniChess/Models/CORAL/CORAL.ipynb#X55sZmlsZQ%3D%3D?line=38'>39</a>\u001b[0m     \n\u001b[1;32m     <a href='vscode-notebook-cell:/Users/enzobenoit-jeannin/Documents/GitHub/RecogniChess/Models/CORAL/CORAL.ipynb#X55sZmlsZQ%3D%3D?line=39'>40</a>\u001b[0m     \u001b[39m# Train the model\u001b[39;00m\n\u001b[0;32m---> <a href='vscode-notebook-cell:/Users/enzobenoit-jeannin/Documents/GitHub/RecogniChess/Models/CORAL/CORAL.ipynb#X55sZmlsZQ%3D%3D?line=40'>41</a>\u001b[0m     \u001b[39mfor\u001b[39;00m iteration, ((X_train_gen, y_train_gen), (X_train_real, _)) \u001b[39min\u001b[39;00m tqdm(\u001b[39menumerate\u001b[39m(\u001b[39mzip\u001b[39m(gen_train_loader, real_train_loader))):\n\u001b[1;32m     <a href='vscode-notebook-cell:/Users/enzobenoit-jeannin/Documents/GitHub/RecogniChess/Models/CORAL/CORAL.ipynb#X55sZmlsZQ%3D%3D?line=41'>42</a>\u001b[0m         \n\u001b[1;32m     <a href='vscode-notebook-cell:/Users/enzobenoit-jeannin/Documents/GitHub/RecogniChess/Models/CORAL/CORAL.ipynb#X55sZmlsZQ%3D%3D?line=42'>43</a>\u001b[0m         \u001b[39m# Set the model to training mode\u001b[39;00m\n\u001b[1;32m     <a href='vscode-notebook-cell:/Users/enzobenoit-jeannin/Documents/GitHub/RecogniChess/Models/CORAL/CORAL.ipynb#X55sZmlsZQ%3D%3D?line=43'>44</a>\u001b[0m         coralmodel\u001b[39m.\u001b[39mtrain()\n\u001b[1;32m     <a href='vscode-notebook-cell:/Users/enzobenoit-jeannin/Documents/GitHub/RecogniChess/Models/CORAL/CORAL.ipynb#X55sZmlsZQ%3D%3D?line=45'>46</a>\u001b[0m         \u001b[39m# Linear progress of the training (from 0 to 1)\u001b[39;00m\n",
      "File \u001b[0;32m~/Documents/GitHub/RecogniChess/myenv/lib/python3.9/site-packages/tqdm/std.py:1178\u001b[0m, in \u001b[0;36mtqdm.__iter__\u001b[0;34m(self)\u001b[0m\n\u001b[1;32m   1175\u001b[0m time \u001b[39m=\u001b[39m \u001b[39mself\u001b[39m\u001b[39m.\u001b[39m_time\n\u001b[1;32m   1177\u001b[0m \u001b[39mtry\u001b[39;00m:\n\u001b[0;32m-> 1178\u001b[0m     \u001b[39mfor\u001b[39;00m obj \u001b[39min\u001b[39;00m iterable:\n\u001b[1;32m   1179\u001b[0m         \u001b[39myield\u001b[39;00m obj\n\u001b[1;32m   1180\u001b[0m         \u001b[39m# Update and possibly print the progressbar.\u001b[39;00m\n\u001b[1;32m   1181\u001b[0m         \u001b[39m# Note: does not call self.update(1) for speed optimisation.\u001b[39;00m\n",
      "File \u001b[0;32m~/Documents/GitHub/RecogniChess/myenv/lib/python3.9/site-packages/torch/utils/data/dataloader.py:633\u001b[0m, in \u001b[0;36m_BaseDataLoaderIter.__next__\u001b[0;34m(self)\u001b[0m\n\u001b[1;32m    630\u001b[0m \u001b[39mif\u001b[39;00m \u001b[39mself\u001b[39m\u001b[39m.\u001b[39m_sampler_iter \u001b[39mis\u001b[39;00m \u001b[39mNone\u001b[39;00m:\n\u001b[1;32m    631\u001b[0m     \u001b[39m# TODO(https://github.com/pytorch/pytorch/issues/76750)\u001b[39;00m\n\u001b[1;32m    632\u001b[0m     \u001b[39mself\u001b[39m\u001b[39m.\u001b[39m_reset()  \u001b[39m# type: ignore[call-arg]\u001b[39;00m\n\u001b[0;32m--> 633\u001b[0m data \u001b[39m=\u001b[39m \u001b[39mself\u001b[39;49m\u001b[39m.\u001b[39;49m_next_data()\n\u001b[1;32m    634\u001b[0m \u001b[39mself\u001b[39m\u001b[39m.\u001b[39m_num_yielded \u001b[39m+\u001b[39m\u001b[39m=\u001b[39m \u001b[39m1\u001b[39m\n\u001b[1;32m    635\u001b[0m \u001b[39mif\u001b[39;00m \u001b[39mself\u001b[39m\u001b[39m.\u001b[39m_dataset_kind \u001b[39m==\u001b[39m _DatasetKind\u001b[39m.\u001b[39mIterable \u001b[39mand\u001b[39;00m \\\n\u001b[1;32m    636\u001b[0m         \u001b[39mself\u001b[39m\u001b[39m.\u001b[39m_IterableDataset_len_called \u001b[39mis\u001b[39;00m \u001b[39mnot\u001b[39;00m \u001b[39mNone\u001b[39;00m \u001b[39mand\u001b[39;00m \\\n\u001b[1;32m    637\u001b[0m         \u001b[39mself\u001b[39m\u001b[39m.\u001b[39m_num_yielded \u001b[39m>\u001b[39m \u001b[39mself\u001b[39m\u001b[39m.\u001b[39m_IterableDataset_len_called:\n",
      "File \u001b[0;32m~/Documents/GitHub/RecogniChess/myenv/lib/python3.9/site-packages/torch/utils/data/dataloader.py:677\u001b[0m, in \u001b[0;36m_SingleProcessDataLoaderIter._next_data\u001b[0;34m(self)\u001b[0m\n\u001b[1;32m    675\u001b[0m \u001b[39mdef\u001b[39;00m \u001b[39m_next_data\u001b[39m(\u001b[39mself\u001b[39m):\n\u001b[1;32m    676\u001b[0m     index \u001b[39m=\u001b[39m \u001b[39mself\u001b[39m\u001b[39m.\u001b[39m_next_index()  \u001b[39m# may raise StopIteration\u001b[39;00m\n\u001b[0;32m--> 677\u001b[0m     data \u001b[39m=\u001b[39m \u001b[39mself\u001b[39;49m\u001b[39m.\u001b[39;49m_dataset_fetcher\u001b[39m.\u001b[39;49mfetch(index)  \u001b[39m# may raise StopIteration\u001b[39;00m\n\u001b[1;32m    678\u001b[0m     \u001b[39mif\u001b[39;00m \u001b[39mself\u001b[39m\u001b[39m.\u001b[39m_pin_memory:\n\u001b[1;32m    679\u001b[0m         data \u001b[39m=\u001b[39m _utils\u001b[39m.\u001b[39mpin_memory\u001b[39m.\u001b[39mpin_memory(data, \u001b[39mself\u001b[39m\u001b[39m.\u001b[39m_pin_memory_device)\n",
      "File \u001b[0;32m~/Documents/GitHub/RecogniChess/myenv/lib/python3.9/site-packages/torch/utils/data/_utils/fetch.py:51\u001b[0m, in \u001b[0;36m_MapDatasetFetcher.fetch\u001b[0;34m(self, possibly_batched_index)\u001b[0m\n\u001b[1;32m     49\u001b[0m         data \u001b[39m=\u001b[39m \u001b[39mself\u001b[39m\u001b[39m.\u001b[39mdataset\u001b[39m.\u001b[39m__getitems__(possibly_batched_index)\n\u001b[1;32m     50\u001b[0m     \u001b[39melse\u001b[39;00m:\n\u001b[0;32m---> 51\u001b[0m         data \u001b[39m=\u001b[39m [\u001b[39mself\u001b[39m\u001b[39m.\u001b[39mdataset[idx] \u001b[39mfor\u001b[39;00m idx \u001b[39min\u001b[39;00m possibly_batched_index]\n\u001b[1;32m     52\u001b[0m \u001b[39melse\u001b[39;00m:\n\u001b[1;32m     53\u001b[0m     data \u001b[39m=\u001b[39m \u001b[39mself\u001b[39m\u001b[39m.\u001b[39mdataset[possibly_batched_index]\n",
      "File \u001b[0;32m~/Documents/GitHub/RecogniChess/myenv/lib/python3.9/site-packages/torch/utils/data/_utils/fetch.py:51\u001b[0m, in \u001b[0;36m<listcomp>\u001b[0;34m(.0)\u001b[0m\n\u001b[1;32m     49\u001b[0m         data \u001b[39m=\u001b[39m \u001b[39mself\u001b[39m\u001b[39m.\u001b[39mdataset\u001b[39m.\u001b[39m__getitems__(possibly_batched_index)\n\u001b[1;32m     50\u001b[0m     \u001b[39melse\u001b[39;00m:\n\u001b[0;32m---> 51\u001b[0m         data \u001b[39m=\u001b[39m [\u001b[39mself\u001b[39;49m\u001b[39m.\u001b[39;49mdataset[idx] \u001b[39mfor\u001b[39;00m idx \u001b[39min\u001b[39;00m possibly_batched_index]\n\u001b[1;32m     52\u001b[0m \u001b[39melse\u001b[39;00m:\n\u001b[1;32m     53\u001b[0m     data \u001b[39m=\u001b[39m \u001b[39mself\u001b[39m\u001b[39m.\u001b[39mdataset[possibly_batched_index]\n",
      "File \u001b[0;32m~/Documents/GitHub/RecogniChess/Models/CORAL/../../Datasets/Custom_Dataset.py:97\u001b[0m, in \u001b[0;36mCustomDataset.__getitem__\u001b[0;34m(self, idx)\u001b[0m\n\u001b[1;32m     94\u001b[0m img_path \u001b[39m=\u001b[39m os\u001b[39m.\u001b[39mpath\u001b[39m.\u001b[39mjoin(\u001b[39mself\u001b[39m\u001b[39m.\u001b[39mroot_path, \u001b[39mself\u001b[39m\u001b[39m.\u001b[39mimages[idx])\n\u001b[1;32m     96\u001b[0m image \u001b[39m=\u001b[39m Image\u001b[39m.\u001b[39mopen(img_path)\n\u001b[0;32m---> 97\u001b[0m image \u001b[39m=\u001b[39m \u001b[39mself\u001b[39;49m\u001b[39m.\u001b[39;49mtransform(image)\n\u001b[1;32m     99\u001b[0m \u001b[39m# Convert the label to int instead of float\u001b[39;00m\n\u001b[1;32m    100\u001b[0m label \u001b[39m=\u001b[39m \u001b[39mself\u001b[39m\u001b[39m.\u001b[39mlabels[idx]\n",
      "File \u001b[0;32m~/Documents/GitHub/RecogniChess/myenv/lib/python3.9/site-packages/torchvision/transforms/transforms.py:95\u001b[0m, in \u001b[0;36mCompose.__call__\u001b[0;34m(self, img)\u001b[0m\n\u001b[1;32m     93\u001b[0m \u001b[39mdef\u001b[39;00m \u001b[39m__call__\u001b[39m(\u001b[39mself\u001b[39m, img):\n\u001b[1;32m     94\u001b[0m     \u001b[39mfor\u001b[39;00m t \u001b[39min\u001b[39;00m \u001b[39mself\u001b[39m\u001b[39m.\u001b[39mtransforms:\n\u001b[0;32m---> 95\u001b[0m         img \u001b[39m=\u001b[39m t(img)\n\u001b[1;32m     96\u001b[0m     \u001b[39mreturn\u001b[39;00m img\n",
      "File \u001b[0;32m~/Documents/GitHub/RecogniChess/myenv/lib/python3.9/site-packages/torchvision/transforms/transforms.py:137\u001b[0m, in \u001b[0;36mToTensor.__call__\u001b[0;34m(self, pic)\u001b[0m\n\u001b[1;32m    129\u001b[0m \u001b[39mdef\u001b[39;00m \u001b[39m__call__\u001b[39m(\u001b[39mself\u001b[39m, pic):\n\u001b[1;32m    130\u001b[0m     \u001b[39m\"\"\"\u001b[39;00m\n\u001b[1;32m    131\u001b[0m \u001b[39m    Args:\u001b[39;00m\n\u001b[1;32m    132\u001b[0m \u001b[39m        pic (PIL Image or numpy.ndarray): Image to be converted to tensor.\u001b[39;00m\n\u001b[0;32m   (...)\u001b[0m\n\u001b[1;32m    135\u001b[0m \u001b[39m        Tensor: Converted image.\u001b[39;00m\n\u001b[1;32m    136\u001b[0m \u001b[39m    \"\"\"\u001b[39;00m\n\u001b[0;32m--> 137\u001b[0m     \u001b[39mreturn\u001b[39;00m F\u001b[39m.\u001b[39;49mto_tensor(pic)\n",
      "File \u001b[0;32m~/Documents/GitHub/RecogniChess/myenv/lib/python3.9/site-packages/torchvision/transforms/functional.py:166\u001b[0m, in \u001b[0;36mto_tensor\u001b[0;34m(pic)\u001b[0m\n\u001b[1;32m    164\u001b[0m \u001b[39m# handle PIL Image\u001b[39;00m\n\u001b[1;32m    165\u001b[0m mode_to_nptype \u001b[39m=\u001b[39m {\u001b[39m\"\u001b[39m\u001b[39mI\u001b[39m\u001b[39m\"\u001b[39m: np\u001b[39m.\u001b[39mint32, \u001b[39m\"\u001b[39m\u001b[39mI;16\u001b[39m\u001b[39m\"\u001b[39m: np\u001b[39m.\u001b[39mint16, \u001b[39m\"\u001b[39m\u001b[39mF\u001b[39m\u001b[39m\"\u001b[39m: np\u001b[39m.\u001b[39mfloat32}\n\u001b[0;32m--> 166\u001b[0m img \u001b[39m=\u001b[39m torch\u001b[39m.\u001b[39mfrom_numpy(np\u001b[39m.\u001b[39;49marray(pic, mode_to_nptype\u001b[39m.\u001b[39;49mget(pic\u001b[39m.\u001b[39;49mmode, np\u001b[39m.\u001b[39;49muint8), copy\u001b[39m=\u001b[39;49m\u001b[39mTrue\u001b[39;49;00m))\n\u001b[1;32m    168\u001b[0m \u001b[39mif\u001b[39;00m pic\u001b[39m.\u001b[39mmode \u001b[39m==\u001b[39m \u001b[39m\"\u001b[39m\u001b[39m1\u001b[39m\u001b[39m\"\u001b[39m:\n\u001b[1;32m    169\u001b[0m     img \u001b[39m=\u001b[39m \u001b[39m255\u001b[39m \u001b[39m*\u001b[39m img\n",
      "File \u001b[0;32m~/Documents/GitHub/RecogniChess/myenv/lib/python3.9/site-packages/PIL/Image.py:675\u001b[0m, in \u001b[0;36mImage.__array__\u001b[0;34m(self, dtype)\u001b[0m\n\u001b[1;32m    673\u001b[0m     new[\u001b[39m\"\u001b[39m\u001b[39mdata\u001b[39m\u001b[39m\"\u001b[39m] \u001b[39m=\u001b[39m \u001b[39mself\u001b[39m\u001b[39m.\u001b[39mtobytes(\u001b[39m\"\u001b[39m\u001b[39mraw\u001b[39m\u001b[39m\"\u001b[39m, \u001b[39m\"\u001b[39m\u001b[39mL\u001b[39m\u001b[39m\"\u001b[39m)\n\u001b[1;32m    674\u001b[0m \u001b[39melse\u001b[39;00m:\n\u001b[0;32m--> 675\u001b[0m     new[\u001b[39m\"\u001b[39m\u001b[39mdata\u001b[39m\u001b[39m\"\u001b[39m] \u001b[39m=\u001b[39m \u001b[39mself\u001b[39;49m\u001b[39m.\u001b[39;49mtobytes()\n\u001b[1;32m    677\u001b[0m \u001b[39mreturn\u001b[39;00m np\u001b[39m.\u001b[39marray(\u001b[39mself\u001b[39m\u001b[39m.\u001b[39m_ArrayData(new), dtype)\n",
      "File \u001b[0;32m~/Documents/GitHub/RecogniChess/myenv/lib/python3.9/site-packages/PIL/Image.py:718\u001b[0m, in \u001b[0;36mImage.tobytes\u001b[0;34m(self, encoder_name, *args)\u001b[0m\n\u001b[1;32m    715\u001b[0m \u001b[39mif\u001b[39;00m encoder_name \u001b[39m==\u001b[39m \u001b[39m\"\u001b[39m\u001b[39mraw\u001b[39m\u001b[39m\"\u001b[39m \u001b[39mand\u001b[39;00m args \u001b[39m==\u001b[39m ():\n\u001b[1;32m    716\u001b[0m     args \u001b[39m=\u001b[39m \u001b[39mself\u001b[39m\u001b[39m.\u001b[39mmode\n\u001b[0;32m--> 718\u001b[0m \u001b[39mself\u001b[39;49m\u001b[39m.\u001b[39;49mload()\n\u001b[1;32m    720\u001b[0m \u001b[39m# unpack data\u001b[39;00m\n\u001b[1;32m    721\u001b[0m e \u001b[39m=\u001b[39m _getencoder(\u001b[39mself\u001b[39m\u001b[39m.\u001b[39mmode, encoder_name, args)\n",
      "File \u001b[0;32m~/Documents/GitHub/RecogniChess/myenv/lib/python3.9/site-packages/PIL/ImageFile.py:235\u001b[0m, in \u001b[0;36mImageFile.load\u001b[0;34m(self)\u001b[0m\n\u001b[1;32m    233\u001b[0m \u001b[39mwhile\u001b[39;00m \u001b[39mTrue\u001b[39;00m:\n\u001b[1;32m    234\u001b[0m     \u001b[39mtry\u001b[39;00m:\n\u001b[0;32m--> 235\u001b[0m         s \u001b[39m=\u001b[39m read(\u001b[39mself\u001b[39;49m\u001b[39m.\u001b[39;49mdecodermaxblock)\n\u001b[1;32m    236\u001b[0m     \u001b[39mexcept\u001b[39;00m (\u001b[39mIndexError\u001b[39;00m, struct\u001b[39m.\u001b[39merror) \u001b[39mas\u001b[39;00m e:\n\u001b[1;32m    237\u001b[0m         \u001b[39m# truncated png/gif\u001b[39;00m\n\u001b[1;32m    238\u001b[0m         \u001b[39mif\u001b[39;00m LOAD_TRUNCATED_IMAGES:\n",
      "File \u001b[0;32m~/Documents/GitHub/RecogniChess/myenv/lib/python3.9/site-packages/PIL/PngImagePlugin.py:919\u001b[0m, in \u001b[0;36mPngImageFile.load_read\u001b[0;34m(self, read_bytes)\u001b[0m\n\u001b[1;32m    915\u001b[0m     read_bytes \u001b[39m=\u001b[39m \u001b[39mmin\u001b[39m(read_bytes, \u001b[39mself\u001b[39m\u001b[39m.\u001b[39m__idat)\n\u001b[1;32m    917\u001b[0m \u001b[39mself\u001b[39m\u001b[39m.\u001b[39m__idat \u001b[39m=\u001b[39m \u001b[39mself\u001b[39m\u001b[39m.\u001b[39m__idat \u001b[39m-\u001b[39m read_bytes\n\u001b[0;32m--> 919\u001b[0m \u001b[39mreturn\u001b[39;00m \u001b[39mself\u001b[39;49m\u001b[39m.\u001b[39;49mfp\u001b[39m.\u001b[39;49mread(read_bytes)\n",
      "\u001b[0;31mKeyboardInterrupt\u001b[0m: "
     ]
    }
   ],
   "source": [
    "# To store the best model\n",
    "best_model = None\n",
    "best_acc = -1\n",
    "\n",
    "for learning_rate in learning_rate_choices:\n",
    "\n",
    "    for lambda_coral_max in lambda_max_coral_choices:\n",
    "\n",
    "        # Store the validation accuracies\n",
    "        hp_final_accs = pd.DataFrame(columns=[\"Learning rate\", \"Lambda max coral\", \"Final validation accuracy\"])    \n",
    "            \n",
    "        # Train the model\n",
    "        coralmodel = train_CORAL(learning_rate, lambda_coral_max)\n",
    "\n",
    "        # Evaluate the model on the real validation set \n",
    "        evaluate(coralmodel, learning_rate, lambda_coral_max, hp_final_accs, best_model, best_acc)            "
   ]
  },
  {
   "attachments": {},
   "cell_type": "markdown",
   "id": "64e5fcf3",
   "metadata": {},
   "source": [
    "After this code runs, the best model can be found in the directory of the script."
   ]
  }
 ],
 "metadata": {
  "kernelspec": {
   "display_name": "Python 3 (ipykernel)",
   "language": "python",
   "name": "python3"
  },
  "language_info": {
   "codemirror_mode": {
    "name": "ipython",
    "version": 3
   },
   "file_extension": ".py",
   "mimetype": "text/x-python",
   "name": "python",
   "nbconvert_exporter": "python",
   "pygments_lexer": "ipython3",
   "version": "3.9.6"
  }
 },
 "nbformat": 4,
 "nbformat_minor": 5
}
