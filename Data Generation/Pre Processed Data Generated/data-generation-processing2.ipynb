{
 "cells": [
  {
   "attachments": {},
   "cell_type": "markdown",
   "metadata": {},
   "source": [
    "# Imports"
   ]
  },
  {
   "cell_type": "code",
   "execution_count": null,
   "metadata": {},
   "outputs": [],
   "source": [
    "import os\n",
    "import numpy as np\n",
    "import shutil\n",
    "import matplotlib.pyplot as plt"
   ]
  },
  {
   "attachments": {},
   "cell_type": "markdown",
   "metadata": {},
   "source": [
    "Set the paths and import the label array"
   ]
  },
  {
   "cell_type": "code",
   "execution_count": null,
   "metadata": {},
   "outputs": [],
   "source": [
    "# Define the path to the folder containing the images and labels\n",
    "data_folder = os.path.join(os.getcwd(), \"Data Generation/Pre Processed Data Generated/Square Images\")\n",
    "\n",
    "# Load the labels from the NPY file\n",
    "labels = np.load(os.path.join(data_folder, 'y_piece_generated.npz'))['arr_0']\n",
    "\n",
    "# Get the list of image filenames\n",
    "image_files = os.listdir(data_folder)\n",
    "image_files = [f for f in image_files if f.endswith('.jpg')]"
   ]
  },
  {
   "attachments": {},
   "cell_type": "markdown",
   "metadata": {},
   "source": [
    "Plot the distribution of the generated data before removing training examples that are empty squares to rebalance the data. We save that plot in data directory because we will not "
   ]
  },
  {
   "cell_type": "code",
   "execution_count": null,
   "metadata": {},
   "outputs": [],
   "source": [
    "# create a dictionary that maps class numbers to their names\n",
    "class_names = {0: 'Empty', 1: 'White pawn', 2: 'White knight', 3: 'White bishop', 4: 'White rook',\n",
    "               5: 'White queen', 6: 'White king', 7: 'Black pawn', 8: 'Black knight', 9: 'Black bishop',\n",
    "               10: 'Black rook', 11: 'Black queen', 12: 'Black king'}\n",
    "\n",
    "\n",
    "# plot the first histogram on the left subplot\n",
    "hist, bins, _ = plt.hist(labels, bins=range(14), align='left', rwidth=0.8)\n",
    "plt.set_xticks(list(class_names.keys()))\n",
    "plt.set_xticklabels(list(class_names.values()), rotation='vertical')\n",
    "plt.set_xlabel('Class')\n",
    "plt.set_ylabel('Frequency')\n",
    "plt.set_title('Data Distribution of the generated data before rebalancing data by removing empty square examples.')\n",
    "\n",
    "# Store the count of each class in an array to define the losses later\n",
    "samples_per_class_generated = hist\n",
    "\n",
    "# add count number above each bar\n",
    "for i in range(len(class_names)):\n",
    "    plt.text(i, (hist[i])+5, \"{:.2f}%\".format(int(hist[i]*100)/labels.shape[0]), ha='center')\n",
    "\n",
    "# adjust the layout of the subplots\n",
    "plt.subplots_adjust(wspace=0.5)\n",
    "\n",
    "plt.savefig(data_folder+\"/../data_distribution_generated_before_rebalancing.png\")\n",
    "\n",
    "# show the plot\n",
    "plt.show()"
   ]
  },
  {
   "cell_type": "code",
   "execution_count": null,
   "metadata": {},
   "outputs": [],
   "source": []
  },
  {
   "cell_type": "code",
   "execution_count": null,
   "metadata": {},
   "outputs": [],
   "source": [
    "\n",
    "\n",
    "# Shuffle the image files and their corresponding labels in the same order\n",
    "indices = np.random.permutation(len(image_files))\n",
    "image_files = [image_files[i] for i in indices]\n",
    "labels = labels[indices]\n",
    "\n",
    "# Delete some training examples \n",
    "\n",
    "# Define the ratios of the training, validation, and testing sets\n",
    "train_ratio = 0.8\n",
    "val_ratio = 0.1\n",
    "test_ratio = 0.1\n",
    "\n",
    "# Calculate the sizes of the training, validation, and testing sets\n",
    "num_images = len(image_files)\n",
    "num_train = int(train_ratio * num_images)\n",
    "num_val = int(val_ratio * num_images)\n",
    "num_test = num_images - num_train - num_val\n",
    "\n",
    "# Define the paths to the subfolders\n",
    "train_folder = os.path.join(data_folder, 'Training')\n",
    "val_folder = os.path.join(data_folder, 'Validation')\n",
    "test_folder = os.path.join(data_folder, 'Testing')\n",
    "\n",
    "# Create the subfolders if they don't exist\n",
    "for folder in [train_folder, val_folder, test_folder]:\n",
    "    if not os.path.exists(folder):\n",
    "        os.makedirs(folder)\n",
    "\n",
    "# Move the images and their labels to the subfolders\n",
    "for i, image_file in enumerate(image_files):\n",
    "    if i < num_train:\n",
    "        folder = train_folder\n",
    "    elif i < num_train + num_val:\n",
    "        folder = val_folder\n",
    "    else:\n",
    "        folder = test_folder\n",
    "\n",
    "    src_file = os.path.join(data_folder, image_file)\n",
    "    dst_file = os.path.join(folder, image_file)\n",
    "    shutil.copy(src_file, dst_file)\n",
    "\n",
    "    label = labels[i]\n",
    "    dst_label_file = os.path.join(folder, f'label_{i}.npy')\n",
    "    np.save(dst_label_file, label)\n",
    "\n"
   ]
  }
 ],
 "metadata": {
  "language_info": {
   "name": "python"
  },
  "orig_nbformat": 4
 },
 "nbformat": 4,
 "nbformat_minor": 2
}
