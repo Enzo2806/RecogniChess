{
 "cells": [
  {
   "attachments": {},
   "cell_type": "markdown",
   "metadata": {},
   "source": [
    "# Imports"
   ]
  },
  {
   "cell_type": "code",
   "execution_count": 23,
   "metadata": {},
   "outputs": [],
   "source": [
    "import matplotlib.pyplot as plt\n",
    "import torch\n",
    "import random  \n",
    "import numpy as np\n",
    "import json\n",
    "from sklearn.model_selection import train_test_split\n",
    "import torch"
   ]
  },
  {
   "attachments": {},
   "cell_type": "markdown",
   "metadata": {},
   "source": [
    "# Code"
   ]
  },
  {
   "attachments": {},
   "cell_type": "markdown",
   "metadata": {},
   "source": [
    "Set the paths and import the label array"
   ]
  },
  {
   "cell_type": "code",
   "execution_count": 24,
   "metadata": {},
   "outputs": [
    {
     "name": "stdout",
     "output_type": "stream",
     "text": [
      "Labels loaded\n",
      "Number of images:  32000\n"
     ]
    }
   ],
   "source": [
    "# Define the path to the folder containing the images and labels\n",
    "path = \"../../Datasets/Real life data/\"\n",
    "\n",
    "# Load the labels from the tensor file\n",
    "labels = torch.load(path+'y_real_life.pt')\n",
    "\n",
    "print(\"Labels loaded\")\n",
    "print(\"Number of images: \", len(labels))"
   ]
  },
  {
   "attachments": {},
   "cell_type": "markdown",
   "metadata": {},
   "source": [
    "We now plot the distribution of the real life data before removing training examples that are empty squares to rebalance the data. We save that plot in a JSON file to be able to easily plot this data later if necessary. We expect a lot of empty squares in the data."
   ]
  },
  {
   "cell_type": "code",
   "execution_count": 25,
   "metadata": {},
   "outputs": [
    {
     "name": "stdout",
     "output_type": "stream",
     "text": [
      "Class distribution saved to class_distribution.json\n",
      "{'full': {'Empty': 22445, 'White pawn': 2452, 'White knight': 489, 'White bishop': 586, 'White rook': 641, 'White queen': 291, 'White king': 500, 'Black pawn': 2103, 'Black knight': 401, 'Black bishop': 653, 'Black rook': 609, 'Black queen': 330, 'Black king': 500}}\n"
     ]
    }
   ],
   "source": [
    "# Define the class_names dictionary\n",
    "class_names = {\n",
    "    0: 'Empty', 1: 'White pawn', 2: 'White knight', 3: 'White bishop', 4: 'White rook',\n",
    "    5: 'White queen', 6: 'White king', 7: 'Black pawn', 8: 'Black knight', 9: 'Black bishop',\n",
    "    10: 'Black rook', 11: 'Black queen', 12: 'Black king'\n",
    "}\n",
    "\n",
    "# Compute the class distribution\n",
    "class_distribution_dict = {}\n",
    "class_distributions = {}\n",
    "for label in sorted(labels):\n",
    "    class_name = class_names[label.item()]\n",
    "    class_distributions[class_name] = class_distributions.get(class_name, 0) + 1\n",
    "class_distribution_dict[\"full\"] = class_distributions\n",
    "\n",
    "# Save the class distribution to a JSON file\n",
    "json_file = \"class_distribution.json\"\n",
    "with open(json_file, 'w') as f:\n",
    "    json.dump(class_distribution_dict, f)\n",
    "\n",
    "print(\"Class distribution saved to\", json_file)\n",
    "print(class_distribution_dict)"
   ]
  },
  {
   "attachments": {},
   "cell_type": "markdown",
   "metadata": {},
   "source": [
    "We now use the computed class distribution and plot them on a histogram. We can see that the data is very unbalanced. We will now remove empty squares from the training set to rebalance the data."
   ]
  },
  {
   "cell_type": "code",
   "execution_count": 26,
   "metadata": {},
   "outputs": [],
   "source": [
    "def plot_class_distribution(class_distribution):\n",
    "    # Extract class names and frequencies from the JSON data\n",
    "    class_names = list(class_distribution.keys())\n",
    "    frequencies = list(class_distribution.values())\n",
    "\n",
    "    # Calculate the total count\n",
    "    total_count = sum(frequencies)\n",
    "\n",
    "    # Calculate the percentage for each frequency\n",
    "    percentages = [count / total_count * 100 for count in frequencies]\n",
    "\n",
    "    # Create a bar plot\n",
    "    plt.figure(figsize=(12, 6))\n",
    "    bars = plt.bar(class_names, frequencies)\n",
    "    plt.xlabel(\"Class\")\n",
    "    plt.ylabel(\"Frequency\")\n",
    "    plt.title(\"Class Distribution\")\n",
    "    plt.xticks(rotation=90)\n",
    "\n",
    "    # Add the percentage labels to the bars\n",
    "    for i, bar in enumerate(bars):\n",
    "        height = bar.get_height()\n",
    "        plt.text(bar.get_x() + bar.get_width() / 2, height, f\"{percentages[i]:.2f}%\", ha='center', va='bottom')\n",
    "\n",
    "    # Display the plot\n",
    "    plt.tight_layout()\n",
    "    plt.show()"
   ]
  },
  {
   "cell_type": "code",
   "execution_count": 27,
   "metadata": {},
   "outputs": [
    {
     "data": {
      "image/png": "[encoded data removed]",
      "text/plain": [
       "<Figure size 864x432 with 1 Axes>"
      ]
     },
     "metadata": {
      "needs_background": "light"
     },
     "output_type": "display_data"
    }
   ],
   "source": [
    "# Load the class ditribution from the JSON file\n",
    "with open(\"class_distribution.json\", \"r\") as f:\n",
    "    class_distribution = json.load(f)\n",
    "    \n",
    "plot_class_distribution(class_distribution[\"full\"])"
   ]
  },
  {
   "attachments": {},
   "cell_type": "markdown",
   "metadata": {},
   "source": [
    "Based on the histogram, it is evident that empty squares make up the majority, comprising about 70% of the images. Moreover, and as expected, pawns have the highest proportion among the chess pieces (around 13% in total). Additionally, the proportion of white and black pieces is similar for each piece. For instance, the proportion of the white queen is 0.91%, while that of the black queen is 1.03%."
   ]
  },
  {
   "attachments": {},
   "cell_type": "markdown",
   "metadata": {},
   "source": [
    "In this context, the imbalance in the data due to the abundance of empty squares may cause the model to have a bias towards identifying empty squares rather than chess pieces. To mitigate this issue, a pre-processing step is suggested, which involves removing a significant portion of training examples that correspond to empty squares. The objective is to provide a more balanced data set, where the number of training examples that are empty squares is equal to the number of training examples that correspond to pawns (black and white combined). This step helps to improve the focus of the model on recognizing chess pieces rather than empty squares, which may not contain any useful information for the classification task. Additionally, too many empty squares may hinder domain adaptation since empty squares are similar across both domains. Furthermore, since empty squares are easy to recognize, their over-representation may lead the model to overfit to empty squares rather than the task of identifying chess pieces. Finally, it is worth noting that other classes such as knight, king, etc. are kept unchanged since they are critical for the classification task."
   ]
  },
  {
   "attachments": {},
   "cell_type": "markdown",
   "metadata": {},
   "source": [
    "# Saving the full Real Life Dataset splitted into train, validation and test sets"
   ]
  },
  {
   "attachments": {},
   "cell_type": "markdown",
   "metadata": {},
   "source": [
    "We first split the full real life dataset into train, validation and test sets. We keep all images in the same folder in \"Datasets/Real Life Data\" to avoid having duplicates (since we will also have a Real Life Dataset with most empty squares removed). We thus create three JSON files (one for each set) that contain the paths to the images in each set. Each JSON file has the name of the images as keys and the corresponding label as values. We save the JSON files in \"Datasets/Real Life Data\"."
   ]
  },
  {
   "cell_type": "code",
   "execution_count": 28,
   "metadata": {},
   "outputs": [
    {
     "name": "stdout",
     "output_type": "stream",
     "text": [
      "Training set size: 25600\n",
      "Validation set size: 3200\n",
      "Testing set size: 3200\n"
     ]
    }
   ],
   "source": [
    "# Set the seed for reproducibility\n",
    "np.random.seed(42)\n",
    "\n",
    "# Number of images\n",
    "num_images = labels.shape[0]\n",
    "\n",
    "# Generate indices for shuffling\n",
    "indices = np.arange(num_images)\n",
    "\n",
    "# Shuffle the indices randomly\n",
    "np.random.shuffle(indices)\n",
    "\n",
    "# Split the indices into training, validation, and testing sets. Use an 80/10/10 split.\n",
    "train_indices, val_test_indices = train_test_split(indices, test_size=0.2)\n",
    "val_indices, test_indices = train_test_split(val_test_indices, test_size=0.5)\n",
    "\n",
    "# Create dictionaries to store the image names for each set\n",
    "train_set = {\"train\": [], \"label\": []}\n",
    "val_set = {\"validation\": [], \"label\": []}\n",
    "test_set = {\"test\": [], \"label\": []}\n",
    "\n",
    "# Iterate over the indices and assign image names to the corresponding sets\n",
    "for index in train_indices:\n",
    "    image_name = f\"EX_{str(index).zfill(6)}.png\"\n",
    "    train_set[\"train\"].append(image_name)\n",
    "    train_set[\"label\"].append(labels[index].item())\n",
    "\n",
    "for index in val_indices:\n",
    "    image_name = f\"EX_{str(index).zfill(6)}.png\"\n",
    "    val_set[\"validation\"].append(image_name)\n",
    "    val_set[\"label\"].append(labels[index].item())\n",
    "\n",
    "for index in test_indices:\n",
    "    image_name = f\"EX_{str(index).zfill(6)}.png\"\n",
    "    test_set[\"test\"].append(image_name)\n",
    "    test_set[\"label\"].append(labels[index].item())\n",
    "\n",
    "# Save the sets as JSON files\n",
    "with open(path+\"train_full_real_life_data.json\", \"w\") as train_file:\n",
    "    json.dump(train_set, train_file)\n",
    "\n",
    "with open(path+\"validation_full_real_life_data.json\", \"w\") as val_file:\n",
    "    json.dump(val_set, val_file)\n",
    "\n",
    "with open(path+\"test_full_real_life_data.json\", \"w\") as test_file:\n",
    "    json.dump(test_set, test_file)\n",
    "\n",
    "# Print the size of each set\n",
    "print(\"Training set size:\", len(train_set[\"train\"]))\n",
    "print(\"Validation set size:\", len(val_set[\"validation\"]))\n",
    "print(\"Testing set size:\", len(test_set[\"test\"]))"
   ]
  },
  {
   "cell_type": "markdown",
   "metadata": {},
   "source": [
    "Re-compute the class distributions in each of the train, validation, and test sets."
   ]
  },
  {
   "cell_type": "code",
   "execution_count": 29,
   "metadata": {},
   "outputs": [
    {
     "name": "stdout",
     "output_type": "stream",
     "text": [
      "{'full': {'Empty': 22445, 'White pawn': 2452, 'White knight': 489, 'White bishop': 586, 'White rook': 641, 'White queen': 291, 'White king': 500, 'Black pawn': 2103, 'Black knight': 401, 'Black bishop': 653, 'Black rook': 609, 'Black queen': 330, 'Black king': 500}, 'train': {'Empty': 17944, 'White pawn': 1987, 'White knight': 384, 'White bishop': 447, 'White rook': 519, 'White queen': 244, 'White king': 395, 'Black pawn': 1677, 'Black knight': 323, 'Black bishop': 531, 'Black rook': 482, 'Black queen': 270, 'Black king': 397}, 'validation': {'Empty': 2229, 'White pawn': 238, 'White knight': 50, 'White bishop': 70, 'White rook': 67, 'White queen': 30, 'White king': 60, 'Black pawn': 214, 'Black knight': 39, 'Black bishop': 53, 'Black rook': 59, 'Black queen': 33, 'Black king': 58}, 'test': {'Empty': 2272, 'White pawn': 227, 'White knight': 55, 'White bishop': 69, 'White rook': 55, 'White queen': 17, 'White king': 45, 'Black pawn': 212, 'Black knight': 39, 'Black bishop': 69, 'Black rook': 68, 'Black queen': 27, 'Black king': 45}}\n"
     ]
    }
   ],
   "source": [
    "json_file = \"class_distribution.json\"\n",
    "\n",
    "def sort_and_return(list):\n",
    "    list.sort()\n",
    "    return list\n",
    "\n",
    "# Extract the frequency of each class\n",
    "class_distributions_train = {}\n",
    "for label in sort_and_return(train_set[\"label\"]):\n",
    "    class_name = class_names[label]\n",
    "    class_distributions_train[class_name] = class_distributions_train.get(class_name, 0) + 1\n",
    "class_distribution_dict[\"train\"] = class_distributions_train\n",
    "\n",
    "class_distributions_val = {}\n",
    "for label in sort_and_return(val_set[\"label\"]):\n",
    "    class_name = class_names[label]\n",
    "    class_distributions_val[class_name] = class_distributions_val.get(class_name, 0) + 1\n",
    "class_distribution_dict[\"validation\"] = class_distributions_val\n",
    "\n",
    "class_distributions_test = {}\n",
    "for label in sort_and_return(test_set[\"label\"]):\n",
    "    class_name = class_names[label]\n",
    "    class_distributions_test[class_name] = class_distributions_test.get(class_name, 0) + 1\n",
    "class_distribution_dict[\"test\"] = class_distributions_test\n",
    "\n",
    "# Overwrite the distribution json file\n",
    "with open(json_file, 'w') as f:\n",
    "    f.seek(0)\n",
    "    json.dump(class_distribution_dict, f)\n",
    "\n",
    "# Sanity check\n",
    "print(class_distribution_dict)"
   ]
  },
  {
   "attachments": {},
   "cell_type": "markdown",
   "metadata": {},
   "source": [
    "# Saving the Real Life Dataset splitted into train, validation and test sets with most empty squares removed"
   ]
  },
  {
   "attachments": {},
   "cell_type": "markdown",
   "metadata": {},
   "source": [
    "We will now also save three JSON files containing the training, validation, and testing sets, respectively. However, before saving the sets, we will remove some empty squares from the dataset. The goal is to ensure that the total number of empty squares across all sets is equal to the total number of pawns (black and white combined).\n",
    "\n",
    "To achieve this, we will remove empty squares from the training, validation, and testing sets while ensuring that the remaining sets still contain the same images as the original sets. This step is important because we want to ensure that the model is not tested on images it was trained on (if we try to train the models on the real life data directly).\n",
    "\n",
    "By preserving the same images across the sets without empty squares, we maintain consistency between the sets with and without empty squares.\n",
    "\n",
    "To accomplish this task, we will follow the following steps:\n",
    "\n",
    "1. Load the three JSON files created in the previous step, containing the original training, validation, and testing sets.\n",
    "2. Compute the total number of chess pawns (black and white combined) across the three sets.\n",
    "3. Determine the number of empty squares to remove to ensure that the total number of empty squares matches the total number of chess pawns.\n",
    "4. Calculate the proportion of empty squares to remove, based on the computed values.\n",
    "5. Remove the corresponding percentage of empty squares from each set, maintaining the same proportion in the training, validation, and testing sets.\n",
    "6. Save the modified datasets as new JSON files, using the same format as the previous ones, but with the empty squares removed.\n",
    "\n",
    "By following these steps, we can generate new JSON files that contain the modified datasets without the selected empty squares, while preserving the consistency and proportionality of the original sets."
   ]
  },
  {
   "cell_type": "code",
   "execution_count": 11,
   "metadata": {},
   "outputs": [
    {
     "name": "stdout",
     "output_type": "stream",
     "text": [
      "Training set size: 11290\n",
      "Validation set size: 1452\n",
      "Testing set size: 1374\n",
      "Number of empty squares in training set: 3634\n",
      "Number of empty squares in validation set: 481\n",
      "Number of empty squares in testing set: 446\n"
     ]
    }
   ],
   "source": [
    "# Load the original datasets\n",
    "with open(path+\"train_full_real_life_data.json\", \"r\") as f:\n",
    "    train_data = json.load(f)\n",
    "    \n",
    "with open(path+\"validation_full_real_life_data.json\", \"r\") as f:\n",
    "    validation_data = json.load(f)\n",
    "    \n",
    "with open(path+\"test_full_real_life_data.json\", \"r\") as f:\n",
    "    test_data = json.load(f)\n",
    "\n",
    "# Store IDS to count the number of pawns and empty squares\n",
    "white_pawn_id = 1\n",
    "black_pawn_id = 7\n",
    "empty_id = 0\n",
    "\n",
    "total_pawns = train_data[\"label\"].count(white_pawn_id) + train_data[\"label\"].count(black_pawn_id) + \\\n",
    "                validation_data[\"label\"].count(white_pawn_id) + validation_data[\"label\"].count(black_pawn_id) + \\\n",
    "                test_data[\"label\"].count(white_pawn_id) + test_data[\"label\"].count(black_pawn_id)\n",
    "\n",
    "# Compute the number of empty squares to remove\n",
    "total_empty_squares = train_data[\"label\"].count(empty_id) + validation_data[\"label\"].count(empty_id) + test_data[\"label\"].count(empty_id)\n",
    "empty_squares_to_remove = total_empty_squares - total_pawns\n",
    "\n",
    "# Calculate the percentage of empty squares to remove\n",
    "percentage_to_remove = empty_squares_to_remove / total_empty_squares\n",
    "\n",
    "# Randomly select and remove empty squares from each set\n",
    "random.seed(42)  # For reproducibility\n",
    "\n",
    "train_balanced_data = {\"train\": [], \"label\": []}\n",
    "validation_balanced_data = {\"validation\": [], \"label\": []}\n",
    "test_balanced_data = {\"test\": [], \"label\": []}\n",
    "\n",
    "for image, label in zip(train_data[\"train\"], train_data[\"label\"]):\n",
    "    if label != empty_id or random.random() > percentage_to_remove:\n",
    "        train_balanced_data[\"train\"].append(image)\n",
    "        train_balanced_data[\"label\"].append(label)\n",
    "\n",
    "for image, label in zip(validation_data[\"validation\"], validation_data[\"label\"]):\n",
    "    if label != empty_id or random.random() > percentage_to_remove:\n",
    "        validation_balanced_data[\"validation\"].append(image)\n",
    "        validation_balanced_data[\"label\"].append(label)\n",
    "\n",
    "for image, label in zip(test_data[\"test\"], test_data[\"label\"]):\n",
    "    if label != empty_id or random.random() > percentage_to_remove:\n",
    "        test_balanced_data[\"test\"].append(image)\n",
    "        test_balanced_data[\"label\"].append(label)\n",
    "\n",
    "# Save the modified datasets as new JSON files\n",
    "with open(path+\"train_balanced_real_life_data.json\", \"w\") as f:\n",
    "    json.dump(train_balanced_data, f)\n",
    "\n",
    "with open(path+\"validation_balanced_real_life_data.json\", \"w\") as f:\n",
    "    json.dump(validation_balanced_data, f)\n",
    "\n",
    "with open(path+\"test_balanced_real_life_data.json\", \"w\") as f:\n",
    "    json.dump(test_balanced_data, f)\n",
    "\n",
    "# Print the size of each set\n",
    "print(\"Training set size:\", len(train_balanced_data[\"train\"]))\n",
    "print(\"Validation set size:\", len(validation_balanced_data[\"validation\"]))\n",
    "print(\"Testing set size:\", len(test_balanced_data[\"test\"]))\n",
    "\n",
    "# Print the number of empty squares in each set\n",
    "print(\"Number of empty squares in training set:\", train_balanced_data[\"label\"].count(empty_id))\n",
    "print(\"Number of empty squares in validation set:\", validation_balanced_data[\"label\"].count(empty_id))\n",
    "print(\"Number of empty squares in testing set:\", test_balanced_data[\"label\"].count(empty_id))"
   ]
  },
  {
   "attachments": {},
   "cell_type": "markdown",
   "metadata": {},
   "source": [
    "We now save the new class distribution after removing empty squares from all sets. We can see that the data is now more balanced. We save that plot in a JSON file to be able to easily plot this data later if necessary."
   ]
  },
  {
   "cell_type": "code",
   "execution_count": 12,
   "metadata": {},
   "outputs": [
    {
     "name": "stdout",
     "output_type": "stream",
     "text": [
      "Class distribution saved to class_distribution_balanced.json\n",
      "{'Black bishop': 653, 'Black pawn': 2103, 'White pawn': 2452, 'Black queen': 330, 'Empty': 4561, 'Black knight': 401, 'Black king': 500, 'White rook': 641, 'White bishop': 586, 'Black rook': 609, 'White knight': 489, 'White queen': 291, 'White king': 500}\n"
     ]
    }
   ],
   "source": [
    "# Define the class_names dictionary\n",
    "class_names = {\n",
    "    0: 'Empty', 1: 'White pawn', 2: 'White knight', 3: 'White bishop', 4: 'White rook',\n",
    "    5: 'White queen', 6: 'White king', 7: 'Black pawn', 8: 'Black knight', 9: 'Black bishop',\n",
    "    10: 'Black rook', 11: 'Black queen', 12: 'Black king'\n",
    "}\n",
    "\n",
    "# Load the three JSON files\n",
    "with open(path+\"train_balanced_real_life_data.json\", \"r\") as f:\n",
    "    train_data = json.load(f)\n",
    "\n",
    "with open(path+\"validation_balanced_real_life_data.json\", \"r\") as f:\n",
    "    validation_data = json.load(f)\n",
    "\n",
    "with open(path+\"test_balanced_real_life_data.json\", \"r\") as f:\n",
    "    test_data = json.load(f)\n",
    "\n",
    "# Combine the labels from all sets\n",
    "labels = train_data[\"label\"] + validation_data[\"label\"] + test_data[\"label\"]\n",
    "\n",
    "# Compute the class distribution\n",
    "class_distribution = {}\n",
    "for label in labels:\n",
    "    class_name = class_names[label]\n",
    "    class_distribution[class_name] = class_distribution.get(class_name, 0) + 1\n",
    "\n",
    "# Save the class distribution to a JSON file\n",
    "json_file = \"class_distribution_balanced.json\"\n",
    "with open(json_file, 'w') as f:\n",
    "    json.dump(class_distribution, f)\n",
    "\n",
    "print(\"Class distribution saved to\", json_file)\n",
    "print(class_distribution)"
   ]
  },
  {
   "attachments": {},
   "cell_type": "markdown",
   "metadata": {},
   "source": [
    "Plot the distribution of the generated data after removing empty squares on a histogram."
   ]
  },
  {
   "cell_type": "code",
   "execution_count": 13,
   "metadata": {},
   "outputs": [
    {
     "data": {
      "image/png": "[encoded data removed]",
      "text/plain": [
       "<Figure size 864x432 with 1 Axes>"
      ]
     },
     "metadata": {
      "needs_background": "light"
     },
     "output_type": "display_data"
    }
   ],
   "source": [
    "# Load the class ditribution from the JSON file\n",
    "with open(\"class_distribution_balanced.json\", \"r\") as f:\n",
    "    class_distribution_balanced = json.load(f)\n",
    "    \n",
    "plot_class_distribution(class_distribution_balanced)"
   ]
  }
 ],
 "metadata": {
  "kernelspec": {
   "display_name": "myenv",
   "language": "python",
   "name": "python3"
  },
  "language_info": {
   "codemirror_mode": {
    "name": "ipython",
    "version": 3
   },
   "file_extension": ".py",
   "mimetype": "text/x-python",
   "name": "python",
   "nbconvert_exporter": "python",
   "pygments_lexer": "ipython3",
   "version": "3.10.2"
  },
  "orig_nbformat": 4
 },
 "nbformat": 4,
 "nbformat_minor": 2
}
