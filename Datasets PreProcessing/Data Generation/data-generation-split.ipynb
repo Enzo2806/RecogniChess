{
 "cells": [
  {
   "attachments": {},
   "cell_type": "markdown",
   "metadata": {},
   "source": [
    "# Imports"
   ]
  },
  {
   "cell_type": "code",
   "execution_count": 11,
   "metadata": {},
   "outputs": [],
   "source": [
    "import matplotlib.pyplot as plt\n",
    "import torch\n",
    "import random  \n",
    "import numpy as np\n",
    "import json\n",
    "from sklearn.model_selection import train_test_split\n",
    "import torch"
   ]
  },
  {
   "attachments": {},
   "cell_type": "markdown",
   "metadata": {},
   "source": [
    "# Code"
   ]
  },
  {
   "attachments": {},
   "cell_type": "markdown",
   "metadata": {},
   "source": [
    "Set the paths and import the label array"
   ]
  },
  {
   "cell_type": "code",
   "execution_count": 12,
   "metadata": {},
   "outputs": [
    {
     "name": "stdout",
     "output_type": "stream",
     "text": [
      "torch.Size([288064])\n",
      "tensor([ 0.,  0.,  0.,  9.,  7.,  0.,  0.,  0.,  0.,  0.,  0.,  0.,  0.,  9.,\n",
      "         0.,  0.,  0.,  0.,  0.,  0.,  1.,  6.,  0.,  0.,  0., 10.,  0., 12.,\n",
      "        10.,  0.,  0.,  8.,  0.,  7.,  0.,  8.,  0.,  0.,  0.,  0.,  0.,  0.,\n",
      "         0.,  0.,  0.,  0.,  0.,  0.,  0.,  7.,  0.,  0.,  0.,  0.,  0.,  0.,\n",
      "         0.,  0.,  0., 11.,  0.,  0.,  0.,  0.])\n",
      "tensor([ 0.,  0.,  0.,  9.,  7.,  0.,  0.,  0.,  0.,  0.,  0.,  0.,  0.,  9.,\n",
      "         0.,  0.,  0.,  0.,  0.,  0.,  1.,  6.,  0.,  0.,  0., 10.,  0., 12.,\n",
      "        10.,  0.,  0.,  8.,  0.,  7.,  0.,  8.,  0.,  0.,  0.,  0.,  0.,  0.,\n",
      "         0.,  0.,  0.,  0.,  0.,  0.,  0.,  7.,  0.,  0.,  0.,  0.,  0.,  0.,\n",
      "         0.,  0.,  0., 11.,  0.,  0.,  0.,  0.])\n"
     ]
    }
   ],
   "source": [
    "# List the file names of the label tensors\n",
    "label_files = [\"y_generated_0_1000.pt\", \"y_generated_1000_2000.pt\", \"y_generated_2000_3000.pt\", \"y_generated_3000_4000.pt\", \"y_generated_4000_4501.pt\"]\n",
    "\n",
    "# Initialize an empty list to store the label tensors\n",
    "label_tensors = []\n",
    "\n",
    "# Path: Data Generation/Pre Processed Data Generated/data-generation-processing2.ipynb\n",
    "path = \"../../Datasets/Generated Data/\"\n",
    "\n",
    "# Load each label tensor and append it to the list\n",
    "for file in label_files:\n",
    "    label_tensor = torch.load(path+file)\n",
    "    label_tensors.append(label_tensor)\n",
    "\n",
    "# Concatenate the label tensors along the 0th dimension (assuming they have the same shape)\n",
    "combined_labels = torch.cat(label_tensors, dim=0)\n",
    "\n",
    "# Should print 288064: 64*4501 training examples\n",
    "print(combined_labels.shape)\n",
    "# The next 2 print statements should be the same\n",
    "print(combined_labels[288000:])\n",
    "print(label_tensors[4][32000:])"
   ]
  },
  {
   "attachments": {},
   "cell_type": "markdown",
   "metadata": {},
   "source": [
    "We now plot the distribution of the generated data. We save the class proportions in a JSON file to be able to easily plot this data later if necessary. We also use it to define a sampler when loading the data to make sure the class distributions are equivalent across all classes. We do this because we expect a lot of empty squares in the data. "
   ]
  },
  {
   "cell_type": "code",
   "execution_count": 13,
   "metadata": {},
   "outputs": [
    {
     "name": "stdout",
     "output_type": "stream",
     "text": [
      "Class distribution saved to class_distribution.json\n",
      "{'full': {'Empty': 212194, 'White pawn': 17865, 'White knight': 4518, 'White bishop': 4460, 'White rook': 4527, 'White queen': 2240, 'White king': 4501, 'Black pawn': 17798, 'Black knight': 4377, 'Black bishop': 4432, 'Black rook': 4461, 'Black queen': 2190, 'Black king': 4501}}\n"
     ]
    }
   ],
   "source": [
    "# Define the class_names dictionary\n",
    "class_names = {\n",
    "    0: 'Empty', 1: 'White pawn', 2: 'White knight', 3: 'White bishop', 4: 'White rook',\n",
    "    5: 'White queen', 6: 'White king', 7: 'Black pawn', 8: 'Black knight', 9: 'Black bishop',\n",
    "    10: 'Black rook', 11: 'Black queen', 12: 'Black king'\n",
    "}\n",
    "\n",
    "# Compute the class distribution\n",
    "class_distribution_dict = {}\n",
    "class_distributions = {}\n",
    "for label in sorted(combined_labels):\n",
    "    class_name = class_names[label.item()]\n",
    "    class_distributions[class_name] = class_distributions.get(class_name, 0) + 1\n",
    "class_distribution_dict[\"full\"] = class_distributions\n",
    "\n",
    "# Save the class distribution to a JSON file\n",
    "json_file = \"class_distribution.json\"\n",
    "with open(json_file, 'w') as f:\n",
    "    json.dump(class_distribution_dict, f)\n",
    "\n",
    "print(\"Class distribution saved to\", json_file)\n",
    "print(class_distribution_dict)"
   ]
  },
  {
   "attachments": {},
   "cell_type": "markdown",
   "metadata": {},
   "source": [
    "We now use the computed class distribution and plot them on a histogram. We can see that the data is very unbalanced. "
   ]
  },
  {
   "cell_type": "code",
   "execution_count": 14,
   "metadata": {},
   "outputs": [],
   "source": [
    "def plot_class_distribution(class_distribution):\n",
    "    # Extract class names and frequencies from the JSON data\n",
    "    class_names = list(class_distribution.keys())\n",
    "    frequencies = list(class_distribution.values())\n",
    "\n",
    "    # Calculate the total count\n",
    "    total_count = sum(frequencies)\n",
    "\n",
    "    # Calculate the percentage for each frequency\n",
    "    percentages = [count / total_count * 100 for count in frequencies]\n",
    "\n",
    "    # Create a bar plot\n",
    "    plt.figure(figsize=(12, 6))\n",
    "    bars = plt.bar(class_names, frequencies)\n",
    "    plt.xlabel(\"Class\")\n",
    "    plt.ylabel(\"Frequency\")\n",
    "    plt.title(\"Class Distribution\")\n",
    "    plt.xticks(rotation=90)\n",
    "\n",
    "    # Add the percentage labels to the bars\n",
    "    for i, bar in enumerate(bars):\n",
    "        height = bar.get_height()\n",
    "        plt.text(bar.get_x() + bar.get_width() / 2, height, f\"{percentages[i]:.2f}%\", ha='center', va='bottom')\n",
    "\n",
    "    # Display & save the plot\n",
    "    plt.tight_layout()\n",
    "    plt.savefig(\"../../Resources/Pre-processing/source_domain_distribution.jpg\")\n"
   ]
  },
  {
   "cell_type": "code",
   "execution_count": 15,
   "metadata": {},
   "outputs": [
    {
     "data": {
      "image/png": "[encoded data removed]",
      "text/plain": [
       "<Figure size 864x432 with 1 Axes>"
      ]
     },
     "metadata": {
      "needs_background": "light"
     },
     "output_type": "display_data"
    }
   ],
   "source": [
    "# Load the class ditribution from the JSON file\n",
    "with open(\"class_distribution.json\", \"r\") as f:\n",
    "    class_distribution = json.load(f)\n",
    "    \n",
    "plot_class_distribution(class_distribution[\"full\"])"
   ]
  },
  {
   "attachments": {},
   "cell_type": "markdown",
   "metadata": {},
   "source": [
    "Based on the histogram, it is evident that empty squares make up the majority, comprising about 74% of the images. Moreover, and as expected, pawns have the highest proportion among the chess pieces (around 12% in total). Additionally, the proportion of white and black pieces is similar for each piece. For instance, the proportion of the white queen is 0.78%, while that of the black queen is 0.76%."
   ]
  },
  {
   "attachments": {},
   "cell_type": "markdown",
   "metadata": {},
   "source": [
    "In this context, the imbalance in the data due to the abundance of empty squares may cause the model to have a bias towards identifying empty squares rather than chess pieces. To mitigate this issue, a pre-processing step is suggested, which involves creating a sampler when loading the data which takes into account the class propotions. This helps to improve the focus of the model on recognizing chess pieces rather than empty squares, which may not contain any useful information for the classification task. Additionally, too many empty squares may hinder domain adaptation since empty squares are similar across both domains. Furthermore, since empty squares are easy to recognize, their over-representation may lead the model to overfit to empty squares rather than the task of identifying chess pieces. This step is implemented in the Custom_Dataset.py file in the Datasets folder.\n",
    "\n"
   ]
  },
  {
   "attachments": {},
   "cell_type": "markdown",
   "metadata": {},
   "source": [
    "# Saving the full Generated Dataset splitted into train, validation and test sets"
   ]
  },
  {
   "attachments": {},
   "cell_type": "markdown",
   "metadata": {},
   "source": [
    "We first split the full generated dataset into train, validation and test sets. We keep all images in the same folder in \"Datasets/Generated Data\" to avoid having duplicates and we create three JSON files (one for each set) that contain the paths to the images in each set. Each JSON file has the name of the images as keys and the corresponding label as values. We save the JSON files in \"Datasets/Generated Data\"."
   ]
  },
  {
   "cell_type": "code",
   "execution_count": 16,
   "metadata": {},
   "outputs": [
    {
     "name": "stdout",
     "output_type": "stream",
     "text": [
      "Training set size: 230451\n",
      "Validation set size: 28806\n",
      "Testing set size: 28807\n"
     ]
    }
   ],
   "source": [
    "# Set the seed for reproducibility\n",
    "np.random.seed(42)\n",
    "\n",
    "# Number of images\n",
    "num_images = combined_labels.shape[0]\n",
    "\n",
    "# Generate indices for shuffling\n",
    "indices = np.arange(num_images)\n",
    "\n",
    "# Shuffle the indices randomly\n",
    "np.random.shuffle(indices)\n",
    "\n",
    "# Split the indices into training, validation, and testing sets. Use an 80/10/10 split.\n",
    "train_indices, val_test_indices = train_test_split(indices, test_size=0.2)\n",
    "val_indices, test_indices = train_test_split(val_test_indices, test_size=0.5)\n",
    "\n",
    "# Create dictionaries to store the image names for each set\n",
    "train_set = {\"train\": [], \"label\": []}\n",
    "val_set = {\"validation\": [], \"label\": []}\n",
    "test_set = {\"test\": [], \"label\": []}\n",
    "\n",
    "# Iterate over the indices and assign image names to the corresponding sets\n",
    "for index in train_indices:\n",
    "    image_name = f\"EX_{str(index).zfill(6)}.png\"\n",
    "    train_set[\"train\"].append(image_name)\n",
    "    train_set[\"label\"].append(combined_labels[index].item())\n",
    "\n",
    "for index in val_indices:\n",
    "    image_name = f\"EX_{str(index).zfill(6)}.png\"\n",
    "    val_set[\"validation\"].append(image_name)\n",
    "    val_set[\"label\"].append(combined_labels[index].item())\n",
    "\n",
    "for index in test_indices:\n",
    "    image_name = f\"EX_{str(index).zfill(6)}.png\"\n",
    "    test_set[\"test\"].append(image_name)\n",
    "    test_set[\"label\"].append(combined_labels[index].item())\n",
    "\n",
    "# Save the sets as JSON files\n",
    "with open(path+\"train_full_generated_data.json\", \"w\") as train_file:\n",
    "    json.dump(train_set, train_file)\n",
    "\n",
    "with open(path+\"validation_full_generated_data.json\", \"w\") as val_file:\n",
    "    json.dump(val_set, val_file)\n",
    "\n",
    "with open(path+\"test_full_generated_data.json\", \"w\") as test_file:\n",
    "    json.dump(test_set, test_file)\n",
    "\n",
    "# Print the size of each set\n",
    "print(\"Training set size:\", len(train_set[\"train\"]))\n",
    "print(\"Validation set size:\", len(val_set[\"validation\"]))\n",
    "print(\"Testing set size:\", len(test_set[\"test\"]))"
   ]
  },
  {
   "attachments": {},
   "cell_type": "markdown",
   "metadata": {},
   "source": [
    "Re-compute the class distributions in each of the train, validation, and test sets."
   ]
  },
  {
   "cell_type": "code",
   "execution_count": 17,
   "metadata": {},
   "outputs": [
    {
     "name": "stdout",
     "output_type": "stream",
     "text": [
      "{'full': {'Empty': 212194, 'White pawn': 17865, 'White knight': 4518, 'White bishop': 4460, 'White rook': 4527, 'White queen': 2240, 'White king': 4501, 'Black pawn': 17798, 'Black knight': 4377, 'Black bishop': 4432, 'Black rook': 4461, 'Black queen': 2190, 'Black king': 4501}, 'train': {'Empty': 169747, 'White pawn': 14250, 'White knight': 3546, 'White bishop': 3532, 'White rook': 3673, 'White queen': 1787, 'White king': 3611, 'Black pawn': 14253, 'Black knight': 3555, 'Black bishop': 3564, 'Black rook': 3593, 'Black queen': 1747, 'Black king': 3593}, 'validation': {'Empty': 21249, 'White pawn': 1733, 'White knight': 506, 'White bishop': 489, 'White rook': 425, 'White queen': 226, 'White king': 425, 'Black pawn': 1784, 'Black knight': 400, 'Black bishop': 442, 'Black rook': 439, 'Black queen': 231, 'Black king': 457}, 'test': {'Empty': 21198, 'White pawn': 1882, 'White knight': 466, 'White bishop': 439, 'White rook': 429, 'White queen': 227, 'White king': 465, 'Black pawn': 1761, 'Black knight': 422, 'Black bishop': 426, 'Black rook': 429, 'Black queen': 212, 'Black king': 451}}\n"
     ]
    }
   ],
   "source": [
    "json_file = \"class_distribution.json\"\n",
    "\n",
    "def sort_and_return(list):\n",
    "    list.sort()\n",
    "    return list\n",
    "\n",
    "# Extract the frequency of each class\n",
    "class_distributions_train = {}\n",
    "for label in sort_and_return(train_set[\"label\"]):\n",
    "    class_name = class_names[label]\n",
    "    class_distributions_train[class_name] = class_distributions_train.get(class_name, 0) + 1\n",
    "class_distribution_dict[\"train\"] = class_distributions_train\n",
    "\n",
    "class_distributions_val = {}\n",
    "for label in sort_and_return(val_set[\"label\"]):\n",
    "    class_name = class_names[label]\n",
    "    class_distributions_val[class_name] = class_distributions_val.get(class_name, 0) + 1\n",
    "class_distribution_dict[\"validation\"] = class_distributions_val\n",
    "\n",
    "class_distributions_test = {}\n",
    "for label in sort_and_return(test_set[\"label\"]):\n",
    "    class_name = class_names[label]\n",
    "    class_distributions_test[class_name] = class_distributions_test.get(class_name, 0) + 1\n",
    "class_distribution_dict[\"test\"] = class_distributions_test\n",
    "\n",
    "# Overwrite the distribution json file\n",
    "with open(json_file, 'w') as f:\n",
    "    f.seek(0)\n",
    "    json.dump(class_distribution_dict, f)\n",
    "\n",
    "# Sanity check\n",
    "print(class_distribution_dict)\n",
    "\n"
   ]
  }
 ],
 "metadata": {
  "kernelspec": {
   "display_name": "myenv",
   "language": "python",
   "name": "python3"
  },
  "language_info": {
   "codemirror_mode": {
    "name": "ipython",
    "version": 3
   },
   "file_extension": ".py",
   "mimetype": "text/x-python",
   "name": "python",
   "nbconvert_exporter": "python",
   "pygments_lexer": "ipython3",
   "version": "3.10.2"
  },
  "orig_nbformat": 4
 },
 "nbformat": 4,
 "nbformat_minor": 2
}
