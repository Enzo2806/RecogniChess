{
 "cells": [
  {
   "attachments": {},
   "cell_type": "markdown",
   "metadata": {},
   "source": [
    "# Imports"
   ]
  },
  {
   "cell_type": "code",
   "execution_count": 41,
   "metadata": {},
   "outputs": [],
   "source": [
    "import os\n",
    "import shutil\n",
    "import matplotlib.pyplot as plt\n",
    "import torch\n",
    "import random  \n",
    "import numpy as np\n",
    "import json\n",
    "from sklearn.model_selection import train_test_split\n",
    "from torchvision import transforms"
   ]
  },
  {
   "attachments": {},
   "cell_type": "markdown",
   "metadata": {},
   "source": [
    "# Code"
   ]
  },
  {
   "attachments": {},
   "cell_type": "markdown",
   "metadata": {},
   "source": [
    "Set the paths and import the label array"
   ]
  },
  {
   "cell_type": "code",
   "execution_count": 44,
   "metadata": {},
   "outputs": [
    {
     "name": "stdout",
     "output_type": "stream",
     "text": [
      "torch.Size([288064])\n",
      "tensor([ 0.,  0.,  0.,  9.,  7.,  0.,  0.,  0.,  0.,  0.,  0.,  0.,  0.,  9.,\n",
      "         0.,  0.,  0.,  0.,  0.,  0.,  1.,  6.,  0.,  0.,  0., 10.,  0., 12.,\n",
      "        10.,  0.,  0.,  8.,  0.,  7.,  0.,  8.,  0.,  0.,  0.,  0.,  0.,  0.,\n",
      "         0.,  0.,  0.,  0.,  0.,  0.,  0.,  7.,  0.,  0.,  0.,  0.,  0.,  0.,\n",
      "         0.,  0.,  0., 11.,  0.,  0.,  0.,  0.])\n",
      "tensor([ 0.,  0.,  0.,  9.,  7.,  0.,  0.,  0.,  0.,  0.,  0.,  0.,  0.,  9.,\n",
      "         0.,  0.,  0.,  0.,  0.,  0.,  1.,  6.,  0.,  0.,  0., 10.,  0., 12.,\n",
      "        10.,  0.,  0.,  8.,  0.,  7.,  0.,  8.,  0.,  0.,  0.,  0.,  0.,  0.,\n",
      "         0.,  0.,  0.,  0.,  0.,  0.,  0.,  7.,  0.,  0.,  0.,  0.,  0.,  0.,\n",
      "         0.,  0.,  0., 11.,  0.,  0.,  0.,  0.])\n"
     ]
    }
   ],
   "source": [
    "# List the file names of the label tensors\n",
    "label_files = [\"y_generated_0_1000.pt\", \"y_generated_1000_2000.pt\", \"y_generated_2000_3000.pt\", \"y_generated_3000_4000.pt\", \"y_generated_4000_4501.pt\"]\n",
    "\n",
    "# Initialize an empty list to store the label tensors\n",
    "label_tensors = []\n",
    "\n",
    "# Path: Data Generation/Pre Processed Data Generated/data-generation-processing2.ipynb\n",
    "path = \"../Datasets/Generated Data/\"\n",
    "\n",
    "# Load each label tensor and append it to the list\n",
    "for file in label_files:\n",
    "    label_tensor = torch.load(path+file)\n",
    "    label_tensors.append(label_tensor)\n",
    "\n",
    "# Concatenate the label tensors along the 0th dimension (assuming they have the same shape)\n",
    "combined_labels = torch.cat(label_tensors, dim=0)\n",
    "\n",
    "# Should print 288064: 64*4501 training examples\n",
    "print(combined_labels.shape)\n",
    "# The next 2 print statements should be the same\n",
    "print(combined_labels[288000:])\n",
    "print(label_tensors[4][32000:])"
   ]
  },
  {
   "attachments": {},
   "cell_type": "markdown",
   "metadata": {},
   "source": [
    "We now plot the distribution of the generated data before removing training examples that are empty squares to rebalance the data. We save that plot in a JSON file to be able to easily plot this data later if necessary. We expect a lot of empty squares in the data."
   ]
  },
  {
   "cell_type": "code",
   "execution_count": 45,
   "metadata": {},
   "outputs": [
    {
     "name": "stdout",
     "output_type": "stream",
     "text": [
      "Class distribution saved to class_distribution.json\n",
      "{'White rook': 4527, 'Empty': 212194, 'Black pawn': 17798, 'Black king': 4501, 'White knight': 4518, 'White pawn': 17865, 'White queen': 2240, 'White king': 4501, 'White bishop': 4460, 'Black bishop': 4432, 'Black queen': 2190, 'Black rook': 4461, 'Black knight': 4377}\n"
     ]
    }
   ],
   "source": [
    "# Define the class_names dictionary\n",
    "class_names = {\n",
    "    0: 'Empty', 1: 'White pawn', 2: 'White knight', 3: 'White bishop', 4: 'White rook',\n",
    "    5: 'White queen', 6: 'White king', 7: 'Black pawn', 8: 'Black knight', 9: 'Black bishop',\n",
    "    10: 'Black rook', 11: 'Black queen', 12: 'Black king'\n",
    "}\n",
    "\n",
    "# Compute the class distribution\n",
    "class_distribution = {}\n",
    "for label in combined_labels:\n",
    "    class_name = class_names[label.item()]\n",
    "    class_distribution[class_name] = class_distribution.get(class_name, 0) + 1\n",
    "\n",
    "# Save the class distribution to a JSON file\n",
    "json_file = \"class_distribution.json\"\n",
    "with open(json_file, 'w') as f:\n",
    "    json.dump(class_distribution, f)\n",
    "\n",
    "print(\"Class distribution saved to\", json_file)\n",
    "print(class_distribution)"
   ]
  },
  {
   "attachments": {},
   "cell_type": "markdown",
   "metadata": {},
   "source": [
    "We now use the computed class distribution and plot them on a histogram. We can see that the data is very unbalanced. We will now remove empty squares from the training set to rebalance the data."
   ]
  },
  {
   "cell_type": "code",
   "execution_count": 59,
   "metadata": {},
   "outputs": [],
   "source": [
    "def plot_class_distribution(class_distribution):\n",
    "    # Extract class names and frequencies from the JSON data\n",
    "    class_names = list(class_distribution.keys())\n",
    "    frequencies = list(class_distribution.values())\n",
    "\n",
    "    # Calculate the total count\n",
    "    total_count = sum(frequencies)\n",
    "\n",
    "    # Calculate the percentage for each frequency\n",
    "    percentages = [count / total_count * 100 for count in frequencies]\n",
    "\n",
    "    # Create a bar plot\n",
    "    plt.figure(figsize=(12, 6))\n",
    "    bars = plt.bar(class_names, frequencies)\n",
    "    plt.xlabel(\"Class\")\n",
    "    plt.ylabel(\"Frequency\")\n",
    "    plt.title(\"Class Distribution\")\n",
    "    plt.xticks(rotation=90)\n",
    "\n",
    "    # Add the percentage labels to the bars\n",
    "    for i, bar in enumerate(bars):\n",
    "        height = bar.get_height()\n",
    "        plt.text(bar.get_x() + bar.get_width() / 2, height, f\"{percentages[i]:.2f}%\", ha='center', va='bottom')\n",
    "\n",
    "    # Display the plot\n",
    "    plt.tight_layout()\n",
    "    plt.show()"
   ]
  },
  {
   "cell_type": "code",
   "execution_count": 61,
   "metadata": {},
   "outputs": [
    {
     "data": {
      "image/png": "[encoded data removed]",
      "text/plain": [
       "<Figure size 864x432 with 1 Axes>"
      ]
     },
     "metadata": {
      "needs_background": "light"
     },
     "output_type": "display_data"
    }
   ],
   "source": [
    "# Load the class ditribution from the JSON file\n",
    "with open(\"class_distribution.json\", \"r\") as f:\n",
    "    class_distribution = json.load(f)\n",
    "    \n",
    "plot_class_distribution(class_distribution)"
   ]
  },
  {
   "attachments": {},
   "cell_type": "markdown",
   "metadata": {},
   "source": [
    "Based on the histogram, it is evident that empty squares make up the majority, comprising about 74% of the images. Moreover, and as expected, pawns have the highest proportion among the chess pieces (around 12% in total). Additionally, the proportion of white and black pieces is similar for each piece. For instance, the proportion of the white queen is 0.78%, while that of the black queen is 0.76%."
   ]
  },
  {
   "attachments": {},
   "cell_type": "markdown",
   "metadata": {},
   "source": [
    "In this context, the imbalance in the data due to the abundance of empty squares may cause the model to have a bias towards identifying empty squares rather than chess pieces. To mitigate this issue, a pre-processing step is suggested, which involves removing a significant portion of training examples that correspond to empty squares. The objective is to provide a more balanced data set, where the number of training examples that are empty squares is equal to the number of training examples that correspond to pawns (black and white combined). This step helps to improve the focus of the model on recognizing chess pieces rather than empty squares, which may not contain any useful information for the classification task. Additionally, too many empty squares may hinder domain adaptation since empty squares are similar across both domains. Furthermore, since empty squares are easy to recognize, their over-representation may lead the model to overfit to empty squares rather than the task of identifying chess pieces. Finally, it is worth noting that other classes such as knight, king, etc. are kept unchanged since they are critical for the classification task."
   ]
  },
  {
   "attachments": {},
   "cell_type": "markdown",
   "metadata": {},
   "source": [
    "# Saving the full Generated Dataset splitted into train, validation and test sets"
   ]
  },
  {
   "attachments": {},
   "cell_type": "markdown",
   "metadata": {},
   "source": [
    "We first split the full generated dataset into train, validation and test sets. We keep all images in the same folder in \"Datasets/Generated Data\" to avoid having duplicates (since we will also have a Generated Dataset with most empty squares removed). We thus create three JSON files (one for each set) that contain the paths to the images in each set. Each JSON file has the name of the images as keys and the corresponding label as values. We save the JSON files in \"Datasets/Generated Data\"."
   ]
  },
  {
   "cell_type": "code",
   "execution_count": 55,
   "metadata": {},
   "outputs": [
    {
     "name": "stdout",
     "output_type": "stream",
     "text": [
      "Training set size: 230451\n",
      "Validation set size: 28806\n",
      "Testing set size: 28807\n"
     ]
    }
   ],
   "source": [
    "# Set the seed for reproducibility\n",
    "np.random.seed(42)\n",
    "\n",
    "# Number of images\n",
    "num_images = combined_labels.shape[0]\n",
    "\n",
    "# Generate indices for shuffling\n",
    "indices = np.arange(num_images)\n",
    "\n",
    "# Shuffle the indices randomly\n",
    "np.random.shuffle(indices)\n",
    "\n",
    "# Path to save the training, validation, and testing sets files too\n",
    "path = \"../Datasets/Generated Data/\"\n",
    "\n",
    "# Split the indices into training, validation, and testing sets. Use an 80/10/10 split.\n",
    "train_indices, val_test_indices = train_test_split(indices, test_size=0.2)\n",
    "val_indices, test_indices = train_test_split(val_test_indices, test_size=0.5)\n",
    "\n",
    "# Create dictionaries to store the image names for each set\n",
    "train_set = {\"train\": [], \"label\": []}\n",
    "val_set = {\"validation\": [], \"label\": []}\n",
    "test_set = {\"test\": [], \"label\": []}\n",
    "\n",
    "# Iterate over the indices and assign image names to the corresponding sets\n",
    "for index in train_indices:\n",
    "    image_name = f\"EX_{str(index).zfill(6)}.png\"\n",
    "    train_set[\"train\"].append(image_name)\n",
    "    train_set[\"label\"].append(combined_labels[index].item())\n",
    "\n",
    "for index in val_indices:\n",
    "    image_name = f\"EX_{str(index).zfill(6)}.png\"\n",
    "    val_set[\"validation\"].append(image_name)\n",
    "    val_set[\"label\"].append(combined_labels[index].item())\n",
    "\n",
    "for index in test_indices:\n",
    "    image_name = f\"EX_{str(index).zfill(6)}.png\"\n",
    "    test_set[\"test\"].append(image_name)\n",
    "    test_set[\"label\"].append(combined_labels[index].item())\n",
    "\n",
    "# Save the sets as JSON files\n",
    "with open(path+\"train_full_generated_data.json\", \"w\") as train_file:\n",
    "    json.dump(train_set, train_file)\n",
    "\n",
    "with open(path+\"validation_full_generated_data.json\", \"w\") as val_file:\n",
    "    json.dump(val_set, val_file)\n",
    "\n",
    "with open(path+\"test_full_generated_data.json\", \"w\") as test_file:\n",
    "    json.dump(test_set, test_file)\n",
    "\n",
    "# Print the size of each set\n",
    "print(\"Training set size:\", len(train_set[\"train\"]))\n",
    "print(\"Validation set size:\", len(val_set[\"validation\"]))\n",
    "print(\"Testing set size:\", len(test_set[\"test\"]))"
   ]
  },
  {
   "attachments": {},
   "cell_type": "markdown",
   "metadata": {},
   "source": [
    "# Saving the Generated Dataset splitted into train, validation and test sets without empty squares"
   ]
  },
  {
   "attachments": {},
   "cell_type": "markdown",
   "metadata": {},
   "source": [
    "We will now also save three JSON files containing the training, validation, and testing sets, respectively. However, before saving the sets, we will remove some empty squares from the dataset. The goal is to ensure that the total number of empty squares across all sets is equal to the total number of pawns (black and white combined).\n",
    "\n",
    "To achieve this, we will remove empty squares from the training, validation, and testing sets while ensuring that the remaining sets still contain the same images as the original sets. This step is important because we intend to train our models on the generated dataset without empty squares. Consequently, when evaluating the model on the test set, which includes empty squares, we want to ensure that the model is not tested on images it was trained on.\n",
    "\n",
    "By preserving the same images across the sets without empty squares, we maintain consistency between the sets with and without empty squares.\n",
    "\n",
    "To accomplish this task, we will follow the following steps:\n",
    "\n",
    "1. Load the three JSON files created in the previous step, containing the original training, validation, and testing sets.\n",
    "2. Compute the total number of chess pawns (black and white combined) across the three sets.\n",
    "3. Determine the number of empty squares to remove to ensure that the total number of empty squares matches the total number of chess pawns.\n",
    "4. Calculate the proportion of empty squares to remove, based on the computed values.\n",
    "5. Remove the corresponding percentage of empty squares from each set, maintaining the same proportion in the training, validation, and testing sets.\n",
    "6. Save the modified datasets as new JSON files, using the same format as the previous ones, but with the empty squares removed.\n",
    "\n",
    "By following these steps, we can generate new JSON files that contain the modified datasets without the selected empty squares, while preserving the consistency and proportionality of the original sets.\n",
    "\n",
    "For example if we need to remove 212000 empty squares and there are 2700000 total empty squares in the three sets combined, this represents 78% of empty squares. We will thus remove 78% of the empty squares in the training set, 78% of the empty squares in the testing set and 78% of the empty squares in the validation set. We then save 3 new JSON files in the same format as the previous ones, but with the empty squares removed."
   ]
  },
  {
   "cell_type": "code",
   "execution_count": 63,
   "metadata": {},
   "outputs": [
    {
     "name": "stdout",
     "output_type": "stream",
     "text": [
      "Training set size: 89167\n",
      "Validation set size: 11172\n",
      "Testing set size: 11054\n",
      "Number of empty squares in training set: 28463\n",
      "Number of empty squares in validation set: 3615\n",
      "Number of empty squares in testing set: 3445\n"
     ]
    }
   ],
   "source": [
    "# Load the original datasets\n",
    "with open(path+\"train_full_generated_data.json\", \"r\") as f:\n",
    "    train_data = json.load(f)\n",
    "    \n",
    "with open(path+\"validation_full_generated_data.json\", \"r\") as f:\n",
    "    validation_data = json.load(f)\n",
    "    \n",
    "with open(path+\"test_full_generated_data.json\", \"r\") as f:\n",
    "    test_data = json.load(f)\n",
    "\n",
    "# Store IDS to count the number of pawns and empty squares\n",
    "white_pawn_id = 1\n",
    "black_pawn_id = 7\n",
    "empty_id = 0\n",
    "\n",
    "total_pawns = train_data[\"label\"].count(white_pawn_id) + train_data[\"label\"].count(black_pawn_id) + \\\n",
    "                validation_data[\"label\"].count(white_pawn_id) + validation_data[\"label\"].count(black_pawn_id) + \\\n",
    "                test_data[\"label\"].count(white_pawn_id) + test_data[\"label\"].count(black_pawn_id)\n",
    "\n",
    "# Compute the number of empty squares to remove\n",
    "total_empty_squares = train_data[\"label\"].count(empty_id) + validation_data[\"label\"].count(empty_id) + test_data[\"label\"].count(empty_id)\n",
    "empty_squares_to_remove = total_empty_squares - total_pawns\n",
    "\n",
    "# Calculate the percentage of empty squares to remove\n",
    "percentage_to_remove = empty_squares_to_remove / total_empty_squares\n",
    "\n",
    "# Randomly select and remove empty squares from each set\n",
    "random.seed(42)  # For reproducibility\n",
    "\n",
    "train_balanced_data = {\"train\": [], \"label\": []}\n",
    "validation_balanced_data = {\"validation\": [], \"label\": []}\n",
    "test_balanced_data = {\"test\": [], \"label\": []}\n",
    "\n",
    "for image, label in zip(train_data[\"train\"], train_data[\"label\"]):\n",
    "    if label != empty_id or random.random() > percentage_to_remove:\n",
    "        train_balanced_data[\"train\"].append(image)\n",
    "        train_balanced_data[\"label\"].append(label)\n",
    "\n",
    "for image, label in zip(validation_data[\"validation\"], validation_data[\"label\"]):\n",
    "    if label != empty_id or random.random() > percentage_to_remove:\n",
    "        validation_balanced_data[\"validation\"].append(image)\n",
    "        validation_balanced_data[\"label\"].append(label)\n",
    "\n",
    "for image, label in zip(test_data[\"test\"], test_data[\"label\"]):\n",
    "    if label != empty_id or random.random() > percentage_to_remove:\n",
    "        test_balanced_data[\"test\"].append(image)\n",
    "        test_balanced_data[\"label\"].append(label)\n",
    "\n",
    "# Save the modified datasets as new JSON files\n",
    "with open(path+\"train_balanced_generated_data.json\", \"w\") as f:\n",
    "    json.dump(train_balanced_data, f)\n",
    "\n",
    "with open(path+\"validation_balanced_generated_data.json\", \"w\") as f:\n",
    "    json.dump(validation_balanced_data, f)\n",
    "\n",
    "with open(path+\"test_balanced_generated_data.json\", \"w\") as f:\n",
    "    json.dump(test_balanced_data, f)\n",
    "\n",
    "# Print the size of each set\n",
    "print(\"Training set size:\", len(train_balanced_data[\"train\"]))\n",
    "print(\"Validation set size:\", len(validation_balanced_data[\"validation\"]))\n",
    "print(\"Testing set size:\", len(test_balanced_data[\"test\"]))\n",
    "\n",
    "# Print the number of empty squares in each set\n",
    "print(\"Number of empty squares in training set:\", train_balanced_data[\"label\"].count(empty_id))\n",
    "print(\"Number of empty squares in validation set:\", validation_balanced_data[\"label\"].count(empty_id))\n",
    "print(\"Number of empty squares in testing set:\", test_balanced_data[\"label\"].count(empty_id))"
   ]
  },
  {
   "attachments": {},
   "cell_type": "markdown",
   "metadata": {},
   "source": [
    "We now save the new class distribution after removing empty squares from all sets. We can see that the data is now more balanced. We save that plot in a JSON file to be able to easily plot this data later if necessary."
   ]
  },
  {
   "cell_type": "code",
   "execution_count": 64,
   "metadata": {},
   "outputs": [
    {
     "name": "stdout",
     "output_type": "stream",
     "text": [
      "Class distribution saved to class_distribution_balanced.json\n",
      "{'Empty': 35523, 'White pawn': 17865, 'Black king': 4501, 'Black bishop': 4432, 'White knight': 4518, 'Black pawn': 17798, 'White rook': 4527, 'White bishop': 4460, 'White king': 4501, 'White queen': 2240, 'Black rook': 4461, 'Black knight': 4377, 'Black queen': 2190}\n"
     ]
    }
   ],
   "source": [
    "# Define the class_names dictionary\n",
    "class_names = {\n",
    "    0: 'Empty', 1: 'White pawn', 2: 'White knight', 3: 'White bishop', 4: 'White rook',\n",
    "    5: 'White queen', 6: 'White king', 7: 'Black pawn', 8: 'Black knight', 9: 'Black bishop',\n",
    "    10: 'Black rook', 11: 'Black queen', 12: 'Black king'\n",
    "}\n",
    "\n",
    "# Load the three JSON files\n",
    "with open(path+\"train_balanced_generated_data.json\", \"r\") as f:\n",
    "    train_data = json.load(f)\n",
    "\n",
    "with open(path+\"validation_balanced_generated_data.json\", \"r\") as f:\n",
    "    validation_data = json.load(f)\n",
    "\n",
    "with open(path+\"test_balanced_generated_data.json\", \"r\") as f:\n",
    "    test_data = json.load(f)\n",
    "\n",
    "# Combine the labels from all sets\n",
    "combined_labels = train_data[\"label\"] + validation_data[\"label\"] + test_data[\"label\"]\n",
    "\n",
    "# Compute the class distribution\n",
    "class_distribution = {}\n",
    "for label in combined_labels:\n",
    "    class_name = class_names[label]\n",
    "    class_distribution[class_name] = class_distribution.get(class_name, 0) + 1\n",
    "\n",
    "# Save the class distribution to a JSON file\n",
    "json_file = \"class_distribution_balanced.json\"\n",
    "with open(json_file, 'w') as f:\n",
    "    json.dump(class_distribution, f)\n",
    "\n",
    "print(\"Class distribution saved to\", json_file)\n",
    "print(class_distribution)"
   ]
  },
  {
   "attachments": {},
   "cell_type": "markdown",
   "metadata": {},
   "source": [
    "Plot the distribution of the generated data after removing empty squares on a histogram."
   ]
  },
  {
   "cell_type": "code",
   "execution_count": 65,
   "metadata": {},
   "outputs": [
    {
     "data": {
      "image/png": "[encoded data removed]",
      "text/plain": [
       "<Figure size 864x432 with 1 Axes>"
      ]
     },
     "metadata": {
      "needs_background": "light"
     },
     "output_type": "display_data"
    }
   ],
   "source": [
    "# Load the class ditribution from the JSON file\n",
    "with open(\"class_distribution_balanced.json\", \"r\") as f:\n",
    "    class_distribution_balanced = json.load(f)\n",
    "    \n",
    "plot_class_distribution(class_distribution_balanced)"
   ]
  }
 ],
 "metadata": {
  "kernelspec": {
   "display_name": "myenv",
   "language": "python",
   "name": "python3"
  },
  "language_info": {
   "codemirror_mode": {
    "name": "ipython",
    "version": 3
   },
   "file_extension": ".py",
   "mimetype": "text/x-python",
   "name": "python",
   "nbconvert_exporter": "python",
   "pygments_lexer": "ipython3",
   "version": "3.9.6"
  },
  "orig_nbformat": 4
 },
 "nbformat": 4,
 "nbformat_minor": 2
}
