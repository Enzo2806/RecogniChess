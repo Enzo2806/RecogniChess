{
 "cells": [
  {
   "attachments": {},
   "cell_type": "markdown",
   "id": "b950cda7",
   "metadata": {},
   "source": [
    "# Imports and overview\n",
    "\n",
    "This notebook implements the CORAL model from https://arxiv.org/pdf/1511.05547.pdf. It is inspired from https://github.com/SSARCandy/DeepCORAL."
   ]
  },
  {
   "cell_type": "code",
   "execution_count": 151,
   "id": "144fa7ba",
   "metadata": {},
   "outputs": [],
   "source": [
    "# We can now load the dependencies\n",
    "%matplotlib inline \n",
    "import torch \n",
    "import torch.nn as nn\n",
    "import numpy as np\n",
    "import matplotlib.pyplot as plt \n",
    "import torchvision\n",
    "from tqdm import tqdm\n",
    "from torch.utils.data import Dataset\n",
    "from torch.utils.data import DataLoader\n",
    "import torch.optim as optim\n",
    "import torchmetrics\n",
    "import os\n",
    "import torchvision.transforms as transforms\n",
    "from PIL import Image\n",
    "import pandas as pd"
   ]
  },
  {
   "attachments": {},
   "cell_type": "markdown",
   "id": "6211a13b",
   "metadata": {},
   "source": [
    "We can start by setting a seed for reproducibility"
   ]
  },
  {
   "cell_type": "code",
   "execution_count": 152,
   "id": "356ddda1",
   "metadata": {},
   "outputs": [
    {
     "data": {
      "text/plain": [
       "<torch._C.Generator at 0x7fd819240190>"
      ]
     },
     "execution_count": 152,
     "metadata": {},
     "output_type": "execute_result"
    }
   ],
   "source": [
    "torch.manual_seed(0)"
   ]
  },
  {
   "attachments": {},
   "cell_type": "markdown",
   "id": "f6fe08f8",
   "metadata": {},
   "source": [
    "For reference, here is the architecture of the model we will implement:\n",
    "\n",
    "<img src=\"CORAL_architecture.png\" align=\"center\"/>"
   ]
  },
  {
   "attachments": {},
   "cell_type": "markdown",
   "id": "e8c3d84a",
   "metadata": {},
   "source": [
    "# Pre-processing"
   ]
  },
  {
   "attachments": {},
   "cell_type": "markdown",
   "id": "9121b596",
   "metadata": {},
   "source": [
    "We start by defining a custom dataset which loads the data from disk lazily. This is because we have too many training examples to keep all of them in memory at once."
   ]
  },
  {
   "cell_type": "code",
   "execution_count": 153,
   "id": "6afe02a2",
   "metadata": {},
   "outputs": [],
   "source": [
    "# Transform to apply to the minibatches for data augmentation\n",
    "# Define the transformation to apply\n",
    "# Transformations: Random horizontal and vertical flips, halving and doubling the brightness\n",
    "# This should improve the prediction accuracy\n",
    "transform = transforms.Compose([\n",
    "    transforms.ToTensor(),\n",
    "    transforms.RandomHorizontalFlip(p=0.5),\n",
    "    transforms.RandomVerticalFlip(p=0.5),\n",
    "    transforms.RandomApply([transforms.ColorJitter(brightness=[0.75, 1.25])], p=0.5)\n",
    "])\n",
    "\n",
    "class CustomDataset(Dataset):\n",
    "    \n",
    "    def __init__(self, root_dir, label_dir):\n",
    "        self.root_dir = root_dir\n",
    "        self.label_dir = label_dir\n",
    "        self.images = os.listdir(root_dir)\n",
    "        self.labels = torch.load(label_dir).long()\n",
    "\n",
    "        # Remove the labels that do not belong to this split of the dataset (Labels is all labels)\n",
    "        self.labels = self.labels[torch.tensor([int(img_name[3:9]) for img_name in self.images])]\n",
    "\n",
    "\n",
    "\n",
    "    def __len__(self):\n",
    "        return len(self.images)\n",
    "\n",
    "    def __getitem__(self, idx):\n",
    "        img_name = self.images[idx]\n",
    "        img_path = os.path.join(self.root_dir, img_name)\n",
    "        image = Image.open(img_path)\n",
    "        image = transform(image)\n",
    "        label = self.labels[idx] # Since we removed the labels that do not belong to this split, we can use idx directly\n",
    "        return image, label\n",
    "\n",
    "# Extract the generated data\n",
    "generated_data_root = \"../../Data Generation/Pre Processed Data Generated\"\n",
    "train_gen_dataset = CustomDataset(generated_data_root + \"/Square Images/Training\", generated_data_root + \"/Square Images/y_generated.pt\")\n",
    "val_gen_dataset = CustomDataset(generated_data_root + \"/Square Images/Validation\", generated_data_root + \"/Square Images/y_generated.pt\")\n",
    "test_gen_dataset = CustomDataset(generated_data_root + \"/Square Images/Testing\", generated_data_root + \"/Square Images/y_generated.pt\")\n",
    "\n",
    "# Extract the real data\n",
    "real_data_root = \"../../Real life data/Pre processed Real Life\"\n",
    "train_real_dataset = CustomDataset(real_data_root + \"/Square Images/Training\", real_data_root + \"/Square Images/y_real_life.pt\")\n",
    "val_real_dataset = CustomDataset(real_data_root + \"/Square Images/Validation\", real_data_root + \"/Square Images/y_real_life.pt\")\n",
    "test_real_dataset = CustomDataset(real_data_root + \"/Square Images/Testing\", real_data_root + \"/Square Images/y_real_life.pt\")"
   ]
  },
  {
   "attachments": {},
   "cell_type": "markdown",
   "id": "b93703ce",
   "metadata": {},
   "source": [
    "# Hyperparameter choices"
   ]
  },
  {
   "attachments": {},
   "cell_type": "markdown",
   "id": "b259e4e1",
   "metadata": {},
   "source": [
    "We create a cell to hold the hyperparameters of the model"
   ]
  },
  {
   "cell_type": "code",
   "execution_count": 154,
   "id": "a6ce00b6",
   "metadata": {},
   "outputs": [],
   "source": [
    "learning_rate = 0.001\n",
    "batch_size = 100 # Each the real and generated data will be split into batches of this size (Since we only train on generated here)\n",
    "num_epochs = 1 # Since we only train on generated data, we can use a small number of epochs because we have around 300000 images plus the augmentation\n",
    "dropout_rate_choices = {0.2, 0.5}\n",
    "gamma_focal_loss_choices = {2, 5} # Choices for the gamma parameter in the focal loss\n",
    "n_validation = 10 # Number of iterations between each validation run\n",
    "n_validation_minibatches = 2 # Number of minibatches to use for validation\n",
    "n_final_validation_minibatches = 20 # Number of minibatches to use for the final validation run\n",
    "lambda_coral_choices = {1, 0.5} # Regularization parameter for CORAL"
   ]
  },
  {
   "attachments": {},
   "cell_type": "markdown",
   "id": "1e60fc99",
   "metadata": {},
   "source": [
    "# Model implementation"
   ]
  },
  {
   "attachments": {},
   "cell_type": "markdown",
   "id": "868ef8b6",
   "metadata": {},
   "source": [
    "We can start by loading a pre-trained VGG16 model without the classification layers towards the end (Only the feature extractor)."
   ]
  },
  {
   "cell_type": "code",
   "execution_count": 155,
   "id": "1a976a80",
   "metadata": {},
   "outputs": [],
   "source": [
    "vgg16 = torchvision.models.vgg16(weights='VGG16_Weights.IMAGENET1K_V1')"
   ]
  },
  {
   "attachments": {},
   "cell_type": "markdown",
   "id": "8433f526",
   "metadata": {},
   "source": [
    "We can now visualize its layers:"
   ]
  },
  {
   "cell_type": "code",
   "execution_count": 156,
   "id": "9614fd2a",
   "metadata": {},
   "outputs": [
    {
     "data": {
      "text/plain": [
       "VGG(\n",
       "  (features): Sequential(\n",
       "    (0): Conv2d(3, 64, kernel_size=(3, 3), stride=(1, 1), padding=(1, 1))\n",
       "    (1): ReLU(inplace=True)\n",
       "    (2): Conv2d(64, 64, kernel_size=(3, 3), stride=(1, 1), padding=(1, 1))\n",
       "    (3): ReLU(inplace=True)\n",
       "    (4): MaxPool2d(kernel_size=2, stride=2, padding=0, dilation=1, ceil_mode=False)\n",
       "    (5): Conv2d(64, 128, kernel_size=(3, 3), stride=(1, 1), padding=(1, 1))\n",
       "    (6): ReLU(inplace=True)\n",
       "    (7): Conv2d(128, 128, kernel_size=(3, 3), stride=(1, 1), padding=(1, 1))\n",
       "    (8): ReLU(inplace=True)\n",
       "    (9): MaxPool2d(kernel_size=2, stride=2, padding=0, dilation=1, ceil_mode=False)\n",
       "    (10): Conv2d(128, 256, kernel_size=(3, 3), stride=(1, 1), padding=(1, 1))\n",
       "    (11): ReLU(inplace=True)\n",
       "    (12): Conv2d(256, 256, kernel_size=(3, 3), stride=(1, 1), padding=(1, 1))\n",
       "    (13): ReLU(inplace=True)\n",
       "    (14): Conv2d(256, 256, kernel_size=(3, 3), stride=(1, 1), padding=(1, 1))\n",
       "    (15): ReLU(inplace=True)\n",
       "    (16): MaxPool2d(kernel_size=2, stride=2, padding=0, dilation=1, ceil_mode=False)\n",
       "    (17): Conv2d(256, 512, kernel_size=(3, 3), stride=(1, 1), padding=(1, 1))\n",
       "    (18): ReLU(inplace=True)\n",
       "    (19): Conv2d(512, 512, kernel_size=(3, 3), stride=(1, 1), padding=(1, 1))\n",
       "    (20): ReLU(inplace=True)\n",
       "    (21): Conv2d(512, 512, kernel_size=(3, 3), stride=(1, 1), padding=(1, 1))\n",
       "    (22): ReLU(inplace=True)\n",
       "    (23): MaxPool2d(kernel_size=2, stride=2, padding=0, dilation=1, ceil_mode=False)\n",
       "    (24): Conv2d(512, 512, kernel_size=(3, 3), stride=(1, 1), padding=(1, 1))\n",
       "    (25): ReLU(inplace=True)\n",
       "    (26): Conv2d(512, 512, kernel_size=(3, 3), stride=(1, 1), padding=(1, 1))\n",
       "    (27): ReLU(inplace=True)\n",
       "    (28): Conv2d(512, 512, kernel_size=(3, 3), stride=(1, 1), padding=(1, 1))\n",
       "    (29): ReLU(inplace=True)\n",
       "    (30): MaxPool2d(kernel_size=2, stride=2, padding=0, dilation=1, ceil_mode=False)\n",
       "  )\n",
       "  (avgpool): AdaptiveAvgPool2d(output_size=(7, 7))\n",
       "  (classifier): Sequential(\n",
       "    (0): Linear(in_features=25088, out_features=4096, bias=True)\n",
       "    (1): ReLU(inplace=True)\n",
       "    (2): Dropout(p=0.5, inplace=False)\n",
       "    (3): Linear(in_features=4096, out_features=4096, bias=True)\n",
       "    (4): ReLU(inplace=True)\n",
       "    (5): Dropout(p=0.5, inplace=False)\n",
       "    (6): Linear(in_features=4096, out_features=1000, bias=True)\n",
       "  )\n",
       ")"
      ]
     },
     "execution_count": 156,
     "metadata": {},
     "output_type": "execute_result"
    }
   ],
   "source": [
    "vgg16"
   ]
  },
  {
   "attachments": {},
   "cell_type": "markdown",
   "id": "018e9568",
   "metadata": {},
   "source": [
    "Because we are looking for a pre-trained feature extractor here, we decide to only use the features part and freeze its weights. We can then add a few subsequent layers to fine tune predictions. We can thus define the following model:"
   ]
  },
  {
   "cell_type": "code",
   "execution_count": 157,
   "id": "a051bb05",
   "metadata": {},
   "outputs": [],
   "source": [
    "class CoralModel(nn.Module):\n",
    "\n",
    "    def __init__(self, num_classes=13, dropout_rate=0.5):\n",
    "        \n",
    "        super(CoralModel, self).__init__()\n",
    "        \n",
    "        # Define the layers of the model\n",
    "        self.features = torchvision.models.vgg16(weights='VGG16_Weights.IMAGENET1K_V1').features\n",
    "        self.classifier = nn.Sequential(\n",
    "            nn.Linear(4608, 1024),\n",
    "            nn.ReLU(True),\n",
    "            nn.Dropout(dropout_rate),\n",
    "            nn.Linear(1024, 512),\n",
    "            nn.ReLU(True),\n",
    "            nn.Dropout(dropout_rate),\n",
    "            nn.Linear(512, num_classes)\n",
    "        )\n",
    "\n",
    "        # Set the features to not require gradients\n",
    "        for param in self.features.parameters():\n",
    "            param.requires_grad = False\n",
    "\n",
    "\n",
    "    def forward(self, x):\n",
    "        x = self.features(x)\n",
    "        x = torch.flatten(x, 1)\n",
    "        x = self.classifier(x)\n",
    "        return x\n"
   ]
  },
  {
   "attachments": {},
   "cell_type": "markdown",
   "id": "b7348424",
   "metadata": {},
   "source": [
    "# Training"
   ]
  },
  {
   "attachments": {},
   "cell_type": "markdown",
   "id": "c3c49179",
   "metadata": {},
   "source": [
    "We can start by finding the device to use for training:"
   ]
  },
  {
   "cell_type": "code",
   "execution_count": 158,
   "id": "1237640e",
   "metadata": {},
   "outputs": [],
   "source": [
    "DEVICE = torch.device(\"cuda\" if torch.cuda.is_available() else \"cpu\")\n",
    "if DEVICE == \"cuda\":\n",
    "    torch.cuda.empty_cache()"
   ]
  },
  {
   "attachments": {},
   "cell_type": "markdown",
   "id": "61cb4352",
   "metadata": {},
   "source": [
    "We can then go ahead and define the loss function we will be using. \n",
    "\n",
    "According to the specified model architecture, the CORAL model utilizes two loss functions. The first one is the classification loss, for whihc we will opt for a balanced focal loss rather than the regular cross-entropy loss. The aim is to assign greater importance to the classes that are more challenging to classify. The focal loss can be defined using the following formula:\n",
    "\n",
    "$$\n",
    "FL(p_t) = -(1-p_t^{\\gamma})log(p_t)\n",
    "$$\n",
    "\n",
    "where gamma $\\gamma$ is a tunable hyperparameter. We can also further add an alpha term to handle class imbalance, making our loss function a class-balanced focal loss, as shown in https://github.com/AdeelH/pytorch-multi-class-focal-loss. \n",
    "Note: Since we have balanced classes thanks to oversmapling, we will not use the alpha parameter.\n"
   ]
  },
  {
   "attachments": {},
   "cell_type": "markdown",
   "id": "304c6a68",
   "metadata": {},
   "source": [
    "The second loss is the Coral loss. Coral loss is a type of distance metric used to align two sets of feature representations. It stands for \"correlation alignment\".\n",
    "\n",
    "The Coral loss aims to minimize the domain shift between two distributions by aligning the second-order statistics of their features. It computes the covariance matrix of the source and target features and then minimizes the Frobenius norm between the difference of the two covariance matrices. This way, the correlation between the features is preserved and domain shift is reduced.\n",
    "\n",
    "The Coral loss can be formulated as:\n",
    "\n",
    "$$\n",
    "L_{coral}(X_s, X_t) = \\lVert C_s - C_t \\rVert_{F}^2\n",
    "$$\n",
    "\n",
    "where $X_s$ and $X_t$ are the source and target feature representations respectively, and $C_s$ and $C_t$ are the covariance matrices of the source and target features.\n",
    "\n",
    "In addition to the loss function, a helper function can be defined to compute the covariance matrix:\n",
    "\n",
    "$$\n",
    "C(X) = \\frac{1}{n-1}(X-\\bar{X})^T(X-\\bar{X})\n",
    "$$\n",
    "\n",
    "where $X$ is a matrix of feature representations and $\\bar{X}$ is the mean of each feature. The following code is taken from the mentionned github repository: https://github.com/SSARCandy/DeepCORAL."
   ]
  },
  {
   "cell_type": "code",
   "execution_count": 159,
   "id": "734c90ce",
   "metadata": {},
   "outputs": [],
   "source": [
    "# def CORAL(source, target):\n",
    "#     d = source.data.shape[1]\n",
    "\n",
    "#     # source covariance\n",
    "#     xm = torch.mean(source, 0, keepdim=True) - source\n",
    "#     xc = xm.t() @ xm\n",
    "\n",
    "#     # target covariance\n",
    "#     xmt = torch.mean(target, 0, keepdim=True) - target\n",
    "#     xct = xmt.t() @ xmt\n",
    "\n",
    "#     # frobenius norm between source and target\n",
    "#     loss = torch.mean(torch.mul((xc - xct), (xc - xct)))\n",
    "#     loss = loss/(4*d*d)\n",
    "\n",
    "#     return loss\n",
    "\n",
    "def CORAL(source_features, target_features):\n",
    "    source_cov = torch.matmul(source_features.T, source_features)\n",
    "    target_cov = torch.matmul(target_features.T, target_features)\n",
    "    loss = torch.mean(torch.square(source_cov - target_cov))\n",
    "    return loss"
   ]
  },
  {
   "attachments": {},
   "cell_type": "markdown",
   "id": "f4ecaecd",
   "metadata": {},
   "source": [
    "The total loss used in the backward step of our model is therefore represented by the following equation:\n",
    "\n",
    "$$\n",
    "TotalLoss = ClassificationLoss + \\lambda DomainLoss\n",
    "$$\n",
    "$$\n",
    "TotalLoss = FC + \\lambda L_{coral}(X_s, X_t)\n",
    "$$"
   ]
  },
  {
   "attachments": {},
   "cell_type": "markdown",
   "id": "e28a4adc",
   "metadata": {},
   "source": [
    "We also adjust the hyperparameter $\\lambda$, which determines the weight of the coral loss term in the total loss function.\" In other words, $\\lambda$ controls the contribution of the coral loss to the overall loss value, with larger values of $\\lambda$ giving the coral loss term more weight in the optimization process."
   ]
  },
  {
   "attachments": {},
   "cell_type": "markdown",
   "id": "057bb473",
   "metadata": {},
   "source": [
    "Finally, we need an accuracy metric to tune the hyperparameters of the model. We will opt for a balanced accuracy score, which is just regular classification accuracy but adapted to weigh each class by its frequency:"
   ]
  },
  {
   "cell_type": "code",
   "execution_count": 160,
   "id": "c3ba9216",
   "metadata": {},
   "outputs": [],
   "source": [
    "f1_score = torchmetrics.F1Score(task=\"multiclass\", num_classes=13, average=\"weighted\").to(DEVICE)\n",
    "accuracy = torchmetrics.Accuracy(task=\"multiclass\", num_classes=13, average=\"weighted\").to(DEVICE)"
   ]
  },
  {
   "attachments": {},
   "cell_type": "markdown",
   "id": "2047f74c",
   "metadata": {},
   "source": [
    "Finally, because we are using balanced accuracy scores, we can use the class analytics gathered during pre-processing to define the following class distribution array:"
   ]
  },
  {
   "cell_type": "code",
   "execution_count": 161,
   "id": "36161b82",
   "metadata": {},
   "outputs": [
    {
     "name": "stdout",
     "output_type": "stream",
     "text": [
      "1.0001\n",
      "0.9998999999999999\n"
     ]
    }
   ],
   "source": [
    "class_proportions_gen = np.array([0.3198, 0.1602, 0.0405, 0.0400, 0.0406, 0.0201, 0.0404, 0.1596, 0.0392, 0.0397, 0.0400, 0.0196, 0.0404])\n",
    "class_proportions_real = np.array([0.3228, 0.1738, 0.0347, 0.0415, 0.0454, 0.0206, 0.0354, 0.1490, 0.0284, 0.0463, 0.0432, 0.0234, 0.0354])\n",
    "\n",
    "# Print the sum of the class proportions as a sanity check\n",
    "print(class_proportions_gen.sum())\n",
    "print(class_proportions_real.sum())"
   ]
  },
  {
   "attachments": {},
   "cell_type": "markdown",
   "id": "c1e13081",
   "metadata": {},
   "source": [
    " We can now proceed to defining a function that creates a data loader for both datasets, oversampling the minority classes and applying horizontal flip and blur transformations:\n"
   ]
  },
  {
   "cell_type": "code",
   "execution_count": 162,
   "id": "ad76b6f2",
   "metadata": {},
   "outputs": [],
   "source": [
    "def get_gen_loader(dataset, batch_size):\n",
    "\n",
    "    # Define the sampler\n",
    "    class_weights = 1. / torch.tensor(class_proportions_gen, dtype=torch.float) # The weights of the classes\n",
    "    sample_weights = class_weights[dataset.labels] # Assign each label its corresponding weight\n",
    "    sampler = torch.utils.data.WeightedRandomSampler(sample_weights, len(sample_weights))\n",
    "\n",
    "    return DataLoader(dataset, batch_size=batch_size, sampler=sampler)\n",
    "\n",
    "def get_real_loader(dataset, batch_size):\n",
    "\n",
    "    # Define the sampler\n",
    "    class_weights = 1. / torch.tensor(class_proportions_real, dtype=torch.float) # The weights of the classes\n",
    "    sample_weights = class_weights[dataset.labels] # Assign each label its corresponding weight\n",
    "    sampler = torch.utils.data.WeightedRandomSampler(sample_weights, len(sample_weights))\n",
    "\n",
    "    return DataLoader(dataset, batch_size=batch_size, sampler=sampler)"
   ]
  },
  {
   "attachments": {},
   "cell_type": "markdown",
   "id": "2ad6b2b4",
   "metadata": {},
   "source": [
    "We can now load a single example from the loader and display its label as well as its class proportion, which should be around 1/13 which is +- 8%."
   ]
  },
  {
   "cell_type": "code",
   "execution_count": 163,
   "id": "82f2ebd3",
   "metadata": {},
   "outputs": [
    {
     "data": {
      "image/png": "[encoded data removed]",
      "text/plain": [
       "<Figure size 640x480 with 1 Axes>"
      ]
     },
     "metadata": {},
     "output_type": "display_data"
    }
   ],
   "source": [
    "gen_train_loader = get_gen_loader(train_gen_dataset, batch_size=200)\n",
    "\n",
    "for i, (images, labels) in enumerate(gen_train_loader):\n",
    "    class_proportions = [(labels == i).sum() / len(labels) for i in range(13)]\n",
    "    plt.title(\"label: \" + str(labels[0].item()) + \" proportion: \" + str(class_proportions[labels[0].item()].item() * 100) + \"%\")\n",
    "    plt.imshow(images[0].permute(1, 2, 0))\n",
    "    break"
   ]
  },
  {
   "attachments": {},
   "cell_type": "markdown",
   "id": "3fa0629a",
   "metadata": {},
   "source": [
    "We can also define the following function for plotting the metrics collected during training:"
   ]
  },
  {
   "cell_type": "code",
   "execution_count": 164,
   "id": "162e9f9e",
   "metadata": {},
   "outputs": [],
   "source": [
    "def plot_and_save_metrics(gen_training_losses, class_losses, domain_losses, gen_training_accs, gen_training_f1s, gen_validation_losses, gen_validation_accs, gen_validation_f1s, real_validation_losses, real_validation_accs, real_validation_f1s, gamma, batch_size, dropout_rate):\n",
    "\n",
    "    validation_x_axis = np.arange(0, len(gen_validation_losses) * n_validation, n_validation)\n",
    "\n",
    "    plt.figure(figsize=(30, 30))\n",
    "\n",
    "    plt.subplot(3, 2, 1)\n",
    "    plt.plot(gen_training_losses, label=\"Total Loss\")\n",
    "    plt.plot(class_losses, label=\"Classification Loss\")\n",
    "    plt.plot(domain_losses, label=\"Domain Loss\")\n",
    "    plt.title(\"Training Losses (Total, Classification and Domain Losses)\")\n",
    "    plt.xlabel(\"Iteration\")\n",
    "    plt.ylabel(\"Loss\")\n",
    "    plt.legend()\n",
    "\n",
    "    plt.subplot(3, 2, 2)\n",
    "    plt.plot(gen_training_accs)\n",
    "    plt.title(\"Training Accuracies\")\n",
    "    plt.xlabel(\"Iteration\")\n",
    "    plt.ylabel(\"Accuracy\")\n",
    "\n",
    "    plt.subplot(3, 2, 3)\n",
    "    plt.plot(gen_training_f1s)\n",
    "    plt.title(\"Training weighted F1 scores\")\n",
    "    plt.xlabel(\"Iteration\")\n",
    "    plt.ylabel(\"Weighted F1 score\")\n",
    "\n",
    "    plt.subplot(3, 2, 4)\n",
    "    plt.plot(validation_x_axis, gen_validation_losses, label=\"Source domain\")\n",
    "    plt.plot(validation_x_axis, real_validation_losses, label=\"Target domain\")\n",
    "    plt.title(\"Validation Losses\")\n",
    "    plt.xlabel(\"Iteration\")\n",
    "    plt.ylabel(\"Focal loss\")\n",
    "    plt.legend()\n",
    "\n",
    "    plt.subplot(3, 2, 5)\n",
    "    plt.plot(validation_x_axis, gen_validation_accs, label=\"Source domain\")\n",
    "    plt.plot(validation_x_axis, real_validation_accs, label=\"Target domain\")\n",
    "    plt.title(\"Validation Accuracies\")\n",
    "    plt.xlabel(\"Iteration\")\n",
    "    plt.ylabel(\"Accuracy\")\n",
    "    plt.legend()\n",
    "\n",
    "    plt.subplot(3, 2, 6)\n",
    "    plt.plot(validation_x_axis, gen_validation_f1s, label=\"Source domain\")\n",
    "    plt.plot(validation_x_axis, real_validation_f1s, label=\"Target domain\")\n",
    "    plt.title(\"Validation weighted F1 Scores\")\n",
    "    plt.xlabel(\"Iteration\")\n",
    "    plt.ylabel(\"Weighted F1 Score\")\n",
    "    plt.legend()\n",
    "\n",
    "    plt.suptitle(\"Hyperparameters: gamma: \" + str(gamma) + \", batch_size: \" + str(batch_size) + \", dropout_rate: \" + str(dropout_rate), fontsize=24)\n",
    "    \n",
    "    plt.savefig(\"HP tuning results/\" + \"gamma_\" + str(gamma) + \"_batch_\" + str(batch_size) + \"_dropout_\" + str(dropout_rate) + \".png\",  facecolor='white', transparent=False)\n",
    "    plt.close()"
   ]
  },
  {
   "attachments": {},
   "cell_type": "markdown",
   "id": "4e0fb873",
   "metadata": {},
   "source": [
    "We can now proceed to train our model:"
   ]
  },
  {
   "cell_type": "code",
   "execution_count": 165,
   "id": "02e90133",
   "metadata": {},
   "outputs": [
    {
     "name": "stderr",
     "output_type": "stream",
     "text": [
      "  0%|          | 1/893 [01:34<23:29:09, 94.79s/it]"
     ]
    },
    {
     "name": "stdout",
     "output_type": "stream",
     "text": [
      "----------------------------------------------------------------\n",
      "EPOCH [1], ITERATION [1]\n",
      "TRAINING => Total Loss: 2.193307876586914, Classification Loss: 2.1906540393829346, CORAL loss: 0.005307438783347607, Training accuracy: 0.07999999076128006, Training weighted F1: 0.05799185484647751\n",
      "GENERATED VALIDATION => Loss: 2.074993133544922, Validation accuracy: 0.17499999701976776, Validation weighted F1: 0.09228627383708954\n",
      "REAL VALIDATION => Loss: 2.182999610900879, Validation accuracy: 0.06499999761581421, Validation weighted F1: 0.024961411952972412\n",
      "----------------------------------------------------------------\n"
     ]
    },
    {
     "name": "stderr",
     "output_type": "stream",
     "text": [
      "  1%|          | 10/893 [07:28<12:53:45, 52.58s/it]"
     ]
    },
    {
     "name": "stdout",
     "output_type": "stream",
     "text": [
      "----------------------------------------------------------------\n",
      "EPOCH [1], ITERATION [10]\n",
      "TRAINING => Total Loss: 2.0820584297180176, Classification Loss: 2.0324716567993164, CORAL loss: 0.099173404276371, Training accuracy: 0.25999999046325684, Training weighted F1: 0.18926988542079926\n",
      "GENERATED VALIDATION => Loss: 2.0567946434020996, Validation accuracy: 0.30000001192092896, Validation weighted F1: 0.21208830177783966\n",
      "REAL VALIDATION => Loss: 2.0992820262908936, Validation accuracy: 0.23000000417232513, Validation weighted F1: 0.15463003516197205\n",
      "----------------------------------------------------------------\n"
     ]
    },
    {
     "name": "stderr",
     "output_type": "stream",
     "text": [
      "  2%|▏         | 18/893 [11:49<8:19:56, 34.28s/it] "
     ]
    }
   ],
   "source": [
    "# To store the best model\n",
    "best_model = None\n",
    "best_acc = -1\n",
    "\n",
    "# Store the validation accuracies\n",
    "hp_final_accs = pd.DataFrame(columns=[\"Gamma\", \"Batch size\", \"Dropout rate\", \"Final validation accuracy\"])\n",
    "\n",
    "for gamma in gamma_focal_loss_choices:\n",
    "\n",
    "    for dropout_rate in dropout_rate_choices:\n",
    "\n",
    "        for lambda_coral in lambda_coral_choices:\n",
    "            # Define the data loaders accounting for the batch size\n",
    "            gen_train_loader = get_gen_loader(train_gen_dataset, batch_size=batch_size)\n",
    "            gen_val_loader = get_gen_loader(val_gen_dataset, batch_size=batch_size)\n",
    "            gen_test_loader = get_gen_loader(test_gen_dataset, batch_size=batch_size)\n",
    "            real_train_loader = get_real_loader(train_real_dataset, batch_size=batch_size)\n",
    "            real_val_loader = get_real_loader(val_real_dataset, batch_size=batch_size)\n",
    "            real_test_loader = get_real_loader(test_real_dataset, batch_size=batch_size)\n",
    "\n",
    "            # Define the new loss function (Taking into account gamma)\n",
    "            focal_loss = torch.hub.load(\n",
    "                'adeelh/pytorch-multi-class-focal-loss',\n",
    "                model='FocalLoss',\n",
    "                gamma=gamma, # No use of alpha since we have balanced classes now with the oversampling\n",
    "                reduction='mean',\n",
    "                force_reload=False,\n",
    "                verbose = False\n",
    "            ).to(DEVICE)\n",
    "\n",
    "            # To store the metrics through epochs\n",
    "            gen_training_losses = []\n",
    "            gen_training_accs = []\n",
    "            gen_training_f1s = []\n",
    "            gen_validation_losses = []\n",
    "            gen_validation_accs = []\n",
    "            gen_validation_f1s = []\n",
    "            real_validation_losses = []\n",
    "            real_validation_accs = []\n",
    "            real_validation_f1s = []\n",
    "            class_losses = []\n",
    "            domain_losses = []\n",
    "\n",
    "            # Define the model and the optimizer\n",
    "            coralmodel = CoralModel(dropout_rate=dropout_rate).to(DEVICE)\n",
    "            opt = optim.Adam(coralmodel.parameters(), lr=learning_rate)\n",
    "            \n",
    "            for epoch in range(num_epochs):\n",
    "                \n",
    "                # Train the model\n",
    "                for iteration, ((X_train_gen, y_train_gen), (X_train_real, _)) in tqdm(enumerate(zip(gen_train_loader, real_train_loader)), total=len(gen_train_loader)):\n",
    "                    \n",
    "                    # Set the model to training mode\n",
    "                    coralmodel.train()\n",
    "\n",
    "                    # Move the data to the device\n",
    "                    X_train_gen = X_train_gen.to(DEVICE)\n",
    "                    y_train_gen = y_train_gen.to(DEVICE)\n",
    "\n",
    "                    # Forward pass for source data (Generated data)\n",
    "                    y_train_pred_raw_gen = coralmodel(X_train_gen)\n",
    "                    y_train_pred_gen = torch.argmax(y_train_pred_raw_gen, dim=1)\n",
    "\n",
    "                    # Forward pass for target data (Real data)\n",
    "                    y_train_pred_raw_real = coralmodel(X_train_real)\n",
    "                    y_train_pred_real = torch.argmax(y_train_pred_raw_real, dim=1)\n",
    "\n",
    "                    # Compute the classification loss (Focal loss)\n",
    "                    loss_train = focal_loss(y_train_pred_raw_gen, y_train_gen.long())\n",
    "\n",
    "                    # Compute the domain loss (CORAL loss)\n",
    "                    domain_loss = CORAL(y_train_pred_raw_gen, y_train_pred_raw_real)\n",
    "\n",
    "                    # Get the total loss\n",
    "                    total_loss = loss_train + lambda_coral * domain_loss\n",
    "\n",
    "                    # Compute the accuracy\n",
    "                    acc_train = accuracy(y_train_pred_gen, y_train_gen)\n",
    "                    f1_train = f1_score(y_train_pred_gen, y_train_gen)\n",
    "\n",
    "                    # Backward pass\n",
    "                    opt.zero_grad()\n",
    "                    total_loss.backward()\n",
    "                    opt.step()\n",
    "\n",
    "                    # Store the loss & accuracy\n",
    "                    gen_training_losses.append(total_loss.item())\n",
    "                    gen_training_accs.append(acc_train.item())\n",
    "                    gen_training_f1s.append(f1_train.item())\n",
    "                    \n",
    "                    # Store corresponding class and domain losses\n",
    "                    class_losses.append(loss_train.item())\n",
    "                    domain_losses.append(domain_loss.item())\n",
    "                    \n",
    "                    # Check if the model should be validated\n",
    "                    if iteration == 0 or (iteration + 1) % n_validation == 0:\n",
    "                        \n",
    "                        # Set the model to evaluation mode\n",
    "                        coralmodel.eval()\n",
    "                        \n",
    "                        # Disable gradient calculation\n",
    "                        with torch.no_grad():\n",
    "\n",
    "                            # 1) Evaluate on the generated validation set\n",
    "                            acc_val_sum = 0\n",
    "                            weighted_f1_val_sum = 0\n",
    "                            loss_val_sum = 0\n",
    "\n",
    "                            # Extract an iterator from the generated data loader\n",
    "                            gen_val_iter = iter(gen_val_loader)\n",
    "\n",
    "                            # Iterate for n_validation_minibatches\n",
    "                            for i in range(n_validation_minibatches):\n",
    "\n",
    "                                # Get the next minibatch\n",
    "                                X_val_gen, y_val_gen = next(gen_val_iter)\n",
    "                                    \n",
    "                                # Move the data to the device\n",
    "                                X_val_gen = X_val_gen.to(DEVICE)\n",
    "                                y_val_gen = y_val_gen.to(DEVICE)\n",
    "\n",
    "                                # Forward pass\n",
    "                                y_val_pred_raw_gen = coralmodel(X_val_gen)\n",
    "                                y_val_pred_gen = torch.argmax(y_val_pred_raw_gen, dim=1)\n",
    "\n",
    "                                # Compute the metrics\n",
    "                                acc_val_sum += accuracy(y_val_pred_gen, y_val_gen)\n",
    "                                weighted_f1_val_sum += f1_score(y_val_pred_gen, y_val_gen)\n",
    "                                loss_val_sum += focal_loss(y_val_pred_raw_gen, y_val_gen)\n",
    "\n",
    "                            # Compute the average metrics\n",
    "                            acc_val_gen = acc_val_sum / n_validation_minibatches\n",
    "                            loss_val_gen = loss_val_sum / n_validation_minibatches\n",
    "                            weighted_f1_val_gen = weighted_f1_val_sum / n_validation_minibatches\n",
    "\n",
    "                            # 2) Repeat on the real validation set\n",
    "                            acc_val_sum = 0\n",
    "                            weighted_f1_val_sum = 0\n",
    "                            loss_val_sum = 0\n",
    "\n",
    "                            # Extract an iterator from the generated data loader\n",
    "                            real_val_iter = iter(real_val_loader)\n",
    "\n",
    "                            # Iterate for n_validation_minibatches\n",
    "                            for i in range(n_validation_minibatches):\n",
    "\n",
    "                                # Get the next minibatch\n",
    "                                X_val_real, y_val_real = next(real_val_iter)\n",
    "                                    \n",
    "                                # Move the data to the device\n",
    "                                X_val_real = X_val_real.to(DEVICE)\n",
    "                                y_val_real = y_val_real.to(DEVICE)\n",
    "\n",
    "                                # Forward pass\n",
    "                                y_val_pred_raw_real = coralmodel(X_val_real)\n",
    "                                y_val_pred_real = torch.argmax(y_val_pred_raw_real, dim=1)\n",
    "\n",
    "                                # Compute the metrics\n",
    "                                acc_val_sum += accuracy(y_val_pred_real, y_val_real)\n",
    "                                weighted_f1_val_sum += f1_score(y_val_pred_real, y_val_real)\n",
    "                                loss_val_sum += focal_loss(y_val_pred_raw_real, y_val_real)\n",
    "\n",
    "                            # Compute the average metrics\n",
    "                            acc_val_real = acc_val_sum / n_validation_minibatches\n",
    "                            loss_val_real = loss_val_sum / n_validation_minibatches\n",
    "                            weighted_f1_val_real = weighted_f1_val_sum / n_validation_minibatches\n",
    "\n",
    "                            # Store all 6 metrics\n",
    "                            gen_validation_losses.append(loss_val_gen.item())\n",
    "                            gen_validation_accs.append(acc_val_gen.item())\n",
    "                            gen_validation_f1s.append(weighted_f1_val_gen.item())\n",
    "                            real_validation_losses.append(loss_val_real.item())\n",
    "                            real_validation_accs.append(acc_val_real.item())\n",
    "                            real_validation_f1s.append(weighted_f1_val_real.item())\n",
    "\n",
    "                            # Print an update\n",
    "                            print('----------------------------------------------------------------')\n",
    "                            print(f'EPOCH [{epoch + 1}], ITERATION [{iteration+1}]')\n",
    "                            print(f'TRAINING => Total Loss: {total_loss}, Classification Loss: {loss_train}, CORAL loss: {domain_loss}, Training accuracy: {acc_train}, Training weighted F1: {f1_train}')\n",
    "                            print(f'GENERATED VALIDATION => Loss: {loss_val_gen}, Validation accuracy: {acc_val_gen}, Validation weighted F1: {weighted_f1_val_gen}')\n",
    "                            print(f'REAL VALIDATION => Loss: {loss_val_real}, Validation accuracy: {acc_val_real}, Validation weighted F1: {weighted_f1_val_real}')\n",
    "                            print('----------------------------------------------------------------')\n",
    "\n",
    "                # Save the model every epoch as a checkpoint \n",
    "                torch.save(coralmodel.state_dict(), f'./checkpoints/coralmodel_gamma_{gamma}_dropout_{dropout_rate}_batch_{batch_size}_epoch_{epoch+1}.ckpt')\n",
    "\n",
    "\n",
    "            # Evaluate the final real life validation accuracy\n",
    "\n",
    "            # Set the model to evaluation mode\n",
    "            coralmodel.eval()\n",
    "            acc_val_sum = 0\n",
    "\n",
    "            # Create an iterator\n",
    "            real_val_iter = iter(real_val_loader)\n",
    "\n",
    "            # Disable gradient calculation\n",
    "            with torch.no_grad():\n",
    "                \n",
    "                for i in range(n_final_validation_minibatches):\n",
    "\n",
    "                    # Get the next minibatch\n",
    "                    minibatch = next(real_val_iter, None)\n",
    "                    if minibatch is None:\n",
    "                        real_val_iter = iter(real_val_loader)\n",
    "                        minibatch = next(real_val_iter, None)\n",
    "                    X_val_real, y_val_real = minibatch\n",
    "\n",
    "                    # Move the data to the device\n",
    "                    X_val_real = X_val_real.to(DEVICE)\n",
    "                    y_val_real = y_val_real.to(DEVICE)\n",
    "\n",
    "                    # Forward pass\n",
    "                    y_val_pred_prob_real = coralmodel(X_val_real)\n",
    "                    y_val_pred_real = torch.argmax(y_val_pred_prob_real, dim=1)\n",
    "\n",
    "                    # Compute the metrics\n",
    "                    acc_val_sum += accuracy(y_val_pred_real, y_val_real)\n",
    "\n",
    "            # Compute the average accuracy\n",
    "            final_real_val_acc = acc_val_sum / n_final_validation_minibatches\n",
    "\n",
    "            # Create a row to add to the dataframe\n",
    "            row = [gamma, batch_size, dropout_rate, final_real_val_acc.cpu().item()]\n",
    "\n",
    "            # Store it\n",
    "            hp_final_accs.loc[len(hp_final_accs)] = row\n",
    "\n",
    "            # Compare to the best model\n",
    "            if best_model is None or best_acc < final_real_val_acc:\n",
    "                best_model = coralmodel\n",
    "                best_acc = final_real_val_acc\n",
    "                torch.save(coralmodel.state_dict(), f'./best_model.ckpt')\n",
    "\n",
    "            # Plot and save the metrics\n",
    "            plot_and_save_metrics(gen_training_losses, class_losses, domain_losses, gen_training_accs, gen_training_f1s, gen_validation_losses, gen_validation_accs, gen_validation_f1s, real_validation_losses, real_validation_accs, real_validation_f1s, gamma, batch_size, dropout_rate)\n",
    "\n",
    "# Save the dataframe as a table\n",
    "hp_final_accs.to_csv('HP_final_accuracies.csv', index=False)\n"
   ]
  },
  {
   "attachments": {},
   "cell_type": "markdown",
   "id": "64e5fcf3",
   "metadata": {},
   "source": [
    "After this code runs, the best model can be found in the directory of the script."
   ]
  }
 ],
 "metadata": {
  "kernelspec": {
   "display_name": "Python 3 (ipykernel)",
   "language": "python",
   "name": "python3"
  },
  "language_info": {
   "codemirror_mode": {
    "name": "ipython",
    "version": 3
   },
   "file_extension": ".py",
   "mimetype": "text/x-python",
   "name": "python",
   "nbconvert_exporter": "python",
   "pygments_lexer": "ipython3",
   "version": "3.7.8"
  }
 },
 "nbformat": 4,
 "nbformat_minor": 5
}
